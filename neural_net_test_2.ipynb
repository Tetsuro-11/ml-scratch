{
 "cells": [
  {
   "cell_type": "markdown",
   "metadata": {},
   "source": [
    "# ニューラルネット実装\n",
    "\n",
    "層が可変なコードを実装する。"
   ]
  },
  {
   "cell_type": "markdown",
   "metadata": {},
   "source": [
    "neural_net_test_1での実装は以下のコード  \n",
    "[ScratchSimpleNeuralNetworkClassifier]"
   ]
  },
  {
   "cell_type": "markdown",
   "metadata": {},
   "source": [
    "```python\n",
    "class ScratchSimpleNeuralNetworkClassifier():\n",
    "    def __init__(self, verbose=True, lr=0.01, sigma=0.01):\n",
    "        self.verbose = True\n",
    "        self.batch_size = 10 # バッチサイズ\n",
    "        self.n_features = 784 # 特徴量の数\n",
    "        self.n_nodes1 = 400 # 1層目のノード数\n",
    "        self.n_nodes2 = 200 # 2層目のノード数\n",
    "        self.n_output = 10 # 出力のクラス数（3層目のノード数）\n",
    "        self.sigma = 0.01 # ガウス分布の標準偏差\n",
    "        self.lr = 0.1\n",
    "        self.n_epoch = 5\n",
    "        self.loss_list = []\n",
    "        \n",
    "        # それぞれの重み、バイアスの初期値\n",
    "        self.w_1 = self.sigma * np.random.randn(n_features,n_nodes1)\n",
    "        self.b_1 = self.sigma * np.random.randn(n_nodes1)\n",
    "        self.w_2 = self.sigma * np.random.randn(n_nodes1, n_nodes2)\n",
    "        self.b_2 = self.sigma * np.random.randn(n_nodes2)\n",
    "        self.w_3 = self.sigma * np.random.randn(n_nodes2, n_output)\n",
    "        self.b_3 = self.sigma * np.random.randn(n_output)\n",
    "    \n",
    "    def fit(self, X_train, y_train): \n",
    "        get_mini_batch = GetMiniBatch(X_train, y_train, batch_size=10)\n",
    "        for epoch in range(10):\n",
    "            print('epoch: {}'.format(epoch+1))\n",
    "            for mini_X_train, mini_y_train in get_mini_batch:\n",
    "\n",
    "                # forward\n",
    "                # 1層目\n",
    "                w_in_1 = np.dot(mini_X_train, self.w_1) + self.b_1\n",
    "                out_1 = sigmoid(w_in_1) \n",
    "\n",
    "                # ２層目\n",
    "                w_in_2 = np.dot(out_1, self.w_2) + self.b_2\n",
    "                out_2 = sigmoid(w_in_2)\n",
    "\n",
    "                # ３層目\n",
    "                w_in_3 = np.dot(out_2, self.w_3) + self.b_3\n",
    "                y_pred = softmax(w_in_3)\n",
    "\n",
    "                # backpropagation\n",
    "                # 3層目\n",
    "                y_hat = y_pred - mini_y_train\n",
    "                self.b_3 -= lr * np.mean(y_hat, axis=0)\n",
    "                back_z2 = np.dot(y_hat, self.w_3.T)\n",
    "                self.w_3 -= lr * np.dot(out_2.T, y_hat)/batch_size\n",
    "\n",
    "                # 2層目\n",
    "                back_a2 = back_z2 * (1-sigmoid(w_in_2)) * sigmoid(w_in_2) #(10,200)\n",
    "                self.b_2 -= lr * np.mean(back_a2, axis=0)\n",
    "                back_z1 = np.dot(back_a2, self.w_2.T)\n",
    "                self.w_2 -= lr * np.dot(out_1.T, back_a2)/batch_size\n",
    "\n",
    "\n",
    "                # 1層目\n",
    "                back_a1 = back_z1 * (1-sigmoid(w_in_1)) * sigmoid(w_in_1) #(10,400)(10,400)\n",
    "                self.b_1 -= lr * np.mean(back_a1, axis=0)\n",
    "                self.w_1 -= lr * np.dot(mini_X_train.T, back_a1)/batch_size\n",
    "                \n",
    "            # lossの格納\n",
    "            self.loss_list.append(cross_entropy(y_pred, mini_y_train))\n",
    "                \n",
    "    def predict(self, X):\n",
    "        \n",
    "        # forward\n",
    "        # 1層目\n",
    "        w_in_1 = np.dot(X, self.w_1) + self.b_1\n",
    "        out_1 = sigmoid(w_in_1) \n",
    "        # ２層目\n",
    "        w_in_2 = np.dot(out_1, self.w_2) + self.b_2\n",
    "        out_2 = sigmoid(w_in_2)\n",
    "        # ３層目\n",
    "        w_in_3 = np.dot(out_2, self.w_3) + self.b_3\n",
    "        y_pred = softmax(w_in_3)\n",
    "        return y_pred\n",
    "    \n",
    "    def _softmax(self, X):\n",
    "        if X.ndim == 2:\n",
    "            X = X.T\n",
    "            X = X - np.max(X, axis=0)\n",
    "            y = np.exp(X) / np.sum(np.exp(X), axis=0)\n",
    "            return y.T\n",
    "\n",
    "        X = X - np.max(X)\n",
    "        return np.exp(X) / np.sum(np.exp(X))\n",
    "\n",
    "    def _sigmoid(self, X):\n",
    "        return 1/(1+np.exp(-X))\n",
    "    \n",
    "    def _cross_entropy(self,y_pred, y_true):\n",
    "        delta = 1e-7\n",
    "        return -np.sum(y_true*np.log(y_pred+delta))\n",
    "```"
   ]
  },
  {
   "cell_type": "markdown",
   "metadata": {},
   "source": [
    "### 層が可変のニューラルネットクラス"
   ]
  },
  {
   "cell_type": "code",
   "execution_count": 5,
   "metadata": {},
   "outputs": [],
   "source": [
    "import numpy as np\n",
    "from keras.datasets import mnist\n",
    "import numpy as np\n",
    "import matplotlib.pyplot as plt\n",
    "from sklearn.preprocessing import OneHotEncoder\n",
    "from sklearn.model_selection import train_test_split\n",
    "from sklearn.metrics import accuracy_score\n",
    "from tqdm import tqdm\n",
    "from tqdm import trange\n",
    "import time\n",
    "%matplotlib inline\n",
    "\n",
    "# 学習、予測クラス\n",
    "class ScratchDeepNeuralNetworkClassifier():\n",
    "    def __init__(self,n_features=784, n_nodes1=40, n_nodes2=20, n_output=10,\n",
    "                 batch_size=100,epochs=20, sigma=0.1, lr=0.1, optimizer='SGD', initializer='simple'):\n",
    "        self.batch_size = batch_size # バッチサイズ\n",
    "        self.epochs = epochs #エポック数\n",
    "        self.n_features = n_features # 特徴量の数\n",
    "        self.n_nodes1 = n_nodes1 # 1層目のノード数\n",
    "        self.n_nodes2 = n_nodes2 # 2層目のノード数\n",
    "        self.n_output = n_output # 出力のクラス数（3層目のノード数）\n",
    "        self.sigma = sigma # ガウス分布の標準偏差\n",
    "        self.lr = lr #学習率\n",
    "        self.ave_loss_list = np.empty(self.epochs)\n",
    "        self.progres_loss_list = np.empty(self.epochs)\n",
    "        \n",
    "        # optimizerの設定\n",
    "        if optimizer == 'SGD':\n",
    "            self.optimizer = SGD(self.lr)\n",
    "        elif optimizer == 'AdaGrad':\n",
    "            self.optimizer = AdaGrad(self.lr)\n",
    "            \n",
    "        if initializer == 'simple':\n",
    "            self.initializer = SimpleInitializer()\n",
    "        elif initializer == 'xavier':\n",
    "            self.initializer = XavierInitializer()\n",
    "        elif initializer == 'he':\n",
    "            self.initializer = HeInitializer()\n",
    "        \n",
    "        if (X_val is not None) and (y_val is not None):\n",
    "            self.val_ave_loss_list = np.empty(self.epochs)\n",
    "\n",
    "        \n",
    "    \n",
    "    def fit(self, X, y, X_val=None, y_val=None):\n",
    "        self.FC1 = FC(self.n_features, self.n_nodes1, optimizer=self.optimizer, initializer=self.initializer)\n",
    "        self.activation1 = Sigmoid()\n",
    "        self.FC2 = FC(self.n_nodes1, self.n_nodes2, optimizer=self.optimizer, initializer=self.initializer)\n",
    "        self.activation2 = Sigmoid()\n",
    "        self.FC3 = FC(self.n_nodes2, self.n_output, optimizer=self.optimizer, initializer=self.initializer)\n",
    "        self.activation3 = Softmax()\n",
    "        \n",
    "        with trange(self.epochs) as loop:\n",
    "            for epoch in loop:\n",
    "                loop.set_description(\"epoch\")\n",
    "                get_mini_batch = GetMiniBatch(X, y, self.batch_size)\n",
    "                loss_list = np.empty(int(len(X)/self.batch_size))\n",
    "                count_iter = 0\n",
    "\n",
    "    #             if self.verbose == True:\n",
    "    #                 get_mini_batch = tqdm(get_mini_batch)\n",
    "    #                 get_mini_batch.set_description(f\"epoch:{epoch+1}\n",
    "\n",
    "                for mini_X_train, mini_y_train in get_mini_batch:\n",
    "\n",
    "                    # フォワードプロパゲーション\n",
    "                    y_pred = self.predict(mini_X_train)\n",
    "\n",
    "                    #バックプロパゲーション\n",
    "                    dA3 = self.activation3.backward(mini_y_train) # 交差エントロピー誤差とソフトマックスを合わせている\n",
    "                    dZ2 = self.FC3.backward(dA3)\n",
    "                    dA2 = self.activation2.backward(dZ2)\n",
    "                    dZ1 = self.FC2.backward(dA2)\n",
    "                    dA1 = self.activation1.backward(dZ1)\n",
    "                    dZ0 = self.FC1.backward(dA1) # dZ0は使用しない\n",
    "\n",
    "                    loss_list[count_iter]=self._cross_entropy(y_pred, mini_y_train)/mini_X_train.shape[0]\n",
    "                    count_iter+=1\n",
    "                count_iter = 0\n",
    "                self.progres_loss_list[epoch]=self._cross_entropy(y_pred, mini_y_train)/mini_X_train.shape[0]\n",
    "                self.ave_loss_list[epoch]=np.mean(loss_list)\n",
    "\n",
    "                # validation用\n",
    "                if (X_val is not None) and (y_val is not None):\n",
    "                    y_val_pred =  self.predict(X_val)\n",
    "                    self.val_ave_loss_list[epoch]=self._cross_entropy(y_val_pred, y_val)/X_val.shape[0]\n",
    "            \n",
    "    def predict(self, X):\n",
    "        A1 = self.FC1.forward(X)\n",
    "        Z1 = self.activation1.forward(A1)\n",
    "        A2 = self.FC2.forward(Z1)\n",
    "        Z2 = self.activation2.forward(A2)\n",
    "        A3 = self.FC3.forward(Z2)\n",
    "        Z3 = self.activation3.forward(A3)\n",
    "        return Z3\n",
    "    \n",
    "    def _cross_entropy(self, y_pred, y_true):\n",
    "        delta = 1e-7\n",
    "        return -np.sum(y_true*np.log(y_pred+delta))\n",
    "\n",
    "# 全結合層クラス\n",
    "class FC:\n",
    "    \n",
    "    def __init__(self, n_nodes1, n_nodes2, optimizer, initializer):\n",
    "        self.optimizer = optimizer\n",
    "        self.intializer = initializer\n",
    "        self.n_nodes1 = n_nodes1\n",
    "        self.n_nodes2 = n_nodes2\n",
    "        self.w = initializer.W(self.n_nodes1, self.n_nodes2)\n",
    "        self.b = initializer.B(self.n_nodes1, self.n_nodes2)\n",
    "        if isinstance(optimizer,AdaGrad):\n",
    "            self.h_w = np.ones((self.n_nodes1, self.n_nodes2)) *1e-5\n",
    "            self.h_b = np.ones((self.n_nodes2))*1e-5\n",
    "        # 初期化\n",
    "        # initializerのメソッドを使い、self.Wとself.Bを初期化する\n",
    "    def forward(self, X):\n",
    "        self.X = X\n",
    "        self.affine = np.dot(X, self.w) + self.b\n",
    "        return self.affine\n",
    "    \n",
    "    def backward(self, da):\n",
    "        dz = np.dot(da, self.w.T)\n",
    "        self.dw = np.dot(self.X.T, da)/da.shape[0]\n",
    "        self.db = np.mean(da, axis=0)\n",
    "        \n",
    "        # 更新\n",
    "        self = self.optimizer.update(self)\n",
    "        return dz\n",
    "    \n",
    "# 初期化クラス\n",
    "class SimpleInitializer:\n",
    "    def __init__(self, sigma=0.1):\n",
    "        self.sigma = sigma\n",
    "        \n",
    "    def W(self, n_nodes1, n_nodes2):\n",
    "        W = self.sigma * np.random.randn(n_nodes1,n_nodes2)\n",
    "        return W\n",
    "    \n",
    "    def B(self,n_nodes1, n_nodes2):\n",
    "        B = self.sigma * np.random.randn(n_nodes2)\n",
    "        return B\n",
    "    \n",
    "class XavierInitializer(SimpleInitializer):\n",
    "    def W(self, n_nodes1, n_nodes2):\n",
    "        self.sigma = 1/np.sqrt(n_nodes1)\n",
    "        W = self.sigma * np.random.randn(n_nodes1,n_nodes2)\n",
    "        return W\n",
    "        \n",
    "class HeInitializer(SimpleInitializer):\n",
    "    def W(self, n_nodes1, n_nodes2):\n",
    "        self.sigma = 1/np.sqrt(n_nodes1)\n",
    "        W = self.sigma * np.random.randn(n_nodes1,n_nodes2)\n",
    "        return W\n",
    "    \n",
    "    \n",
    "# 最適化クラス\n",
    "class SGD:\n",
    "    def __init__(self, lr=0.1):\n",
    "        self.lr = lr\n",
    "    def update(self, layer):\n",
    "        layer.w -= self.lr * layer.dw\n",
    "        layer.b -= self.lr * layer.db\n",
    "        return layer\n",
    "    \n",
    "class AdaGrad:\n",
    "    def __init__(self, lr=0.1):\n",
    "        self.lr = lr\n",
    "    def update(self, layer):\n",
    "        layer.h_w += np.power(layer.dw, 2)\n",
    "        layer.h_b += np.power(layer.db, 2)\n",
    "        layer.w -= self.lr * layer.dw/np.sqrt(layer.h_w)\n",
    "        layer.b -= self.lr * layer.db/np.sqrt(layer.h_b)\n",
    "        return layer\n",
    "\n",
    "#活性化関数層クラス\n",
    "class Sigmoid:\n",
    "    def forward(self, a):\n",
    "        self.z = 1/(1+np.exp(-a))\n",
    "        return self.z\n",
    "    \n",
    "    def backward(self, da):\n",
    "        return da * (1-self.z) * self.z\n",
    "        \n",
    "    \n",
    "class ReLu:\n",
    "    def forward(self, Z):\n",
    "         return np.maximum(0, Z)\n",
    "    \n",
    "    def backward(self, da):\n",
    "        return np.where(da > 0, 1, 0)\n",
    "        \n",
    "class tanh:\n",
    "    def forward(self, a):\n",
    "        self.z = np.tanh(a)\n",
    "        return self.z \n",
    "        \n",
    "    def backward(self, da):\n",
    "        return da * (1 - np.power(self.Z, 2))\n",
    "        \n",
    "class Softmax:\n",
    "    def forward(self, a):\n",
    "        if a.ndim == 2:\n",
    "            a = a.T - np.max(a.T, axis=0)\n",
    "            self.z = (np.exp(a) / np.sum(np.exp(a), axis=0)).T\n",
    "            return self.z\n",
    "        \n",
    "        a = a - np.max(a)\n",
    "        self.z = np.exp(a) / np.sum(np.exp(a))\n",
    "        return self.z\n",
    "\n",
    "        \n",
    "    def backward(self, y):\n",
    "        return self.z - y\n",
    "\n"
   ]
  },
  {
   "cell_type": "markdown",
   "metadata": {},
   "source": [
    "## データの読み込み、前処理"
   ]
  },
  {
   "cell_type": "code",
   "execution_count": 6,
   "metadata": {},
   "outputs": [
    {
     "name": "stdout",
     "output_type": "stream",
     "text": [
      "(60000,)\n",
      "(60000, 10)\n",
      "float64\n",
      "(48000, 784)\n",
      "(12000, 784)\n"
     ]
    }
   ],
   "source": [
    "# mnistの読み込み\n",
    "(X_train, y_train), (X_test, y_test) = mnist.load_data()\n",
    "\n",
    "# 平滑化\n",
    "X_train = X_train.reshape(-1, 784)\n",
    "X_test = X_test.reshape(-1, 784)\n",
    "\n",
    "# floatに変換\n",
    "X_train = X_train.astype(np.float)\n",
    "X_test = X_test.astype(np.float)\n",
    "\n",
    "# 正規化\n",
    "X_train /= 255\n",
    "X_test /= 255\n",
    "\n",
    "enc = OneHotEncoder(handle_unknown='ignore', sparse=False)\n",
    "y_train_one_hot = enc.fit_transform(y_train[:, np.newaxis])\n",
    "y_test_one_hot = enc.transform(y_test[:, np.newaxis])\n",
    "print(y_train.shape) # (60000,)\n",
    "print(y_train_one_hot.shape) # (60000, 10)\n",
    "print(y_train_one_hot.dtype) # float64\n",
    "\n",
    "X_train, X_val, y_train, y_val = train_test_split(X_train, y_train_one_hot, test_size=0.2)\n",
    "print(X_train.shape) # (48000, 784)\n",
    "print(X_val.shape) # (12000, 784)\n",
    "\n",
    "\n",
    "# ミニバッチを取得するクラス\n",
    "class GetMiniBatch:\n",
    "    def __init__(self, X, y, batch_size = 10, seed=0):\n",
    "        self.batch_size = batch_size\n",
    "        np.random.seed(seed)\n",
    "        shuffle_index = np.random.permutation(np.arange(X.shape[0]))\n",
    "        self.X = X[shuffle_index]\n",
    "        self.y = y[shuffle_index]\n",
    "        self._stop = np.ceil(X.shape[0]/self.batch_size).astype(np.int)\n",
    "\n",
    "    def __len__(self):\n",
    "        return self._stop\n",
    "\n",
    "    def __getitem__(self,item):\n",
    "        p0 = item*self.batch_size\n",
    "        p1 = item*self.batch_size + self.batch_size\n",
    "        return self.X[p0:p1], self.y[p0:p1]        \n",
    "\n",
    "    def __iter__(self):\n",
    "        self._counter = 0\n",
    "        return self\n",
    "\n",
    "    def __next__(self):\n",
    "        if self._counter >= self._stop:\n",
    "            raise StopIteration()\n",
    "        p0 = self._counter*self.batch_size\n",
    "        p1 = self._counter*self.batch_size + self.batch_size\n",
    "        self._counter += 1\n",
    "        return self.X[p0:p1], self.y[p0:p1]"
   ]
  },
  {
   "cell_type": "code",
   "execution_count": 7,
   "metadata": {},
   "outputs": [],
   "source": [
    "def learning_plot(clf):\n",
    "    plt.plot(clf.progres_loss_list, label='train', marker='o')\n",
    "    plt.plot(clf.val_ave_loss_list, label='test', marker='o')\n",
    "    plt.title('train and val loss')\n",
    "    plt.xlabel('epoch')\n",
    "    plt.ylabel('loss')\n",
    "    plt.legend();"
   ]
  },
  {
   "cell_type": "markdown",
   "metadata": {},
   "source": [
    "## 最適化手法と初期値を複数試す"
   ]
  },
  {
   "cell_type": "code",
   "execution_count": 8,
   "metadata": {},
   "outputs": [
    {
     "name": "stderr",
     "output_type": "stream",
     "text": [
      "epoch: 100%|██████████| 20/20 [00:11<00:00,  1.69it/s]\n"
     ]
    },
    {
     "data": {
      "image/png": "[encoded data removed]",
      "text/plain": [
       "<Figure size 432x288 with 1 Axes>"
      ]
     },
     "metadata": {
      "needs_background": "light"
     },
     "output_type": "display_data"
    }
   ],
   "source": [
    "clf1=ScratchDeepNeuralNetworkClassifier(optimizer='SGD', initializer='simple')\n",
    "clf1.fit(X_train, y_train, X_val, y_val)\n",
    "learning_plot(clf1)"
   ]
  },
  {
   "cell_type": "code",
   "execution_count": 9,
   "metadata": {},
   "outputs": [
    {
     "name": "stderr",
     "output_type": "stream",
     "text": [
      "epoch: 100%|██████████| 20/20 [00:11<00:00,  1.76it/s]\n"
     ]
    },
    {
     "data": {
      "image/png": "[encoded data removed]",
      "text/plain": [
       "<Figure size 432x288 with 1 Axes>"
      ]
     },
     "metadata": {
      "needs_background": "light"
     },
     "output_type": "display_data"
    }
   ],
   "source": [
    "clf2=ScratchDeepNeuralNetworkClassifier(optimizer='SGD', initializer='xavier')\n",
    "clf2.fit(X_train, y_train, X_val, y_val)\n",
    "learning_plot(clf2)"
   ]
  },
  {
   "cell_type": "code",
   "execution_count": 10,
   "metadata": {},
   "outputs": [
    {
     "name": "stderr",
     "output_type": "stream",
     "text": [
      "epoch: 100%|██████████| 20/20 [00:12<00:00,  1.61it/s]\n"
     ]
    },
    {
     "data": {
      "image/png": "[encoded data removed]",
      "text/plain": [
       "<Figure size 432x288 with 1 Axes>"
      ]
     },
     "metadata": {
      "needs_background": "light"
     },
     "output_type": "display_data"
    }
   ],
   "source": [
    "clf3=ScratchDeepNeuralNetworkClassifier(optimizer='SGD', initializer='he')\n",
    "clf3.fit(X_train, y_train, X_val, y_val)\n",
    "learning_plot(clf3)"
   ]
  },
  {
   "cell_type": "code",
   "execution_count": 19,
   "metadata": {},
   "outputs": [
    {
     "name": "stderr",
     "output_type": "stream",
     "text": [
      "epoch: 100%|██████████| 20/20 [00:23<00:00,  1.18s/it]\n"
     ]
    },
    {
     "data": {
      "image/png": "[encoded data removed]",
      "text/plain": [
       "<Figure size 432x288 with 1 Axes>"
      ]
     },
     "metadata": {
      "needs_background": "light"
     },
     "output_type": "display_data"
    }
   ],
   "source": [
    "clf4=ScratchDeepNeuralNetworkClassifier(optimizer='AdaGrad', initializer='simple')\n",
    "clf4.fit(X_train, y_train, X_val, y_val)\n",
    "learning_plot(clf4)"
   ]
  },
  {
   "cell_type": "code",
   "execution_count": 20,
   "metadata": {},
   "outputs": [
    {
     "name": "stderr",
     "output_type": "stream",
     "text": [
      "epoch: 100%|██████████| 20/20 [00:21<00:00,  1.06s/it]\n"
     ]
    },
    {
     "data": {
      "image/png": "[encoded data removed]",
      "text/plain": [
       "<Figure size 432x288 with 1 Axes>"
      ]
     },
     "metadata": {
      "needs_background": "light"
     },
     "output_type": "display_data"
    }
   ],
   "source": [
    "clf5=ScratchDeepNeuralNetworkClassifier(optimizer='AdaGrad', initializer='xavier')\n",
    "clf5.fit(X_train, y_train, X_val, y_val)\n",
    "learning_plot(clf5)"
   ]
  },
  {
   "cell_type": "code",
   "execution_count": 21,
   "metadata": {},
   "outputs": [
    {
     "name": "stderr",
     "output_type": "stream",
     "text": [
      "epoch: 100%|██████████| 20/20 [00:19<00:00,  1.04it/s]\n"
     ]
    },
    {
     "data": {
      "image/png": "[encoded data removed]",
      "text/plain": [
       "<Figure size 432x288 with 1 Axes>"
      ]
     },
     "metadata": {
      "needs_background": "light"
     },
     "output_type": "display_data"
    }
   ],
   "source": [
    "clf6=ScratchDeepNeuralNetworkClassifier(optimizer='AdaGrad', initializer='he')\n",
    "clf6.fit(X_train, y_train, X_val, y_val)\n",
    "learning_plot(clf6)"
   ]
  },
  {
   "cell_type": "markdown",
   "metadata": {},
   "source": [
    "## FC層の作成"
   ]
  },
  {
   "cell_type": "code",
   "execution_count": 2,
   "metadata": {},
   "outputs": [],
   "source": [
    "class FC:\n",
    "    \n",
    "    def __init__(self, n_nodes1, n_nodes2, optimizer, initializer):\n",
    "        self.optimizer = optimizer\n",
    "        self.intializer = initializer\n",
    "        self.n_nodes1 = n_nodes1\n",
    "        self.n_nodes2 = n_nodes2\n",
    "        self.w = initializer.W(self.n_nodes1, self.n_nodes2)\n",
    "        self.b = initializer.B(self.n_nodes1, self.n_nodes2)\n",
    "        if isinstance(optimizer,AdaGrad):\n",
    "            self.h_w = np.ones((self.n_nodes1, self.n_nodes2)) *1e-5\n",
    "            self.h_b = np.ones((self.n_nodes2))*1e-5\n",
    "        # 初期化\n",
    "        # initializerのメソッドを使い、self.Wとself.Bを初期化する\n",
    "    def forward(self, X):\n",
    "        self.X = X\n",
    "        self.affine = np.dot(X, self.w) + self.b\n",
    "        return self.affine\n",
    "    \n",
    "    def backward(self, da):\n",
    "        dz = np.dot(da, self.w.T)\n",
    "        self.dw = np.dot(self.X.T, da)/da.shape[0]\n",
    "        self.db = np.mean(da, axis=0)\n",
    "        \n",
    "        # 更新\n",
    "        self = self.optimizer.update(self)\n",
    "        return dz"
   ]
  },
  {
   "cell_type": "markdown",
   "metadata": {},
   "source": [
    "## 初期化方法クラス"
   ]
  },
  {
   "cell_type": "markdown",
   "metadata": {},
   "source": [
    "class SimpleInitializer:\n",
    "    def __init__(self, sigma=0.1):\n",
    "        self.sigma = sigma\n",
    "        \n",
    "    def W(self, n_nodes1, n_nodes2):\n",
    "        W = self.sigma * np.random.randn(n_nodes1,n_nodes2)\n",
    "        return W\n",
    "    \n",
    "    def B(self,n_nodes1, n_nodes2):\n",
    "        B = self.sigma * np.random.randn(n_nodes2)\n",
    "        return B\n",
    "    \n",
    "class XavierInitializer(SimpleInitializer):\n",
    "    def W(self, n_nodes1, n_nodes2):\n",
    "        self.sigma = 1/np.sqrt(n_nodes1)\n",
    "        W = self.sigma * np.random.randn(n_nodes1,n_nodes2)\n",
    "        return W\n",
    "        \n",
    "class HeInitializer(SimpleInitializer):\n",
    "    def W(self, n_nodes1, n_nodes2):\n",
    "        self.sigma = 1/np.sqrt(n_nodes1)\n",
    "        W = self.sigma * np.random.randn(n_nodes1,n_nodes2)\n",
    "        return W"
   ]
  },
  {
   "cell_type": "markdown",
   "metadata": {},
   "source": [
    "## 最適化クラス"
   ]
  },
  {
   "cell_type": "code",
   "execution_count": 5,
   "metadata": {},
   "outputs": [],
   "source": [
    "class SGD:\n",
    "    def __init__(self, lr=0.1):\n",
    "        self.lr = lr\n",
    "    def update(self, layer):\n",
    "        layer.w -= self.lr * layer.dw\n",
    "        layer.b -= self.lr * layer.db\n",
    "        return layer\n",
    "    \n",
    "class AdaGrad:\n",
    "    def __init__(self, lr=0.1):\n",
    "        self.lr = lr\n",
    "    def update(self, layer):\n",
    "        layer.h_w += np.power(layer.dw, 2)\n",
    "        layer.h_b += np.power(layer.db, 2)\n",
    "        layer.w -= self.lr * layer.dw/np.sqrt(layer.h_w)\n",
    "        layer.b -= self.lr * layer.db/np.sqrt(layer.h_b)\n",
    "        return layer"
   ]
  },
  {
   "cell_type": "markdown",
   "metadata": {},
   "source": [
    "## 活性化関数のクラス"
   ]
  },
  {
   "cell_type": "code",
   "execution_count": 6,
   "metadata": {},
   "outputs": [],
   "source": [
    "class Sigmoid:\n",
    "    def forward(self, a):\n",
    "        self.z = 1/(1+np.exp(-a))\n",
    "        return self.z\n",
    "    \n",
    "    def backward(self, da):\n",
    "        return da * (1-self.z) * self.z\n",
    "        \n",
    "    \n",
    "class ReLu:\n",
    "    def forward(self, Z):\n",
    "         return np.maximum(0, Z)\n",
    "    \n",
    "    def backward(self, da):\n",
    "        return np.where(da > 0, 1, 0)\n",
    "        \n",
    "class tanh:\n",
    "    def forward(self, a):\n",
    "        self.z = np.tanh(a)\n",
    "        return self.z \n",
    "        \n",
    "    def backward(self, da):\n",
    "        return da * (1 - np.power(self.Z, 2))\n",
    "        \n",
    "class Softmax:\n",
    "    def forward(self, a):\n",
    "        if a.ndim == 2:\n",
    "            a = a.T - np.max(a.T, axis=0)\n",
    "            self.z = (np.exp(a) / np.sum(np.exp(a), axis=0)).T\n",
    "            return self.z\n",
    "        \n",
    "        a = a - np.max(a)\n",
    "        self.z = np.exp(a) / np.sum(np.exp(a))\n",
    "        return self.z\n",
    "\n",
    "        \n",
    "    def backward(self, y):\n",
    "        return self.z - y"
   ]
  },
  {
   "cell_type": "code",
   "execution_count": null,
   "metadata": {},
   "outputs": [],
   "source": [
    "# def _cross_entropy(y_pred, y_true):\n",
    "#         delta = 1e-7\n",
    "#         return -np.sum(y_true*np.log(y_pred+delta))"
   ]
  },
  {
   "cell_type": "markdown",
   "metadata": {},
   "source": [
    "## 学習"
   ]
  },
  {
   "cell_type": "code",
   "execution_count": null,
   "metadata": {},
   "outputs": [],
   "source": [
    "epochs = 10\n",
    "get_mini_batch = GetMiniBatch(X_train, y_train, batch_size=10)\n",
    "ave_loss_list = np.empty(epochs)\n",
    "\n",
    "\n",
    "for epoch in range(epochs):\n",
    "    loss_list = np.empty(int(len(X_train)/batch_size))\n",
    "    count_iter = 0\n",
    "    for mini_X_train, mini_y_train in get_mini_batch:\n",
    "        A1 = FC1.forward(mini_X_train)\n",
    "        Z1 = activation1.forward(A1)\n",
    "        A2 = FC2.forward(Z1)\n",
    "        Z2 = activation2.forward(A2)\n",
    "        A3 = FC3.forward(Z2)\n",
    "        Z3 = activation3.forward(A3)\n",
    "\n",
    "        dA3 = activation3.backward(mini_y_train) # 交差エントロピー誤差とソフトマックスを合わせている\n",
    "        dZ2 = FC3.backward(dA3)\n",
    "        dA2 = activation2.backward(dZ2)\n",
    "        dZ1 = FC2.backward(dA2)\n",
    "        dA1 = activation1.backward(dZ1)\n",
    "        dZ0 = FC1.backward(dA1) # dZ0は使用しない\n",
    "        loss_list[count_iter]=_cross_entropy(Z3, mini_y_train)\n",
    "        count_iter+=1\n",
    "    count_iter = 0\n",
    "    ave_loss_list[epoch]=np.mean(loss_list)\n",
    "    print(f'epoch: {epoch+1}')"
   ]
  },
  {
   "cell_type": "markdown",
   "metadata": {},
   "source": [
    "## 予測"
   ]
  },
  {
   "cell_type": "code",
   "execution_count": null,
   "metadata": {},
   "outputs": [],
   "source": [
    "A1 = FC1.forward(X_train)\n",
    "Z1 = activation1.forward(A1)\n",
    "A2 = FC2.forward(Z1)\n",
    "Z2 = activation2.forward(A2)\n",
    "A3 = FC3.forward(Z2)\n",
    "Z3 = activation3.forward(A3)\n",
    "\n",
    "print(f\"10枚の画像のラベルの予測結果:{np.argmax(Z3[0:11],axis=1)}\")\n",
    "print(f\"10枚の画像のラベルの正解:{np.argmax(y_train[0:11],axis=1)}\")"
   ]
  },
  {
   "cell_type": "markdown",
   "metadata": {},
   "source": [
    "## クラス化"
   ]
  },
  {
   "cell_type": "code",
   "execution_count": 14,
   "metadata": {},
   "outputs": [],
   "source": [
    "class ScratchDeepNeuralNetworkClassifier():\n",
    "    def __init__(self,n_features=784, n_nodes1=40, n_nodes2=20, n_output=10,\n",
    "                 batch_size=100,epochs=20, sigma=0.1, lr=0.1, optimizer='SGD', initializer='simple'):\n",
    "        self.batch_size = batch_size # バッチサイズ\n",
    "        self.epochs = epochs #エポック数\n",
    "        self.n_features = n_features # 特徴量の数\n",
    "        self.n_nodes1 = n_nodes1 # 1層目のノード数\n",
    "        self.n_nodes2 = n_nodes2 # 2層目のノード数\n",
    "        self.n_output = n_output # 出力のクラス数（3層目のノード数）\n",
    "        self.sigma = sigma # ガウス分布の標準偏差\n",
    "        self.lr = lr #学習率\n",
    "        self.ave_loss_list = np.empty(self.epochs)\n",
    "        self.progres_loss_list = np.empty(self.epochs)\n",
    "        \n",
    "        # optimizerの設定\n",
    "        if optimizer == 'SGD':\n",
    "            self.optimizer = SGD(self.lr)\n",
    "        elif optimizer == 'AdaGrad':\n",
    "            self.optimizer = AdaGrad(self.lr)\n",
    "            \n",
    "        if initializer == 'simple':\n",
    "            self.initializer = SimpleInitializer()\n",
    "        elif initializer == 'xavier':\n",
    "            self.initializer = XavierInitializer()\n",
    "        elif initializer == 'he':\n",
    "            self.initializer = HeInitializer()\n",
    "        \n",
    "        if (X_val is not None) and (y_val is not None):\n",
    "            self.val_ave_loss_list = np.empty(self.epochs)\n",
    "\n",
    "        \n",
    "    \n",
    "    def fit(self, X, y, X_val=None, y_val=None):\n",
    "        self.FC1 = FC(self.n_features, self.n_nodes1, optimizer=self.optimizer, initializer=self.initializer)\n",
    "        self.activation1 = Sigmoid()\n",
    "        self.FC2 = FC(self.n_nodes1, self.n_nodes2, optimizer=self.optimizer, initializer=self.initializer)\n",
    "        self.activation2 = Sigmoid()\n",
    "        self.FC3 = FC(self.n_nodes2, self.n_output, optimizer=self.optimizer, initializer=self.initializer)\n",
    "        self.activation3 = Softmax()\n",
    "        \n",
    "        \n",
    "        for epoch in range(self.epochs):\n",
    "            get_mini_batch = GetMiniBatch(X, y, self.batch_size)\n",
    "            loss_list = np.empty(int(len(X)/self.batch_size))\n",
    "            count_iter = 0\n",
    "            gbatch = tqdm(get_mini_batch)\n",
    "            gbatch.set_description(f\"epoch:{epoch+1}\")\n",
    "            for mini_X_train, mini_y_train in gbatch:\n",
    "                \n",
    "                # フォワードプロパゲーション\n",
    "                y_pred = self.predict(mini_X_train)\n",
    "                \n",
    "                #バックプロパゲーション\n",
    "                dA3 = self.activation3.backward(mini_y_train) # 交差エントロピー誤差とソフトマックスを合わせている\n",
    "                dZ2 = self.FC3.backward(dA3)\n",
    "                dA2 = self.activation2.backward(dZ2)\n",
    "                dZ1 = self.FC2.backward(dA2)\n",
    "                dA1 = self.activation1.backward(dZ1)\n",
    "                dZ0 = self.FC1.backward(dA1) # dZ0は使用しない\n",
    "                \n",
    "                loss_list[count_iter]=self._cross_entropy(y_pred, mini_y_train)/mini_X_train.shape[0]\n",
    "                count_iter+=1\n",
    "            count_iter = 0\n",
    "            self.progres_loss_list[epoch]=self._cross_entropy(y_pred, mini_y_train)/mini_X_train.shape[0]\n",
    "            self.ave_loss_list[epoch]=np.mean(loss_list)\n",
    "            \n",
    "            # validation用\n",
    "            if (X_val is not None) and (y_val is not None):\n",
    "                y_val_pred =  self.predict(X_val)\n",
    "                self.val_ave_loss_list[epoch]=self._cross_entropy(y_val_pred, y_val)/X_val.shape[0]\n",
    "#                 print(self._cross_entropy(y_val_pred, y_val)/X_val.shape[0])\n",
    "                \n",
    "#             print(f'epoch: {epoch+1}')\n",
    "            \n",
    "    def predict(self, X):\n",
    "        A1 = self.FC1.forward(X)\n",
    "        Z1 = self.activation1.forward(A1)\n",
    "        A2 = self.FC2.forward(Z1)\n",
    "        Z2 = self.activation2.forward(A2)\n",
    "        A3 = self.FC3.forward(Z2)\n",
    "        Z3 = self.activation3.forward(A3)\n",
    "        return Z3\n",
    "    \n",
    "    def _cross_entropy(self, y_pred, y_true):\n",
    "        delta = 1e-7\n",
    "        return -np.sum(y_true*np.log(y_pred+delta))\n",
    "        "
   ]
  },
  {
   "cell_type": "code",
   "execution_count": 15,
   "metadata": {},
   "outputs": [
    {
     "name": "stderr",
     "output_type": "stream",
     "text": [
      "epoch:1: 100%|██████████| 480/480 [00:00<00:00, 1144.04it/s]\n",
      "epoch:2: 100%|██████████| 480/480 [00:00<00:00, 881.74it/s]\n",
      "epoch:3: 100%|██████████| 480/480 [00:00<00:00, 1154.61it/s]\n",
      "epoch:4: 100%|██████████| 480/480 [00:00<00:00, 1204.84it/s]\n",
      "epoch:5: 100%|██████████| 480/480 [00:00<00:00, 1050.18it/s]\n",
      "epoch:6: 100%|██████████| 480/480 [00:00<00:00, 1118.97it/s]\n",
      "epoch:7: 100%|██████████| 480/480 [00:00<00:00, 1212.85it/s]\n",
      "epoch:8: 100%|██████████| 480/480 [00:00<00:00, 1241.95it/s]\n",
      "epoch:9: 100%|██████████| 480/480 [00:00<00:00, 1265.58it/s]\n",
      "epoch:10: 100%|██████████| 480/480 [00:00<00:00, 1199.93it/s]\n",
      "epoch:11: 100%|██████████| 480/480 [00:00<00:00, 1044.42it/s]\n",
      "epoch:12: 100%|██████████| 480/480 [00:00<00:00, 898.65it/s]\n",
      "epoch:13: 100%|██████████| 480/480 [00:00<00:00, 978.87it/s]\n",
      "epoch:14: 100%|██████████| 480/480 [00:00<00:00, 880.82it/s]\n",
      "epoch:15: 100%|██████████| 480/480 [00:00<00:00, 1227.15it/s]\n",
      "epoch:16: 100%|██████████| 480/480 [00:00<00:00, 1200.62it/s]\n",
      "epoch:17: 100%|██████████| 480/480 [00:00<00:00, 1229.63it/s]\n",
      "epoch:18: 100%|██████████| 480/480 [00:00<00:00, 1170.59it/s]\n",
      "epoch:19: 100%|██████████| 480/480 [00:00<00:00, 1133.66it/s]\n",
      "epoch:20: 100%|██████████| 480/480 [00:00<00:00, 1151.11it/s]\n"
     ]
    }
   ],
   "source": [
    "clf=ScratchDeepNeuralNetworkClassifier(batch_size=100, epochs=20, n_features = 784, n_nodes1 = 40, n_nodes2 = 20,n_output = 10)\n",
    "clf.fit(X_train, y_train, X_val, y_val)"
   ]
  },
  {
   "cell_type": "code",
   "execution_count": 16,
   "metadata": {},
   "outputs": [
    {
     "data": {
      "text/plain": [
       "array([8, 5, 9, 0, 3, 7, 9, 2, 2, 1])"
      ]
     },
     "execution_count": 16,
     "metadata": {},
     "output_type": "execute_result"
    }
   ],
   "source": [
    "np.argmax(clf.predict(X_train[0:10]),axis=1)"
   ]
  },
  {
   "cell_type": "code",
   "execution_count": 17,
   "metadata": {},
   "outputs": [
    {
     "data": {
      "text/plain": [
       "array([8, 3, 9, 0, 3, 7, 9, 2, 2, 1])"
      ]
     },
     "execution_count": 17,
     "metadata": {},
     "output_type": "execute_result"
    }
   ],
   "source": [
    "np.argmax(y_train[0:10],axis=1)"
   ]
  },
  {
   "cell_type": "code",
   "execution_count": 18,
   "metadata": {},
   "outputs": [
    {
     "data": {
      "image/png": "[encoded data removed]",
      "text/plain": [
       "<Figure size 432x288 with 1 Axes>"
      ]
     },
     "metadata": {
      "needs_background": "light"
     },
     "output_type": "display_data"
    }
   ],
   "source": [
    "plt.plot(clf.val_ave_loss_list, label='test');\n",
    "plt.legend();"
   ]
  },
  {
   "cell_type": "code",
   "execution_count": 19,
   "metadata": {},
   "outputs": [
    {
     "data": {
      "image/png": "[encoded data removed]",
      "text/plain": [
       "<Figure size 432x288 with 1 Axes>"
      ]
     },
     "metadata": {
      "needs_background": "light"
     },
     "output_type": "display_data"
    }
   ],
   "source": [
    "plt.plot(clf.progres_loss_list, label='train', marker='o')\n",
    "plt.plot(clf.val_ave_loss_list, label='test', marker='o')\n",
    "plt.title('train and test loss')\n",
    "plt.xlabel('epoch')\n",
    "plt.ylabel('loss')\n",
    "plt.legend();"
   ]
  }
 ],
 "metadata": {
  "kernelspec": {
   "display_name": "Python 3",
   "language": "python",
   "name": "python3"
  },
  "language_info": {
   "codemirror_mode": {
    "name": "ipython",
    "version": 3
   },
   "file_extension": ".py",
   "mimetype": "text/x-python",
   "name": "python",
   "nbconvert_exporter": "python",
   "pygments_lexer": "ipython3",
   "version": "3.6.10"
  }
 },
 "nbformat": 4,
 "nbformat_minor": 4
}
