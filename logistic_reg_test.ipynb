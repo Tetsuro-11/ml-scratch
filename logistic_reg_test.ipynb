{
 "cells": [
  {
   "cell_type": "markdown",
   "metadata": {},
   "source": [
    "# 機械学習スクラッチロジスティック回帰"
   ]
  },
  {
   "cell_type": "code",
   "execution_count": 1,
   "metadata": {},
   "outputs": [
    {
     "name": "stdout",
     "output_type": "stream",
     "text": [
      "/Users/nishiotetsurou/Machine Learning/portfolio/ml-scratch/ml_scratch\n"
     ]
    }
   ],
   "source": [
    "cd ml_scratch/"
   ]
  },
  {
   "cell_type": "code",
   "execution_count": 2,
   "metadata": {},
   "outputs": [],
   "source": [
    "import pandas as pd\n",
    "import matplotlib.pyplot as plt\n",
    "import seaborn as sns\n",
    "from sklearn.preprocessing import LabelEncoder\n",
    "from utils.scaling import ScratchStandardScaler"
   ]
  },
  {
   "cell_type": "markdown",
   "metadata": {},
   "source": [
    "## 使用するデータセット\n",
    "150本分のアヤメのデータセット（**Iris-setosa**, **Iris-versicolor**, **Iris-virginica**の３種類の花が入っている。）"
   ]
  },
  {
   "cell_type": "code",
   "execution_count": 3,
   "metadata": {},
   "outputs": [],
   "source": [
    "df = pd.read_csv('../../../input/iris/iris.csv')"
   ]
  },
  {
   "cell_type": "code",
   "execution_count": 4,
   "metadata": {},
   "outputs": [
    {
     "data": {
      "text/plain": [
       "array(['Iris-setosa', 'Iris-versicolor', 'Iris-virginica'], dtype=object)"
      ]
     },
     "execution_count": 4,
     "metadata": {},
     "output_type": "execute_result"
    }
   ],
   "source": [
    "df['Species'].unique()"
   ]
  },
  {
   "cell_type": "code",
   "execution_count": 5,
   "metadata": {},
   "outputs": [],
   "source": [
    "train = df[df['Species'].isin(['Iris-setosa','Iris-versicolor'])]"
   ]
  },
  {
   "cell_type": "code",
   "execution_count": 6,
   "metadata": {},
   "outputs": [
    {
     "data": {
      "text/html": [
       "<div>\n",
       "<style scoped>\n",
       "    .dataframe tbody tr th:only-of-type {\n",
       "        vertical-align: middle;\n",
       "    }\n",
       "\n",
       "    .dataframe tbody tr th {\n",
       "        vertical-align: top;\n",
       "    }\n",
       "\n",
       "    .dataframe thead th {\n",
       "        text-align: right;\n",
       "    }\n",
       "</style>\n",
       "<table border=\"1\" class=\"dataframe\">\n",
       "  <thead>\n",
       "    <tr style=\"text-align: right;\">\n",
       "      <th></th>\n",
       "      <th>Id</th>\n",
       "      <th>SepalLengthCm</th>\n",
       "      <th>SepalWidthCm</th>\n",
       "      <th>PetalLengthCm</th>\n",
       "      <th>PetalWidthCm</th>\n",
       "    </tr>\n",
       "  </thead>\n",
       "  <tbody>\n",
       "    <tr>\n",
       "      <th>count</th>\n",
       "      <td>100.000000</td>\n",
       "      <td>100.000000</td>\n",
       "      <td>100.000000</td>\n",
       "      <td>100.000000</td>\n",
       "      <td>100.000000</td>\n",
       "    </tr>\n",
       "    <tr>\n",
       "      <th>mean</th>\n",
       "      <td>50.500000</td>\n",
       "      <td>5.471000</td>\n",
       "      <td>3.094000</td>\n",
       "      <td>2.862000</td>\n",
       "      <td>0.785000</td>\n",
       "    </tr>\n",
       "    <tr>\n",
       "      <th>std</th>\n",
       "      <td>29.011492</td>\n",
       "      <td>0.641698</td>\n",
       "      <td>0.476057</td>\n",
       "      <td>1.448565</td>\n",
       "      <td>0.566288</td>\n",
       "    </tr>\n",
       "    <tr>\n",
       "      <th>min</th>\n",
       "      <td>1.000000</td>\n",
       "      <td>4.300000</td>\n",
       "      <td>2.000000</td>\n",
       "      <td>1.000000</td>\n",
       "      <td>0.100000</td>\n",
       "    </tr>\n",
       "    <tr>\n",
       "      <th>25%</th>\n",
       "      <td>25.750000</td>\n",
       "      <td>5.000000</td>\n",
       "      <td>2.800000</td>\n",
       "      <td>1.500000</td>\n",
       "      <td>0.200000</td>\n",
       "    </tr>\n",
       "    <tr>\n",
       "      <th>50%</th>\n",
       "      <td>50.500000</td>\n",
       "      <td>5.400000</td>\n",
       "      <td>3.050000</td>\n",
       "      <td>2.450000</td>\n",
       "      <td>0.800000</td>\n",
       "    </tr>\n",
       "    <tr>\n",
       "      <th>75%</th>\n",
       "      <td>75.250000</td>\n",
       "      <td>5.900000</td>\n",
       "      <td>3.400000</td>\n",
       "      <td>4.325000</td>\n",
       "      <td>1.300000</td>\n",
       "    </tr>\n",
       "    <tr>\n",
       "      <th>max</th>\n",
       "      <td>100.000000</td>\n",
       "      <td>7.000000</td>\n",
       "      <td>4.400000</td>\n",
       "      <td>5.100000</td>\n",
       "      <td>1.800000</td>\n",
       "    </tr>\n",
       "  </tbody>\n",
       "</table>\n",
       "</div>"
      ],
      "text/plain": [
       "               Id  SepalLengthCm  SepalWidthCm  PetalLengthCm  PetalWidthCm\n",
       "count  100.000000     100.000000    100.000000     100.000000    100.000000\n",
       "mean    50.500000       5.471000      3.094000       2.862000      0.785000\n",
       "std     29.011492       0.641698      0.476057       1.448565      0.566288\n",
       "min      1.000000       4.300000      2.000000       1.000000      0.100000\n",
       "25%     25.750000       5.000000      2.800000       1.500000      0.200000\n",
       "50%     50.500000       5.400000      3.050000       2.450000      0.800000\n",
       "75%     75.250000       5.900000      3.400000       4.325000      1.300000\n",
       "max    100.000000       7.000000      4.400000       5.100000      1.800000"
      ]
     },
     "execution_count": 6,
     "metadata": {},
     "output_type": "execute_result"
    }
   ],
   "source": [
    "train.describe()"
   ]
  },
  {
   "cell_type": "code",
   "execution_count": 7,
   "metadata": {},
   "outputs": [
    {
     "name": "stdout",
     "output_type": "stream",
     "text": [
      "<class 'pandas.core.frame.DataFrame'>\n",
      "Int64Index: 100 entries, 0 to 99\n",
      "Data columns (total 6 columns):\n",
      "Id               100 non-null int64\n",
      "SepalLengthCm    100 non-null float64\n",
      "SepalWidthCm     100 non-null float64\n",
      "PetalLengthCm    100 non-null float64\n",
      "PetalWidthCm     100 non-null float64\n",
      "Species          100 non-null object\n",
      "dtypes: float64(4), int64(1), object(1)\n",
      "memory usage: 5.5+ KB\n"
     ]
    }
   ],
   "source": [
    "train.info()"
   ]
  },
  {
   "cell_type": "markdown",
   "metadata": {},
   "source": [
    "上の結果から、欠損値が存在しないデータであり、総数１００本の花のデータであることがわかる。"
   ]
  },
  {
   "cell_type": "code",
   "execution_count": 8,
   "metadata": {},
   "outputs": [
    {
     "name": "stderr",
     "output_type": "stream",
     "text": [
      "/Users/nishiotetsurou/.pyenv/versions/anaconda3-5.1.0/lib/python3.6/site-packages/scipy/stats/stats.py:1713: FutureWarning: Using a non-tuple sequence for multidimensional indexing is deprecated; use `arr[tuple(seq)]` instead of `arr[seq]`. In the future this will be interpreted as an array index, `arr[np.array(seq)]`, which will result either in an error or a different result.\n",
      "  return np.add.reduce(sorted[indexer] * weights, axis=axis) / sumval\n"
     ]
    },
    {
     "data": {
      "image/png": "[encoded data removed]",
      "text/plain": [
       "<Figure size 1003.5x900 with 30 Axes>"
      ]
     },
     "metadata": {
      "needs_background": "light"
     },
     "output_type": "display_data"
    }
   ],
   "source": [
    "sns.pairplot(train, hue='Species')\n",
    "plt.show()"
   ]
  },
  {
   "cell_type": "markdown",
   "metadata": {},
   "source": [
    "どの特徴量を２次元でとっても簡単に線形分離できそう。  \n",
    "ほとんどデータにばらつきがない。"
   ]
  },
  {
   "cell_type": "code",
   "execution_count": 9,
   "metadata": {},
   "outputs": [
    {
     "data": {
      "text/plain": [
       "<matplotlib.axes._subplots.AxesSubplot at 0x1a121bf390>"
      ]
     },
     "execution_count": 9,
     "metadata": {},
     "output_type": "execute_result"
    },
    {
     "data": {
      "image/png": "[encoded data removed]",
      "text/plain": [
       "<Figure size 432x288 with 2 Axes>"
      ]
     },
     "metadata": {
      "needs_background": "light"
     },
     "output_type": "display_data"
    }
   ],
   "source": [
    "sns.heatmap(train.corr(), cmap='viridis', annot=True)"
   ]
  },
  {
   "cell_type": "markdown",
   "metadata": {},
   "source": [
    "相関係数マップを作っても同様に、どの特徴量同士も強い相関係数を持っている。"
   ]
  },
  {
   "cell_type": "code",
   "execution_count": 10,
   "metadata": {},
   "outputs": [],
   "source": [
    "X = train.drop('Species', axis=1)\n",
    "y = train['Species']"
   ]
  },
  {
   "cell_type": "markdown",
   "metadata": {},
   "source": [
    "## 層別クロスバリデーションを行う。"
   ]
  },
  {
   "cell_type": "code",
   "execution_count": 11,
   "metadata": {},
   "outputs": [],
   "source": [
    "import numpy as np\n",
    "import random\n",
    "import pandas as pd\n",
    "train_index =[]\n",
    "test_index = []\n",
    "n_cls = y.unique()\n",
    "train_size=0.8\n",
    "for clas in n_cls:\n",
    "    y_index = list(y[y==clas].index)\n",
    "    sel_num = np.floor(len(y_index) * train_size).astype('int') # trainデータに選ぶサンプル数の決定\n",
    "    train_num = random.sample(y_index, sel_num) # trainに選ぶインデックスを選択\n",
    "    test_num = list(set(y_index)-set(train_num))\n",
    "    train_index.append(train_num)\n",
    "    test_index.append(test_num)\n",
    "    \n",
    "train_index = np.array(train_index).ravel()\n",
    "test_index = np.array(test_index).ravel()"
   ]
  },
  {
   "cell_type": "code",
   "execution_count": 12,
   "metadata": {},
   "outputs": [],
   "source": [
    "X_train, X_test, y_train, y_test = X.iloc[train_index,:], X.iloc[test_index,:],  y[train_index], y[test_index] "
   ]
  },
  {
   "cell_type": "code",
   "execution_count": 13,
   "metadata": {},
   "outputs": [
    {
     "name": "stdout",
     "output_type": "stream",
     "text": [
      "X_train:shape (80, 5)\n",
      "y_train:shape (80,)\n",
      "X_test:shape (20, 5)\n",
      "y_test:shape (20,)\n"
     ]
    }
   ],
   "source": [
    "print('X_train:shape',format(X_train.shape))\n",
    "print('y_train:shape',format(y_train.shape))\n",
    "print('X_test:shape',format(X_test.shape))\n",
    "print('y_test:shape',format(y_test.shape))"
   ]
  },
  {
   "cell_type": "code",
   "execution_count": 14,
   "metadata": {},
   "outputs": [
    {
     "name": "stdout",
     "output_type": "stream",
     "text": [
      "y_train\n",
      "Iris-versicolor    40\n",
      "Iris-setosa        40\n",
      "Name: Species, dtype: int64\n",
      "--------------------------------------------------\n",
      "y_test\n",
      "Iris-versicolor    10\n",
      "Iris-setosa        10\n",
      "Name: Species, dtype: int64\n"
     ]
    }
   ],
   "source": [
    "print('y_train')\n",
    "print(pd.value_counts(y_train))\n",
    "print('-'*50)\n",
    "print('y_test')\n",
    "print(pd.value_counts(y_test))"
   ]
  },
  {
   "cell_type": "markdown",
   "metadata": {},
   "source": [
    "## ロジスティック回帰  \n",
    "\n",
    "- メリット  \n",
    "独立変数の尺度や、分布型に対して、厳密な仮定をおいていない。\n",
    "（線形回帰の場合は正規分布が仮定されている。）"
   ]
  },
  {
   "cell_type": "markdown",
   "metadata": {},
   "source": [
    "ロジット関数 $y = \\log\\frac{p}{1-p}$  \n",
    "ロジット関数の逆関数を求めてみると、\n",
    "\n",
    "$$\n",
    "\\begin{eqnarray}\n",
    "    \\mathrm{e}^{y} &=& \\dfrac{p}{1-p}\\\\\n",
    "    p &=& e^y-e^yp\\\\\n",
    "    p &=& \\dfrac{e^y}{e^y+1}=\\dfrac{1}{1+e^{-y}}\n",
    "\\end{eqnarray}\n",
    "$$\n",
    "これを書き換えると\n",
    "$$g(x)=\\dfrac{1}{1+e^{-x}}$$\n",
    "\n",
    "この関数のことを__（標準）ロジスティック関数__という。  \n",
    "一般に標準ロジスティック関数を拡大縮小移動させたものも含めて__ロジスティック関数__と呼ぶ。"
   ]
  },
  {
   "cell_type": "markdown",
   "metadata": {},
   "source": [
    "仮に、__ロジット__($\\log\\frac{p}{1-p}$)を線型結合$\\beta_0+\\beta_1x_1+\\beta_2x_2+\\cdots+b_px_p$でおくと、\n",
    "$$\n",
    "\\begin{eqnarray}\n",
    "    \\log\\frac{p}{1-p} = \\beta_0+\\beta_1x_1+\\beta_2x_2+\\cdots+b_px_p\\\\\n",
    "    p = \\dfrac{1}{1+\\exp(\\beta_0+\\beta_1x_1+\\beta_2x_2+\\cdots+b_px_p)}\n",
    "\\end{eqnarray}\n",
    "$$\n",
    "のように表すことができる。  \n",
    "この関数を使ってロジスティック関数の回帰係数$\\beta_0,\\beta_1,\\beta_2,\\cdots+b_p$をデータから決定することで予測モデルを作成することができる。"
   ]
  },
  {
   "cell_type": "markdown",
   "metadata": {},
   "source": [
    "## ラベルエンコーディング\n",
    "花の種類が、str型なので数値に変えています。"
   ]
  },
  {
   "cell_type": "code",
   "execution_count": 15,
   "metadata": {},
   "outputs": [],
   "source": [
    "encoder = LabelEncoder()\n",
    "y = encoder.fit_transform(y_train)\n",
    "xsample = X_train.iloc[:,1:3]"
   ]
  },
  {
   "cell_type": "code",
   "execution_count": 16,
   "metadata": {},
   "outputs": [],
   "source": [
    "standard = ScratchStandardScaler()\n",
    "standard.fit(xsample)\n",
    "xsample = standard.transform(xsample)"
   ]
  },
  {
   "cell_type": "markdown",
   "metadata": {},
   "source": [
    "## シグモイド関数の実装"
   ]
  },
  {
   "cell_type": "code",
   "execution_count": 17,
   "metadata": {},
   "outputs": [],
   "source": [
    "def sigmoid(x):\n",
    "    return 1.0 / (1.0 + np.exp(-x))"
   ]
  },
  {
   "cell_type": "markdown",
   "metadata": {},
   "source": [
    "## ロジスティック関数の実装"
   ]
  },
  {
   "cell_type": "code",
   "execution_count": 18,
   "metadata": {},
   "outputs": [],
   "source": [
    "def _logistic_hypothesis(X):\n",
    "    linear = np.dot(X, n_theta)\n",
    "    logistic = sigmoid(linear)\n",
    "    return logistic"
   ]
  },
  {
   "cell_type": "markdown",
   "metadata": {},
   "source": [
    "## コスト関数の算出"
   ]
  },
  {
   "cell_type": "code",
   "execution_count": 19,
   "metadata": {},
   "outputs": [],
   "source": [
    "def _compute_cost(X, y):\n",
    "    \"\"\"\n",
    "    平均二乗誤差を計算する。MSEは共通の関数を作っておき呼び出す\n",
    "\n",
    "    Parameters\n",
    "    ----------\n",
    "    X : 次の形のndarray, shape (n_samples, n_features)\n",
    "      学習データ\n",
    "    y : 次の形のndarray, shape (n_samples, 1)\n",
    "      正解値\n",
    "\n",
    "    Returns\n",
    "    -------\n",
    "      次の形のndarray, shape (1,)\n",
    "      平均二乗誤差\n",
    "    \"\"\"\n",
    "    y_pred = _logistic_hypothesis(X).ravel()\n",
    "    y = y\n",
    "    \n",
    "    return MSE(y_pred, y)"
   ]
  },
  {
   "cell_type": "markdown",
   "metadata": {},
   "source": [
    "## クロスエントロピー誤差の実装"
   ]
  },
  {
   "cell_type": "code",
   "execution_count": 20,
   "metadata": {},
   "outputs": [],
   "source": [
    "n_theta = np.random.randn(len(xsample.columns))\n",
    "y_pred = _logistic_hypothesis(xsample)"
   ]
  },
  {
   "cell_type": "code",
   "execution_count": 21,
   "metadata": {},
   "outputs": [],
   "source": [
    "def cross_entropy(y_pred, y):\n",
    "    delta = 1e-4\n",
    "    cross_entropy = -(y * np.log(y_pred+delta))-(1-y)*np.log(1-y_pred)\n",
    "    error = np.average(cross_entropy, axis=0)\n",
    "    return error"
   ]
  },
  {
   "cell_type": "code",
   "execution_count": 22,
   "metadata": {},
   "outputs": [
    {
     "data": {
      "text/plain": [
       "0.43862067335022"
      ]
     },
     "execution_count": 22,
     "metadata": {},
     "output_type": "execute_result"
    }
   ],
   "source": [
    "cross_entropy(y_pred, y)"
   ]
  },
  {
   "cell_type": "code",
   "execution_count": 23,
   "metadata": {},
   "outputs": [],
   "source": [
    "def cross_entropy(y_pred, y_true) :\n",
    "    delta = 1e-7\n",
    "    return -np.sum(y_true*np.log(y_pred+delta))"
   ]
  },
  {
   "cell_type": "markdown",
   "metadata": {},
   "source": [
    "- L2正則化項"
   ]
  },
  {
   "cell_type": "code",
   "execution_count": 24,
   "metadata": {},
   "outputs": [],
   "source": [
    "def L2_regular(theta, lam):\n",
    "    theta_2 = np.square(theta)\n",
    "    reg = lam*np.average(theta_2, axis=0)\n",
    "    return reg"
   ]
  },
  {
   "cell_type": "code",
   "execution_count": 25,
   "metadata": {},
   "outputs": [
    {
     "data": {
      "text/plain": [
       "0.65"
      ]
     },
     "execution_count": 25,
     "metadata": {},
     "output_type": "execute_result"
    }
   ],
   "source": [
    "theta = np.array([2,3])\n",
    "L2_regular(theta,0.1)"
   ]
  },
  {
   "cell_type": "code",
   "execution_count": 26,
   "metadata": {},
   "outputs": [
    {
     "data": {
      "text/plain": [
       "array([4, 9])"
      ]
     },
     "execution_count": 26,
     "metadata": {},
     "output_type": "execute_result"
    }
   ],
   "source": [
    "theta_2 = np.square(theta)\n",
    "theta_2"
   ]
  },
  {
   "cell_type": "code",
   "execution_count": 27,
   "metadata": {},
   "outputs": [
    {
     "data": {
      "text/plain": [
       "6.5"
      ]
     },
     "execution_count": 27,
     "metadata": {},
     "output_type": "execute_result"
    }
   ],
   "source": [
    "np.average(theta_2, axis=0)"
   ]
  },
  {
   "cell_type": "markdown",
   "metadata": {},
   "source": [
    "## 勾配降下法"
   ]
  },
  {
   "cell_type": "code",
   "execution_count": 28,
   "metadata": {},
   "outputs": [],
   "source": [
    "num_iter=13\n",
    "n_theta =np.array([1,2])\n",
    "def _gradient_descent(X, y,lam=0.1):\n",
    "    \n",
    "    global n_theta\n",
    "    n_theta = np.random.randn(len(X.columns))\n",
    "    m = len(X.columns)\n",
    "    for i in range(num_iter):\n",
    "        diff = _logistic_hypothesis(X).ravel() - y\n",
    "        n_theta = n_theta - 0.1 * np.dot((diff - y),xsample)+lam*n_theta/m\n",
    "        \n",
    "        \n",
    "#         print('n_theta:  {}   linear_hypothesis{}'.format(n_theta,_linear_hypothesis(X)[0]))\n",
    "#         plt.subplot(1,2,1)\n",
    "#         plt.plot(i,n_theta[0], marker='o')\n",
    "#         plt.subplot(1,2,2)\n",
    "#         plt.plot(i, n_theta[1], marker='o')\n",
    "        \n",
    "    return n_theta"
   ]
  },
  {
   "cell_type": "code",
   "execution_count": 29,
   "metadata": {},
   "outputs": [
    {
     "data": {
      "text/plain": [
       "array([ 56.75122997, -55.94269226])"
      ]
     },
     "execution_count": 29,
     "metadata": {},
     "output_type": "execute_result"
    }
   ],
   "source": [
    "_gradient_descent(xsample,y)"
   ]
  },
  {
   "cell_type": "markdown",
   "metadata": {},
   "source": [
    "## スクラッチロジスティック回帰"
   ]
  },
  {
   "cell_type": "code",
   "execution_count": 41,
   "metadata": {},
   "outputs": [],
   "source": [
    "class ScratchLogisticRegression():\n",
    "    \"\"\"\n",
    "    ロジスティック回帰\n",
    "    ＊コンストラクタ（__init__）のパラメータはここに書いておくと分かりやすい\n",
    "\n",
    "    Parameters\n",
    "    ----------\n",
    "    num_iter : int\n",
    "      イテレーション数\n",
    "    lr : float\n",
    "      学習率\n",
    "    no_bias : bool\n",
    "      バイアス項を入れない場合はTrue\n",
    "    verbose : bool\n",
    "      学習過程を出力する場合はTrue\n",
    "\n",
    "    Attributes\n",
    "    ----------\n",
    "    self.coef_ : 次の形のndarray, shape (n_features,)\n",
    "      パラメータ\n",
    "    self.loss : 次の形のndarray, shape (self.iter,)\n",
    "      学習用データに対する損失の記録\n",
    "    self.val_loss : 次の形のndarray, shape (self.iter,)\n",
    "      検証用データに対する損失の記録\n",
    "\n",
    "    \"\"\"\n",
    "\n",
    "    def __init__(self, num_iter, lr, bias, verbose):\n",
    "        # ハイパーパラメータを属性として記録\n",
    "        self.num_iter = num_iter\n",
    "        self.lr = lr\n",
    "        self.verbose = verbose\n",
    "        self.n_theta = None\n",
    "        # 損失を記録する配列を用意\n",
    "        self.loss = np.zeros(self.num_iter)\n",
    "        self.val_loss = np.zeros(self.num_iter)\n",
    "        self._coef = np.zeros(self.num_iter)\n",
    "        \n",
    "        \n",
    "    def _logistic_hypothesis(self, X):\n",
    "        \"\"\"\n",
    "        ロジスティック関数の仮定関数を計算する。\n",
    "\n",
    "        Parameters\n",
    "        ----------\n",
    "        X : 次の形のndarray, shape (n_samples, n_features)\n",
    "          学習データ\n",
    "\n",
    "        Returns\n",
    "        -------\n",
    "          次の形のndarray, shape (n_samples, 1)\n",
    "          線形の仮定関数による推定結果\n",
    "\n",
    "        \"\"\"\n",
    "        w_x = np.dot(X,self.n_theta)\n",
    "        sigmoid(w_x)\n",
    "        return sigmoid(w_x)\n",
    "    \n",
    "    def _gradient_descent(self, X, y,lam=0.1):\n",
    "        \"\"\"\n",
    "        最急降下法で重みを更新する。\n",
    "\n",
    "        Parameters\n",
    "        ----------\n",
    "        X : 次の形のndarray, shape (n_samples, n_features)\n",
    "          学習データ\n",
    "        y : 次の形のndarray, shape (n_samples, 1)\n",
    "          正解値\n",
    "\n",
    "        Returns\n",
    "        -------\n",
    "          次の形のndarray, shape (1,)\n",
    "\n",
    "        \"\"\"\n",
    "#     self.n_theta = np.random.randn(len(X.columns))\n",
    "        m = len(X.columns)\n",
    "        m = float(m)\n",
    "        for i in range(self.num_iter):\n",
    "            diff = self._logistic_hypothesis(X).ravel() - y\n",
    "            self.n_theta = self.n_theta - 0.1 * np.dot((diff - y),xsample)/m + lam * self.n_theta / m\n",
    "        \n",
    "        return self.n_theta\n",
    "        \n",
    "    def _compute_cost(self, X, y):\n",
    "        \"\"\"\n",
    "        クロスエントロピー誤差を計算する。クロスエントロピー誤差は共通の関数を作っておき呼び出す\n",
    "\n",
    "        Parameters\n",
    "        ----------\n",
    "        X : 次の形のndarray, shape (n_samples, n_features)\n",
    "          学習データ\n",
    "        y : 次の形のndarray, shape (n_samples, 1)\n",
    "          正解値\n",
    "\n",
    "        Returns\n",
    "        -------\n",
    "          次の形のndarray, shape (1,)\n",
    "          クロスエントロピー\n",
    "        \"\"\"\n",
    "        y_pred = self._logistic_hypothesis(X).ravel()\n",
    "        print(y_pred)\n",
    "        return cross_entropy(y_pred, y)\n",
    "    \n",
    "        \n",
    "\n",
    "    def fit(self, X, y, X_val=None, y_val=None):\n",
    "        \"\"\"\n",
    "        ロジスティック回帰を学習する。\n",
    "        検証用データが入力された場合はそれに対する損失と精度もイテレーションごとに計算する。\n",
    "\n",
    "        Parameters\n",
    "        ----------\n",
    "        X : 次の形のndarray, shape (n_samples, n_features)\n",
    "            学習用データの特徴量\n",
    "        y : 次の形のndarray, shape (n_samples, )\n",
    "            学習用データの正解値\n",
    "        X_val : 次の形のndarray, shape (n_samples, n_features)\n",
    "            検証用データの特徴量\n",
    "        y_val : 次の形のndarray, shape (n_samples, )\n",
    "            検証用データの正解値\n",
    "        \"\"\"\n",
    "        self.n_theta = np.random.randn(len(X.columns))\n",
    "        for i in range(self.num_iter):\n",
    "            self._gradient_descent(X, y)\n",
    "            loss = self._compute_cost(X, y)\n",
    "            self.loss[i] = loss\n",
    "            if (X_val is not None) and (y_val is not None):\n",
    "                val_loss = self._compute_cost(X_val, y_val)\n",
    "                self.val_loss[i] = val_loss\n",
    "            else:\n",
    "                self.val_loss[i] = None\n",
    "                \n",
    "            plt.subplot(1,2,1)\n",
    "            plt.plot(i,self.n_theta[0], marker='o')\n",
    "            plt.subplot(1,2,2)\n",
    "            plt.plot(i, self.n_theta[1], marker='o')\n",
    "            plt.subplots_adjust(wspace=0.5)\n",
    "            \n",
    "            if self.verbose:\n",
    "                #verboseをTrueにした際は学習過程を出力\n",
    "                print('[{}]loss:   {} val_loss: {}'.format(i,self.loss[i], self.val_loss[i]))\n",
    "                print('[{}]coef:   {}'.format(i,self.n_theta))\n",
    "                print('-'*50)\n",
    "                \n",
    "        plt.show()\n",
    "\n",
    "\n",
    "    def predict(self, X):\n",
    "        \"\"\"\n",
    "        線形回帰を使い推定する。\n",
    "\n",
    "        Parameters\n",
    "        ----------\n",
    "        X : 次の形のndarray, shape (n_samples, n_features)\n",
    "            サンプル\n",
    "\n",
    "        Returns\n",
    "        -------\n",
    "            次の形のndarray, shape (n_samples, 1)\n",
    "            線形回帰による推定結果\n",
    "        \"\"\"\n",
    "\n",
    "        predict_proba = self._logistic_hypothesis(X)\n",
    "        predict_class = np.array([1 if i>=0.5 else 0 for i in predict_proba])\n",
    "        \n",
    "        return predict_class"
   ]
  },
  {
   "cell_type": "code",
   "execution_count": 42,
   "metadata": {},
   "outputs": [],
   "source": [
    "a = ScratchLogisticRegression(num_iter=20, lr=0.01, bias=True, verbose=True)"
   ]
  },
  {
   "cell_type": "code",
   "execution_count": 43,
   "metadata": {},
   "outputs": [
    {
     "name": "stdout",
     "output_type": "stream",
     "text": [
      "[7.21200812e-22 1.53712062e-36 2.18908057e-42 3.83310414e-19\n",
      " 1.02850732e-17 5.19241917e-19 5.05018914e-36 4.91861608e-43\n",
      " 5.72076091e-48 1.13472029e-36 1.93514261e-20 1.25190178e-55\n",
      " 3.12615358e-28 1.00171152e-24 5.88187645e-31 8.38816720e-27\n",
      " 5.19241917e-19 2.19209378e-32 1.61822909e-32 1.53289774e-56\n",
      " 9.50196075e-39 1.93514261e-20 2.18908057e-42 6.03921674e-24\n",
      " 6.84111309e-36 2.19209378e-32 6.19224245e-27 1.31977438e-41\n",
      " 4.92538641e-33 1.93514261e-20 9.50196075e-39 1.02850732e-17\n",
      " 5.72076091e-48 1.13472029e-36 2.68781540e-23 2.88415617e-59\n",
      " 6.66288092e-43 5.33131647e-12 3.63597745e-33 1.66380377e-15\n",
      " 1.00000000e+00 1.00000000e+00 1.00000000e+00 1.00000000e+00\n",
      " 1.00000000e+00 1.00000000e+00 1.00000000e+00 9.99910183e-01\n",
      " 1.00000000e+00 1.00000000e+00 9.98223914e-01 1.00000000e+00\n",
      " 1.00000000e+00 1.00000000e+00 1.00000000e+00 1.00000000e+00\n",
      " 1.00000000e+00 1.00000000e+00 1.00000000e+00 1.00000000e+00\n",
      " 1.00000000e+00 1.00000000e+00 1.00000000e+00 1.00000000e+00\n",
      " 1.00000000e+00 1.00000000e+00 1.00000000e+00 1.00000000e+00\n",
      " 1.00000000e+00 1.00000000e+00 1.00000000e+00 1.00000000e+00\n",
      " 1.00000000e+00 1.00000000e+00 1.00000000e+00 1.00000000e+00\n",
      " 1.00000000e+00 1.00000000e+00 1.00000000e+00 1.00000000e+00]\n",
      "[0]loss:   0.0018634868823967732 val_loss: nan\n",
      "[0]coef:   [ 50.52414218 -51.85517329]\n",
      "--------------------------------------------------\n",
      "[2.10611775e-076 1.94728999e-129 1.00102745e-148 4.68328701e-066\n",
      " 4.07279829e-061 1.59282076e-066 2.89519285e-126 1.97962527e-151\n",
      " 5.95242052e-169 5.72551425e-129 1.83157530e-071 8.04889195e-197\n",
      " 7.28200776e-099 2.78482810e-086 3.27478667e-109 6.33276345e-094\n",
      " 1.59282076e-066 3.76565809e-114 1.10719662e-113 1.37607097e-198\n",
      " 1.30199517e-136 1.83157530e-071 1.00102745e-148 4.78936044e-084\n",
      " 9.84676629e-127 3.76565809e-114 1.86198910e-093 1.72157171e-146\n",
      " 7.44694055e-117 1.83157530e-071 1.30199517e-136 4.07279829e-061\n",
      " 5.95242052e-169 5.72551425e-129 2.42181252e-081 6.18831924e-209\n",
      " 6.73285282e-152 2.32949303e-041 2.18958472e-116 6.09135851e-054\n",
      " 1.00000000e+000 1.00000000e+000 1.00000000e+000 1.00000000e+000\n",
      " 1.00000000e+000 1.00000000e+000 1.00000000e+000 1.00000000e+000\n",
      " 1.00000000e+000 1.00000000e+000 1.00000000e+000 1.00000000e+000\n",
      " 1.00000000e+000 1.00000000e+000 1.00000000e+000 1.00000000e+000\n",
      " 1.00000000e+000 1.00000000e+000 1.00000000e+000 1.00000000e+000\n",
      " 1.00000000e+000 1.00000000e+000 1.00000000e+000 1.00000000e+000\n",
      " 1.00000000e+000 1.00000000e+000 1.00000000e+000 1.00000000e+000\n",
      " 1.00000000e+000 1.00000000e+000 1.00000000e+000 1.00000000e+000\n",
      " 1.00000000e+000 1.00000000e+000 1.00000000e+000 1.00000000e+000\n",
      " 1.00000000e+000 1.00000000e+000 1.00000000e+000 1.00000000e+000]\n",
      "[1]loss:   -3.999799100455987e-06 val_loss: nan\n",
      "[1]coef:   [ 181.33797488 -184.13639192]\n",
      "--------------------------------------------------\n",
      "[4.23667961e-221 0.00000000e+000 0.00000000e+000 1.57192598e-190\n",
      " 2.82265183e-176 1.36607978e-192 0.00000000e+000 0.00000000e+000\n",
      " 0.00000000e+000 0.00000000e+000 7.60765558e-207 0.00000000e+000\n",
      " 2.83487632e-286 1.31393893e-249 0.00000000e+000 5.09048705e-272\n",
      " 1.36607978e-192 0.00000000e+000 0.00000000e+000 0.00000000e+000\n",
      " 0.00000000e+000 7.60765558e-207 0.00000000e+000 1.64138242e-243\n",
      " 0.00000000e+000 0.00000000e+000 5.85754139e-270 0.00000000e+000\n",
      " 0.00000000e+000 7.60765558e-207 0.00000000e+000 2.82265183e-176\n",
      " 0.00000000e+000 0.00000000e+000 2.35939363e-235 0.00000000e+000\n",
      " 0.00000000e+000 2.93466270e-119 0.00000000e+000 6.33165332e-156\n",
      " 1.00000000e+000 1.00000000e+000 1.00000000e+000 1.00000000e+000\n",
      " 1.00000000e+000 1.00000000e+000 1.00000000e+000 1.00000000e+000\n",
      " 1.00000000e+000 1.00000000e+000 1.00000000e+000 1.00000000e+000\n",
      " 1.00000000e+000 1.00000000e+000 1.00000000e+000 1.00000000e+000\n",
      " 1.00000000e+000 1.00000000e+000 1.00000000e+000 1.00000000e+000\n",
      " 1.00000000e+000 1.00000000e+000 1.00000000e+000 1.00000000e+000\n",
      " 1.00000000e+000 1.00000000e+000 1.00000000e+000 1.00000000e+000\n",
      " 1.00000000e+000 1.00000000e+000 1.00000000e+000 1.00000000e+000\n",
      " 1.00000000e+000 1.00000000e+000 1.00000000e+000 1.00000000e+000\n",
      " 1.00000000e+000 1.00000000e+000 1.00000000e+000 1.00000000e+000]\n",
      "[2]loss:   -3.9999998023354815e-06 val_loss: nan\n",
      "[2]coef:   [ 528.42604116 -535.11775497]\n",
      "--------------------------------------------------\n",
      "[0. 0. 0. 0. 0. 0. 0. 0. 0. 0. 0. 0. 0. 0. 0. 0. 0. 0. 0. 0. 0. 0. 0. 0.\n",
      " 0. 0. 0. 0. 0. 0. 0. 0. 0. 0. 0. 0. 0. 0. 0. 0. 1. 1. 1. 1. 1. 1. 1. 1.\n",
      " 1. 1. 1. 1. 1. 1. 1. 1. 1. 1. 1. 1. 1. 1. 1. 1. 1. 1. 1. 1. 1. 1. 1. 1.\n",
      " 1. 1. 1. 1. 1. 1. 1. 1.]\n",
      "[3]loss:   -3.9999998023354815e-06 val_loss: nan\n",
      "[3]coef:   [ 1449.35401092 -1466.37580009]\n",
      "--------------------------------------------------\n",
      "[0. 0. 0. 0. 0. 0. 0. 0. 0. 0. 0. 0. 0. 0. 0. 0. 0. 0. 0. 0. 0. 0. 0. 0.\n",
      " 0. 0. 0. 0. 0. 0. 0. 0. 0. 0. 0. 0. 0. 0. 0. 0. 1. 1. 1. 1. 1. 1. 1. 1.\n",
      " 1. 1. 1. 1. 1. 1. 1. 1. 1. 1. 1. 1. 1. 1. 1. 1. 1. 1. 1. 1. 1. 1. 1. 1.\n",
      " 1. 1. 1. 1. 1. 1. 1. 1.]\n",
      "[4]loss:   -3.9999998023354815e-06 val_loss: nan\n",
      "[4]coef:   [ 3892.85007967 -3937.28063411]\n",
      "--------------------------------------------------\n",
      "[0. 0. 0. 0. 0. 0. 0. 0. 0. 0. 0. 0. 0. 0. 0. 0. 0. 0. 0. 0. 0. 0. 0. 0.\n",
      " 0. 0. 0. 0. 0. 0. 0. 0. 0. 0. 0. 0. 0. 0. 0. 0. 1. 1. 1. 1. 1. 1. 1. 1.\n",
      " 1. 1. 1. 1. 1. 1. 1. 1. 1. 1. 1. 1. 1. 1. 1. 1. 1. 1. 1. 1. 1. 1. 1. 1.\n",
      " 1. 1. 1. 1. 1. 1. 1. 1.]\n",
      "[5]loss:   -3.9999998023354815e-06 val_loss: nan\n",
      "[5]coef:   [ 10376.17259141 -10493.32675984]\n",
      "--------------------------------------------------\n",
      "[0. 0. 0. 0. 0. 0. 0. 0. 0. 0. 0. 0. 0. 0. 0. 0. 0. 0. 0. 0. 0. 0. 0. 0.\n",
      " 0. 0. 0. 0. 0. 0. 0. 0. 0. 0. 0. 0. 0. 0. 0. 0. 1. 1. 1. 1. 1. 1. 1. 1.\n",
      " 1. 1. 1. 1. 1. 1. 1. 1. 1. 1. 1. 1. 1. 1. 1. 1. 1. 1. 1. 1. 1. 1. 1. 1.\n",
      " 1. 1. 1. 1. 1. 1. 1. 1.]\n",
      "[6]loss:   -3.9999998023354815e-06 val_loss: nan\n",
      "[6]coef:   [ 27578.35733354 -27888.46890007]\n",
      "--------------------------------------------------\n",
      "[0. 0. 0. 0. 0. 0. 0. 0. 0. 0. 0. 0. 0. 0. 0. 0. 0. 0. 0. 0. 0. 0. 0. 0.\n",
      " 0. 0. 0. 0. 0. 0. 0. 0. 0. 0. 0. 0. 0. 0. 0. 0. 1. 1. 1. 1. 1. 1. 1. 1.\n",
      " 1. 1. 1. 1. 1. 1. 1. 1. 1. 1. 1. 1. 1. 1. 1. 1. 1. 1. 1. 1. 1. 1. 1. 1.\n",
      " 1. 1. 1. 1. 1. 1. 1. 1.]\n",
      "[7]loss:   -3.9999998023354815e-06 val_loss: nan\n",
      "[7]coef:   [ 73220.87463329 -74042.95962138]\n",
      "--------------------------------------------------\n",
      "[0. 0. 0. 0. 0. 0. 0. 0. 0. 0. 0. 0. 0. 0. 0. 0. 0. 0. 0. 0. 0. 0. 0. 0.\n",
      " 0. 0. 0. 0. 0. 0. 0. 0. 0. 0. 0. 0. 0. 0. 0. 0. 1. 1. 1. 1. 1. 1. 1. 1.\n",
      " 1. 1. 1. 1. 1. 1. 1. 1. 1. 1. 1. 1. 1. 1. 1. 1. 1. 1. 1. 1. 1. 1. 1. 1.\n",
      " 1. 1. 1. 1. 1. 1. 1. 1.]\n",
      "[8]loss:   -3.9999998023354815e-06 val_loss: nan\n",
      "[8]coef:   [ 194324.06104174 -196504.56393436]\n",
      "--------------------------------------------------\n",
      "[0. 0. 0. 0. 0. 0. 0. 0. 0. 0. 0. 0. 0. 0. 0. 0. 0. 0. 0. 0. 0. 0. 0. 0.\n",
      " 0. 0. 0. 0. 0. 0. 0. 0. 0. 0. 0. 0. 0. 0. 0. 0. 1. 1. 1. 1. 1. 1. 1. 1.\n",
      " 1. 1. 1. 1. 1. 1. 1. 1. 1. 1. 1. 1. 1. 1. 1. 1. 1. 1. 1. 1. 1. 1. 1. 1.\n",
      " 1. 1. 1. 1. 1. 1. 1. 1.]\n",
      "[9]loss:   -3.9999998023354815e-06 val_loss: nan\n",
      "[9]coef:   [ 515646.86762496 -521431.6576263 ]\n",
      "--------------------------------------------------\n",
      "[0. 0. 0. 0. 0. 0. 0. 0. 0. 0. 0. 0. 0. 0. 0. 0. 0. 0. 0. 0. 0. 0. 0. 0.\n",
      " 0. 0. 0. 0. 0. 0. 0. 0. 0. 0. 0. 0. 0. 0. 0. 0. 1. 1. 1. 1. 1. 1. 1. 1.\n",
      " 1. 1. 1. 1. 1. 1. 1. 1. 1. 1. 1. 1. 1. 1. 1. 1. 1. 1. 1. 1. 1. 1. 1. 1.\n",
      " 1. 1. 1. 1. 1. 1. 1. 1.]\n",
      "[10]loss:   -3.9999998023354815e-06 val_loss: nan\n",
      "[10]coef:   [ 1368211.93294278 -1383559.96965836]\n",
      "--------------------------------------------------\n",
      "[0. 0. 0. 0. 0. 0. 0. 0. 0. 0. 0. 0. 0. 0. 0. 0. 0. 0. 0. 0. 0. 0. 0. 0.\n",
      " 0. 0. 0. 0. 0. 0. 0. 0. 0. 0. 0. 0. 0. 0. 0. 0. 1. 1. 1. 1. 1. 1. 1. 1.\n",
      " 1. 1. 1. 1. 1. 1. 1. 1. 1. 1. 1. 1. 1. 1. 1. 1. 1. 1. 1. 1. 1. 1. 1. 1.\n",
      " 1. 1. 1. 1. 1. 1. 1. 1.]\n",
      "[11]loss:   -3.9999998023354815e-06 val_loss: nan\n",
      "[11]coef:   [ 3630320.86423684 -3671043.04151305]\n",
      "--------------------------------------------------\n",
      "[0. 0. 0. 0. 0. 0. 0. 0. 0. 0. 0. 0. 0. 0. 0. 0. 0. 0. 0. 0. 0. 0. 0. 0.\n",
      " 0. 0. 0. 0. 0. 0. 0. 0. 0. 0. 0. 0. 0. 0. 0. 0. 1. 1. 1. 1. 1. 1. 1. 1.\n",
      " 1. 1. 1. 1. 1. 1. 1. 1. 1. 1. 1. 1. 1. 1. 1. 1. 1. 1. 1. 1. 1. 1. 1. 1.\n",
      " 1. 1. 1. 1. 1. 1. 1. 1.]\n",
      "[12]loss:   -3.9999998023354815e-06 val_loss: nan\n",
      "[12]coef:   [ 9632369.30042609 -9740416.62662181]\n",
      "--------------------------------------------------\n",
      "[0. 0. 0. 0. 0. 0. 0. 0. 0. 0. 0. 0. 0. 0. 0. 0. 0. 0. 0. 0. 0. 0. 0. 0.\n",
      " 0. 0. 0. 0. 0. 0. 0. 0. 0. 0. 0. 0. 0. 0. 0. 0. 1. 1. 1. 1. 1. 1. 1. 1.\n",
      " 1. 1. 1. 1. 1. 1. 1. 1. 1. 1. 1. 1. 1. 1. 1. 1. 1. 1. 1. 1. 1. 1. 1. 1.\n",
      " 1. 1. 1. 1. 1. 1. 1. 1.]\n",
      "[13]loss:   -3.9999998023354815e-06 val_loss: nan\n",
      "[13]coef:   [ 25557590.64233267 -25844271.63165506]\n",
      "--------------------------------------------------\n",
      "[0. 0. 0. 0. 0. 0. 0. 0. 0. 0. 0. 0. 0. 0. 0. 0. 0. 0. 0. 0. 0. 0. 0. 0.\n",
      " 0. 0. 0. 0. 0. 0. 0. 0. 0. 0. 0. 0. 0. 0. 0. 0. 1. 1. 1. 1. 1. 1. 1. 1.\n",
      " 1. 1. 1. 1. 1. 1. 1. 1. 1. 1. 1. 1. 1. 1. 1. 1. 1. 1. 1. 1. 1. 1. 1. 1.\n",
      " 1. 1. 1. 1. 1. 1. 1. 1.]\n",
      "[14]loss:   -3.9999998023354815e-06 val_loss: nan\n",
      "[14]coef:   [ 67811943.88273029 -68572593.1604882 ]\n",
      "--------------------------------------------------\n",
      "[0. 0. 0. 0. 0. 0. 0. 0. 0. 0. 0. 0. 0. 0. 0. 0. 0. 0. 0. 0. 0. 0. 0. 0.\n",
      " 0. 0. 0. 0. 0. 0. 0. 0. 0. 0. 0. 0. 0. 0. 0. 0. 1. 1. 1. 1. 1. 1. 1. 1.\n",
      " 1. 1. 1. 1. 1. 1. 1. 1. 1. 1. 1. 1. 1. 1. 1. 1. 1. 1. 1. 1. 1. 1. 1. 1.\n",
      " 1. 1. 1. 1. 1. 1. 1. 1.]\n",
      "[15]loss:   -3.9999998023354815e-06 val_loss: nan\n",
      "[15]coef:   [ 1.79925322e+08 -1.81943551e+08]\n",
      "--------------------------------------------------\n",
      "[0. 0. 0. 0. 0. 0. 0. 0. 0. 0. 0. 0. 0. 0. 0. 0. 0. 0. 0. 0. 0. 0. 0. 0.\n",
      " 0. 0. 0. 0. 0. 0. 0. 0. 0. 0. 0. 0. 0. 0. 0. 0. 1. 1. 1. 1. 1. 1. 1. 1.\n",
      " 1. 1. 1. 1. 1. 1. 1. 1. 1. 1. 1. 1. 1. 1. 1. 1. 1. 1. 1. 1. 1. 1. 1. 1.\n",
      " 1. 1. 1. 1. 1. 1. 1. 1.]\n",
      "[16]loss:   -3.9999998023354815e-06 val_loss: nan\n",
      "[16]coef:   [ 4.77395492e+08 -4.82750452e+08]\n",
      "--------------------------------------------------\n",
      "[0. 0. 0. 0. 0. 0. 0. 0. 0. 0. 0. 0. 0. 0. 0. 0. 0. 0. 0. 0. 0. 0. 0. 0.\n",
      " 0. 0. 0. 0. 0. 0. 0. 0. 0. 0. 0. 0. 0. 0. 0. 0. 1. 1. 1. 1. 1. 1. 1. 1.\n",
      " 1. 1. 1. 1. 1. 1. 1. 1. 1. 1. 1. 1. 1. 1. 1. 1. 1. 1. 1. 1. 1. 1. 1. 1.\n",
      " 1. 1. 1. 1. 1. 1. 1. 1.]\n",
      "[17]loss:   -3.9999998023354815e-06 val_loss: nan\n",
      "[17]coef:   [ 1.26667241e+09 -1.28088071e+09]\n",
      "--------------------------------------------------\n",
      "[0. 0. 0. 0. 0. 0. 0. 0. 0. 0. 0. 0. 0. 0. 0. 0. 0. 0. 0. 0. 0. 0. 0. 0.\n",
      " 0. 0. 0. 0. 0. 0. 0. 0. 0. 0. 0. 0. 0. 0. 0. 0. 1. 1. 1. 1. 1. 1. 1. 1.\n",
      " 1. 1. 1. 1. 1. 1. 1. 1. 1. 1. 1. 1. 1. 1. 1. 1. 1. 1. 1. 1. 1. 1. 1. 1.\n",
      " 1. 1. 1. 1. 1. 1. 1. 1.]\n",
      "[18]loss:   -3.9999998023354815e-06 val_loss: nan\n",
      "[18]coef:   [ 3.36085905e+09 -3.39855790e+09]\n",
      "--------------------------------------------------\n",
      "[0. 0. 0. 0. 0. 0. 0. 0. 0. 0. 0. 0. 0. 0. 0. 0. 0. 0. 0. 0. 0. 0. 0. 0.\n",
      " 0. 0. 0. 0. 0. 0. 0. 0. 0. 0. 0. 0. 0. 0. 0. 0. 1. 1. 1. 1. 1. 1. 1. 1.\n",
      " 1. 1. 1. 1. 1. 1. 1. 1. 1. 1. 1. 1. 1. 1. 1. 1. 1. 1. 1. 1. 1. 1. 1. 1.\n",
      " 1. 1. 1. 1. 1. 1. 1. 1.]\n",
      "[19]loss:   -3.9999998023354815e-06 val_loss: nan\n",
      "[19]coef:   [ 8.91735965e+09 -9.01738593e+09]\n",
      "--------------------------------------------------\n"
     ]
    },
    {
     "data": {
      "image/png": "[encoded data removed]",
      "text/plain": [
       "<Figure size 432x288 with 2 Axes>"
      ]
     },
     "metadata": {
      "needs_background": "light"
     },
     "output_type": "display_data"
    }
   ],
   "source": [
    "import warnings\n",
    "warnings.filterwarnings('ignore')\n",
    "\n",
    "a.fit(xsample,y)"
   ]
  },
  {
   "cell_type": "code",
   "execution_count": 44,
   "metadata": {},
   "outputs": [
    {
     "data": {
      "text/plain": [
       "array([0, 0, 0, 0, 0, 0, 0, 0, 0, 0, 0, 0, 0, 0, 0, 0, 0, 0, 0, 0, 0, 0,\n",
       "       0, 0, 0, 0, 0, 0, 0, 0, 0, 0, 0, 0, 0, 0, 0, 0, 0, 0, 1, 1, 1, 1,\n",
       "       1, 1, 1, 1, 1, 1, 1, 1, 1, 1, 1, 1, 1, 1, 1, 1, 1, 1, 1, 1, 1, 1,\n",
       "       1, 1, 1, 1, 1, 1, 1, 1, 1, 1, 1, 1, 1, 1])"
      ]
     },
     "execution_count": 44,
     "metadata": {},
     "output_type": "execute_result"
    }
   ],
   "source": [
    "a.predict(xsample)"
   ]
  },
  {
   "cell_type": "code",
   "execution_count": 49,
   "metadata": {},
   "outputs": [],
   "source": [
    "import matplotlib.pyplot as plt\n",
    "from matplotlib.colors import ListedColormap\n",
    "import matplotlib.patches as mpatches\n",
    "def decision_region(X_train, y_train, model, step=0.01, title='decision region', xlabel='feature1', ylabel='feature2', target_names=['1', '-1']):\n",
    "    # setting\n",
    "    scatter_color = ['red', 'blue']\n",
    "    contourf_color = ['pink', 'skyblue']\n",
    "    n_class = 2\n",
    "\n",
    "    # pred\n",
    "    mesh_f0, mesh_f1  = np.meshgrid(np.arange(np.min(X_train[:,0])-0.5, np.max(X_train[:,0])+0.5, step), np.arange(np.min(X_train[:,1])-0.5, np.max(X_train[:,1])+0.5, step))\n",
    "    mesh = np.c_[np.ravel(mesh_f0),np.ravel(mesh_f1)]\n",
    "    pred = model.predict(mesh).reshape(mesh_f0.shape)\n",
    "\n",
    "    # plot\n",
    "    plt.title(title)\n",
    "    plt.xlabel(xlabel)\n",
    "    plt.ylabel(ylabel)\n",
    "    plt.contourf(mesh_f0, mesh_f1, pred, n_class-1, cmap=ListedColormap(contourf_color))\n",
    "    plt.contour(mesh_f0, mesh_f1, pred, n_class-1, colors='y', linewidths=3, alpha=0.5)\n",
    "    for i, target in enumerate(set(y_train)):\n",
    "        plt.scatter(X_train[y_train==target][:, 0], X_train[y_train==target][:, 1], s=80, color=scatter_color[i], label=target_names[i], marker='o')\n",
    "    patches = [mpatches.Patch(color=scatter_color[i], label=target_names[i]) for i in range(n_class)]\n",
    "    plt.legend(handles=patches)\n",
    "    plt.legend()\n",
    "    plt.show()"
   ]
  },
  {
   "cell_type": "code",
   "execution_count": 50,
   "metadata": {},
   "outputs": [
    {
     "data": {
      "image/png": "[encoded data removed]",
      "text/plain": [
       "<Figure size 432x288 with 1 Axes>"
      ]
     },
     "metadata": {
      "needs_background": "light"
     },
     "output_type": "display_data"
    }
   ],
   "source": [
    "decision_region(xsample.values,y, a, step=0.01, title='decision region', xlabel='feature1', ylabel='feature2', target_names=['1', '-1'])"
   ]
  },
  {
   "cell_type": "code",
   "execution_count": null,
   "metadata": {},
   "outputs": [],
   "source": []
  },
  {
   "cell_type": "code",
   "execution_count": null,
   "metadata": {},
   "outputs": [],
   "source": []
  }
 ],
 "metadata": {
  "kernelspec": {
   "display_name": "Python 3",
   "language": "python",
   "name": "python3"
  },
  "language_info": {
   "codemirror_mode": {
    "name": "ipython",
    "version": 3
   },
   "file_extension": ".py",
   "mimetype": "text/x-python",
   "name": "python",
   "nbconvert_exporter": "python",
   "pygments_lexer": "ipython3",
   "version": "3.6.8"
  }
 },
 "nbformat": 4,
 "nbformat_minor": 2
}
