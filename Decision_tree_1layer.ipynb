{
 "cells": [
  {
   "cell_type": "markdown",
   "metadata": {},
   "source": [
    "# 決定木を実装(1層)"
   ]
  },
  {
   "cell_type": "code",
   "execution_count": 12,
   "metadata": {},
   "outputs": [],
   "source": [
    "import numpy as np\n",
    "import matplotlib.pyplot as plt\n",
    "# from sklearn.datasets.samples_generator import make_blobs\n",
    "from sklearn.datasets import make_blobs\n",
    "import matplotlib.pyplot as plt\n",
    "from matplotlib.colors import ListedColormap\n",
    "import matplotlib.patches as mpatches\n",
    "from scipy.stats import mode"
   ]
  },
  {
   "cell_type": "markdown",
   "metadata": {},
   "source": [
    "## サンプルデータセット"
   ]
  },
  {
   "cell_type": "code",
   "execution_count": 31,
   "metadata": {},
   "outputs": [],
   "source": [
    "X, y = make_blobs(n_samples=30, centers=2, n_features=2,random_state=0, cluster_std=1)"
   ]
  },
  {
   "cell_type": "code",
   "execution_count": 32,
   "metadata": {},
   "outputs": [
    {
     "data": {
      "image/png": "[encoded data removed]",
      "text/plain": [
       "<Figure size 432x288 with 1 Axes>"
      ]
     },
     "metadata": {
      "needs_background": "light"
     },
     "output_type": "display_data"
    }
   ],
   "source": [
    "plt.scatter(X[:,0],X[:,1], c=y);"
   ]
  },
  {
   "cell_type": "markdown",
   "metadata": {},
   "source": [
    "## ジニ不純度を求める関数を作る\n",
    "\n",
    "$I(t) = 1-\\sum_{i=1}^{K}P(C_i|t)^2 = 1-\\sum_{i=1}^{K}(\\frac{N_{t,i}}{N_{t,all}})^{2}$"
   ]
  },
  {
   "cell_type": "code",
   "execution_count": 33,
   "metadata": {},
   "outputs": [],
   "source": [
    "def jini(y):\n",
    "    #count unique label\n",
    "    classes = np.unique(y)\n",
    "    sum_prob = 0\n",
    "    for clas in classes:\n",
    "        #count number of each label\n",
    "        cls_sum = np.sum(y == clas)\n",
    "        sample_num = y.shape[0]\n",
    "        sum_prob += np.power(cls_sum/sample_num, 2)\n",
    "    return 1-sum_prob"
   ]
  },
  {
   "cell_type": "code",
   "execution_count": 34,
   "metadata": {},
   "outputs": [
    {
     "data": {
      "text/plain": [
       "0.24489795918367352"
      ]
     },
     "execution_count": 34,
     "metadata": {},
     "output_type": "execute_result"
    }
   ],
   "source": [
    "a = np.array([1,1,1,1,1,1,0])\n",
    "jini(a)"
   ]
  },
  {
   "cell_type": "markdown",
   "metadata": {},
   "source": [
    "## ノード間のゲインを計算する関数"
   ]
  },
  {
   "cell_type": "markdown",
   "metadata": {},
   "source": [
    "$IG(p) = I(p)-\\frac{N_{left,all}}{N_{p,all}}I(left)-\\frac{N_{right,all}}{N_{p,all}}I(right)$"
   ]
  },
  {
   "cell_type": "code",
   "execution_count": 35,
   "metadata": {},
   "outputs": [],
   "source": [
    "def jini_gain(p_node, node1, node2):\n",
    "    p_jini = jini(p_node)\n",
    "    n1_jini = jini(node1)\n",
    "    n2_jini = jini(node2)\n",
    "    n1_sample_rate =  node1.shape[0]/p_node.shape[0]\n",
    "    n2_sample_rate = node2.shape[0]/p_node.shape[0]\n",
    "    \n",
    "    return  p_jini - n1_sample_rate*n1_jini - n2_sample_rate*n2_jini"
   ]
  },
  {
   "cell_type": "code",
   "execution_count": 36,
   "metadata": {},
   "outputs": [
    {
     "data": {
      "text/plain": [
       "0.16666666666666669"
      ]
     },
     "execution_count": 36,
     "metadata": {},
     "output_type": "execute_result"
    }
   ],
   "source": [
    "a = np.array([1,1,1,1,0,0,0,0])\n",
    "b = np.array([1,1,0,0,0,0])\n",
    "c = np.array([1,1])\n",
    "jini_gain(a,b,c)"
   ]
  },
  {
   "cell_type": "markdown",
   "metadata": {},
   "source": [
    "## 1層決定木のアルゴリズムの実装"
   ]
  },
  {
   "cell_type": "code",
   "execution_count": 37,
   "metadata": {},
   "outputs": [
    {
     "name": "stdout",
     "output_type": "stream",
     "text": [
      "1: 0.0357142857142857\n",
      "updated\n",
      "2: 0.0\n",
      "3: 0.006172839506172818\n",
      "4: 0.0215311004784689\n",
      "5: 0.0\n",
      "6: 0.002645502645502673\n",
      "7: 0.019230769230769218\n",
      "8: 0.0\n",
      "9: 0.01000000000000012\n",
      "10: 0.03600000000000009\n",
      "updated\n",
      "11: -1.3877787807814457e-17\n",
      "12: 0.006172839506172811\n",
      "13: 0.0031055900621117516\n",
      "14: 0.004000000000000031\n",
      "15: 0.017241379310344862\n",
      "16: 0.0\n",
      "17: 0.0031055900621117655\n",
      "18: 0.0\n",
      "19: 0.040000000000000036\n",
      "updated\n",
      "20: 0.011363636363636298\n",
      "21: 0.02380952380952378\n",
      "22: 0.013888888888888729\n",
      "23: 0.0023923444976075847\n",
      "24: 0.0092592592592593\n",
      "25: 0.002262443438914019\n",
      "26: 0.002262443438914019\n",
      "27: 0.017241379310344862\n",
      "28: -2.7755575615628914e-17\n",
      "29: 2.7755575615628914e-17\n",
      "30: 0.0022222222222222365\n",
      "31: 0.37555555555555564\n",
      "updated\n",
      "32: 0.125\n",
      "33: 0.15217391304347822\n",
      "34: 0.18181818181818182\n",
      "35: 0.33333333333333337\n",
      "36: 0.09999999999999998\n",
      "37: 0.017241379310344862\n",
      "38: 0.0357142857142857\n",
      "39: 0.25\n",
      "40: 0.25\n",
      "41: 0.33333333333333337\n",
      "42: 0.38235294117647056\n",
      "updated\n",
      "43: 0.2894736842105263\n",
      "44: 0.07692307692307687\n",
      "45: 0.38235294117647056\n",
      "46: 0.05555555555555558\n",
      "47: 0.2142857142857143\n",
      "48: 0.4375\n",
      "updated\n",
      "49: 0.15217391304347822\n",
      "50: 0.18181818181818182\n",
      "51: 0.2894736842105263\n",
      "52: 0.2142857142857143\n",
      "53: 0.0\n",
      "54: 0.125\n",
      "55: 0.05555555555555558\n",
      "56: 0.09999999999999998\n",
      "57: 0.4375\n",
      "58: 0.017241379310344862\n",
      "59: 0.0357142857142857\n",
      "60: 0.07692307692307687\n"
     ]
    }
   ],
   "source": [
    "threshold = 0\n",
    "gain = 0\n",
    "node1 = None\n",
    "node2 = None\n",
    "select_col = None\n",
    "count = 0\n",
    "\n",
    "# それぞれの列に対して、各サンプル点を閾値として最大のGainを探索\n",
    "for col in range(X.shape[1]):\n",
    "    for thr in X[:,col]:\n",
    "        high_idx = X[:,col] >= thr\n",
    "        low_idx = X[:,col] < thr\n",
    "        node_high_y = y[high_idx]\n",
    "        node_low_y = y[low_idx]\n",
    "        now_gain = jini_gain(y, node_high_y, node_low_y)\n",
    "        print(\"{}: {}\".format(count+1,now_gain))\n",
    "        count+=1\n",
    "        # 閾値の更新\n",
    "        if now_gain > gain:\n",
    "            gain = now_gain\n",
    "            node1 = node_high_y\n",
    "            node2 = node_low_y\n",
    "            threshold = thr\n",
    "            select_col = col\n",
    "            print(\"updated\")"
   ]
  },
  {
   "cell_type": "markdown",
   "metadata": {},
   "source": [
    "## 予測"
   ]
  },
  {
   "cell_type": "code",
   "execution_count": 38,
   "metadata": {},
   "outputs": [],
   "source": [
    "# 前のアルゴリズムで得られた、列と閾値から予測\n",
    "y_pred = np.where(X[:,select_col] >= threshold,0, 1)"
   ]
  },
  {
   "cell_type": "code",
   "execution_count": 39,
   "metadata": {},
   "outputs": [
    {
     "data": {
      "text/plain": [
       "array([1, 0, 1, 1, 0, 0, 0, 1, 1, 0, 1, 0, 1, 0, 1, 0, 0, 0, 0, 0, 0, 1,\n",
       "       1, 1, 1, 1, 1, 1, 0, 1])"
      ]
     },
     "execution_count": 39,
     "metadata": {},
     "output_type": "execute_result"
    }
   ],
   "source": [
    "y_pred"
   ]
  },
  {
   "cell_type": "code",
   "execution_count": 40,
   "metadata": {},
   "outputs": [
    {
     "data": {
      "image/png": "[encoded data removed]",
      "text/plain": [
       "<Figure size 432x288 with 1 Axes>"
      ]
     },
     "metadata": {
      "needs_background": "light"
     },
     "output_type": "display_data"
    }
   ],
   "source": [
    "plt.scatter(X[:,0],X[:,1],c=y_pred);"
   ]
  },
  {
   "cell_type": "code",
   "execution_count": 41,
   "metadata": {},
   "outputs": [
    {
     "data": {
      "text/plain": [
       "2.8494216528496255"
      ]
     },
     "execution_count": 41,
     "metadata": {},
     "output_type": "execute_result"
    }
   ],
   "source": [
    "threshold"
   ]
  },
  {
   "cell_type": "code",
   "execution_count": 42,
   "metadata": {},
   "outputs": [
    {
     "data": {
      "image/png": "[encoded data removed]",
      "text/plain": [
       "<Figure size 432x288 with 1 Axes>"
      ]
     },
     "metadata": {
      "needs_background": "light"
     },
     "output_type": "display_data"
    }
   ],
   "source": [
    "plt.scatter(X[:,0],X[:,1], c=y_pred);"
   ]
  },
  {
   "cell_type": "markdown",
   "metadata": {},
   "source": [
    "## クラス化"
   ]
  },
  {
   "cell_type": "code",
   "execution_count": 49,
   "metadata": {},
   "outputs": [],
   "source": [
    "class Tree():\n",
    "    def __init__(self):\n",
    "        self.threshold = 0\n",
    "        self.select_col = None\n",
    "        self.gain = 0\n",
    "        self.label = None\n",
    "        self.node1_label = None\n",
    "        self.node2_label = None\n",
    "    def _jini(self, y):\n",
    "        classes = np.unique(y)\n",
    "        sum_prob = 0\n",
    "        sum_mem = 0\n",
    "        label = 0\n",
    "        for clas in classes:\n",
    "            cls_sum = np.sum(y == clas)\n",
    "            sample_num = y.shape[0]\n",
    "            sum_prob += np.power(cls_sum/sample_num, 2)\n",
    "            if sum_mem < cls_sum:\n",
    "                label = clas\n",
    "                sum_mem = cls_sum\n",
    "        return 1-sum_prob, label\n",
    "\n",
    "    def _jini_gain(self,p_node, node1, node2):\n",
    "        p_jini, self.label = self._jini(p_node)\n",
    "        n1_jini, self.node1_label = self._jini(node1)\n",
    "        n2_jini, self.node2_label = self._jini(node2)\n",
    "#         print(n2_jini)\n",
    "        n1_sample_rate =  node1.shape[0]/p_node.shape[0]\n",
    "        n2_sample_rate = node2.shape[0]/p_node.shape[0]\n",
    "\n",
    "        return  p_jini - n1_sample_rate*n1_jini - n2_sample_rate*n2_jini\n",
    "        \n",
    "    def fit(self,X, y):\n",
    "        if (X.shape[0]==1):\n",
    "            print('要素が一つしかありません。')\n",
    "        else:\n",
    "            for col in range(X.shape[1]):\n",
    "                for thr in X[:,col]:\n",
    "                    high_idx = X[:,col] >= thr\n",
    "                    low_idx = X[:,col] < thr\n",
    "                    node_high = y[high_idx]\n",
    "                    node_low = y[low_idx]\n",
    "                    now_gain = self._jini_gain(y, node_high, node_low)\n",
    "                    if now_gain > self.gain:\n",
    "                        self.gain = now_gain\n",
    "                        self.threshold = thr\n",
    "                        self.select_col = col\n",
    "        \n",
    "    def predict(self,X):\n",
    "        # 前のアルゴリズムで得られた、列と閾値から予測\n",
    "\n",
    "        return np.where(X[:,self.select_col] >= self.threshold, self.node1_label, self.node2_label)"
   ]
  },
  {
   "cell_type": "code",
   "execution_count": 50,
   "metadata": {},
   "outputs": [
    {
     "data": {
      "text/plain": [
       "array([1, 0, 1, 1, 0, 0, 0, 1, 1, 0, 1, 0, 1, 0, 1, 0, 0, 0, 0, 0, 0, 1,\n",
       "       1, 1, 1, 1, 1, 1, 0, 1])"
      ]
     },
     "execution_count": 50,
     "metadata": {},
     "output_type": "execute_result"
    }
   ],
   "source": [
    "tree =Tree()\n",
    "tree.fit(X,y)\n",
    "tree.predict(X)"
   ]
  },
  {
   "cell_type": "code",
   "execution_count": 51,
   "metadata": {},
   "outputs": [
    {
     "data": {
      "text/plain": [
       "array([1, 0, 1, 1, 0, 0, 0, 1, 1, 0, 1, 0, 1, 0, 1, 0, 0, 0, 0, 0, 0, 1,\n",
       "       1, 1, 1, 1, 1, 1, 0, 1])"
      ]
     },
     "execution_count": 51,
     "metadata": {},
     "output_type": "execute_result"
    }
   ],
   "source": [
    "tree.predict(X)"
   ]
  },
  {
   "cell_type": "code",
   "execution_count": 52,
   "metadata": {},
   "outputs": [
    {
     "data": {
      "image/png": "[encoded data removed]",
      "text/plain": [
       "<Figure size 432x288 with 1 Axes>"
      ]
     },
     "metadata": {
      "needs_background": "light"
     },
     "output_type": "display_data"
    }
   ],
   "source": [
    "# 正解で色分け\n",
    "plt.scatter(X[:,0],X[:,1], c=y);"
   ]
  },
  {
   "cell_type": "code",
   "execution_count": 59,
   "metadata": {},
   "outputs": [
    {
     "data": {
      "image/png": "[encoded data removed]",
      "text/plain": [
       "<Figure size 432x288 with 1 Axes>"
      ]
     },
     "metadata": {
      "needs_background": "light"
     },
     "output_type": "display_data"
    }
   ],
   "source": [
    "# 予測で色分け\n",
    "plt.scatter(X[:,0],X[:,1], c=y_pred);"
   ]
  },
  {
   "cell_type": "code",
   "execution_count": null,
   "metadata": {},
   "outputs": [],
   "source": []
  }
 ],
 "metadata": {
  "kernelspec": {
   "display_name": "Python 3",
   "language": "python",
   "name": "python3"
  },
  "language_info": {
   "codemirror_mode": {
    "name": "ipython",
    "version": 3
   },
   "file_extension": ".py",
   "mimetype": "text/x-python",
   "name": "python",
   "nbconvert_exporter": "python",
   "pygments_lexer": "ipython3",
   "version": "3.6.10"
  }
 },
 "nbformat": 4,
 "nbformat_minor": 4
}
