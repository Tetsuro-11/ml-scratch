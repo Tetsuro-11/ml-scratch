{
 "cells": [
  {
   "cell_type": "markdown",
   "metadata": {},
   "source": [
    "# １次元CNN"
   ]
  },
  {
   "cell_type": "code",
   "execution_count": 1,
   "metadata": {},
   "outputs": [
    {
     "name": "stderr",
     "output_type": "stream",
     "text": [
      "Using TensorFlow backend.\n"
     ]
    }
   ],
   "source": [
    "import numpy as np\n",
    "from keras.datasets import mnist\n",
    "import numpy as np\n",
    "import matplotlib.pyplot as plt\n",
    "from sklearn.preprocessing import OneHotEncoder\n",
    "from sklearn.model_selection import train_test_split\n",
    "from tqdm import tqdm\n",
    "import time\n",
    "from pyprind import ProgBar\n",
    "%matplotlib inline"
   ]
  },
  {
   "cell_type": "markdown",
   "metadata": {},
   "source": [
    "### Forward\n",
    "$\\alpha_0=(x_0+w_0)+(x_1+w_1)+(x_2+w_2)+b$  \n",
    "$\\alpha_1=(x_1+w_0)+(x_2+w_1)+(x_3+w_2)+b$\n"
   ]
  },
  {
   "cell_type": "code",
   "execution_count": 68,
   "metadata": {},
   "outputs": [],
   "source": [
    "kernel_size = 3\n",
    "stride = x.shape[0]-kernel_size+1\n",
    "a = np.zeros(stride)\n",
    "for i in range(stride):\n",
    "    a[i] = np.sum(w * x[i:i+kernel_size]) + b"
   ]
  },
  {
   "cell_type": "code",
   "execution_count": 69,
   "metadata": {},
   "outputs": [
    {
     "data": {
      "text/plain": [
       "array([15., 21.])"
      ]
     },
     "execution_count": 69,
     "metadata": {},
     "output_type": "execute_result"
    }
   ],
   "source": [
    "a"
   ]
  },
  {
   "cell_type": "markdown",
   "metadata": {},
   "source": [
    "### Backward\n",
    "\n",
    "- 更新量  \n",
    "$B=\\Delta \\alpha_0+\\Delta \\beta_0$  \n",
    "$\\Delta W_0=(\\Delta \\alpha_0\\times x_0)+(\\Delta \\alpha_1\\times x_1)$  \n",
    "$\\Delta W_1=(\\Delta \\alpha_0\\times x_1)+(\\Delta \\alpha_1\\times x_2)$  \n",
    "$\\Delta W_2=(\\Delta \\alpha_0\\times x_2)+(\\Delta \\alpha_1\\times x_3)$  \n",
    "\n",
    "- 前の層に伝える誤差  \n",
    "$\\Delta x_0 = \\Delta \\alpha_0\\times W_0$  \n",
    "$\\Delta x_1 = \\Delta \\alpha_0\\times W_1+\\Delta \\alpha_1\\times W_0$  \n",
    "$\\Delta x_2 = \\Delta \\alpha_0\\times W_2+\\Delta \\alpha_1\\times W_1$  \n",
    "$\\Delta x_3 = \\Delta \\alpha_1\\times W_2$  \n",
    "\n",
    "\n"
   ]
  },
  {
   "cell_type": "code",
   "execution_count": 77,
   "metadata": {},
   "outputs": [],
   "source": [
    "# サンプルデータ\n",
    "d_a = np.array([10, 20])\n",
    "x = np.array([1,2,3,4])\n",
    "w = np.array([3, 5, 7])\n",
    "b = np.array([1])"
   ]
  },
  {
   "cell_type": "code",
   "execution_count": 100,
   "metadata": {},
   "outputs": [],
   "source": [
    "# backward(数式そのまま)\n",
    "d_x = np.zeros(x.shape)\n",
    "lr = 1\n",
    "d_a = np.array([10,20])\n",
    "w = np.array([1,2,3])\n",
    "w[0] = w[0] + lr * (d_a[0]*x[0] + d_a[1]*x[1])\n",
    "w[1] = w[1] + lr * (d_a[0]*x[1] + d_a[1]*x[2])\n",
    "w[2] = w[2] + lr * (d_a[0]*x[2] + d_a[1]*x[3])\n",
    "b = d_a[0]+d_a[1]\n",
    "d_x[0] = d_x[0] + lr * (d_a[0]*w[0])\n",
    "d_x[1] = d_x[1] + lr * (d_a[0]*w[1] + d_a[1]*w[0])\n",
    "d_x[2] = d_x[2] + lr * (d_a[0]*w[2] + d_a[1]*w[1])\n",
    "d_x[3] = d_x[3] + lr * (d_a[1]*w[2])"
   ]
  },
  {
   "cell_type": "code",
   "execution_count": 104,
   "metadata": {},
   "outputs": [],
   "source": [
    "# backward(dot積に変換)\n",
    "d_x = np.zeros(x.shape)\n",
    "lr = 1\n",
    "d_a = np.array([10,20])\n",
    "w = np.array([1,2,3])\n",
    "w[0] = w[0] + lr * np.dot(d_a, x[0:2])\n",
    "w[1] = w[1] + lr * np.dot(d_a, x[1:3])\n",
    "w[2] = w[2] + lr * np.dot(d_a, x[2:4])\n",
    "b = np.sum(d_a+d_a)\n",
    "d_x[0] = d_x[0] + lr * np.dot(d_a[0],w[0])\n",
    "d_x[1] = d_x[1] + lr * np.dot(d_a, w[0:2])\n",
    "d_x[2] = d_x[2] + lr * np.dot(d_a, w[1:3])\n",
    "d_x[3] = d_x[3] + lr * np.dot(d_a[1], w[2])"
   ]
  },
  {
   "cell_type": "code",
   "execution_count": 260,
   "metadata": {},
   "outputs": [
    {
     "name": "stdout",
     "output_type": "stream",
     "text": [
      "50\n",
      "80\n",
      "110\n"
     ]
    }
   ],
   "source": [
    "# backward(for文に変換)\n",
    "x = np.array([1,2,3,4])\n",
    "b = np.array([1])\n",
    "w = np.array([3,5,7])\n",
    "d_x = np.zeros(x.shape)\n",
    "lr = 1\n",
    "d_a = np.array([10,20])\n",
    "kernel_size = 3\n",
    "stride = x.shape[0]-kernel_size+1\n",
    "\n",
    "for i in range(w.shape[0]):\n",
    "    w[i] += lr * np.dot(d_a, x[i:i+stride])\n",
    "    print(np.dot(d_a, x[i:i+stride]))\n",
    "b = np.sum(d_a)"
   ]
  },
  {
   "cell_type": "code",
   "execution_count": 257,
   "metadata": {},
   "outputs": [
    {
     "name": "stdout",
     "output_type": "stream",
     "text": [
      "[ 53  85 117]\n"
     ]
    }
   ],
   "source": [
    "print(w)"
   ]
  },
  {
   "cell_type": "code",
   "execution_count": 264,
   "metadata": {},
   "outputs": [
    {
     "name": "stdout",
     "output_type": "stream",
     "text": [
      "24 µs ± 415 ns per loop (mean ± std. dev. of 7 runs, 10000 loops each)\n"
     ]
    }
   ],
   "source": [
    "# 一度テーブルとして計算してからトレースとして計算\n",
    "x = np.array([1,2,3,4])\n",
    "b = np.array([1])\n",
    "w = np.array([3,5,7])\n",
    "\n",
    "# 重みと誤差の席の総当たりを計算する。\n",
    "wd_table = np.dot(w[::-1,np.newaxis], d_a[np.newaxis,:])\n",
    "id_count = 0\n",
    "\n",
    "for k in range(-(kernel_size-1), stride):\n",
    "    dx=np.trace(wd_table, k)\n",
    "    d_x[id_count] = lr * dx\n",
    "    id_count+=1"
   ]
  },
  {
   "cell_type": "code",
   "execution_count": 252,
   "metadata": {},
   "outputs": [
    {
     "name": "stdout",
     "output_type": "stream",
     "text": [
      "[ 30. 110. 170. 140.]\n",
      "[3 5 7]\n"
     ]
    }
   ],
   "source": [
    "print(d_x)"
   ]
  },
  {
   "cell_type": "code",
   "execution_count": 266,
   "metadata": {},
   "outputs": [
    {
     "data": {
      "text/plain": [
       "array([6.9e-322])"
      ]
     },
     "execution_count": 266,
     "metadata": {},
     "output_type": "execute_result"
    }
   ],
   "source": [
    "np.empty(1)"
   ]
  },
  {
   "cell_type": "code",
   "execution_count": 2,
   "metadata": {},
   "outputs": [],
   "source": [
    "class FC:\n",
    "    \n",
    "    def __init__(self, n_nodes1, n_nodes2, optimizer): #TODO SimpleInitializer\n",
    "        self.optimizer = optimizer\n",
    "        self.w = 0.01 * np.random.randn(n_nodes1, n_nodes2)\n",
    "        self.b = 0.01 * np.random.randn(n_nodes2)\n",
    "        # 初期化\n",
    "        # initializerのメソッドを使い、self.Wとself.Bを初期化する\n",
    "    def forward(self, X):\n",
    "        self.X = X\n",
    "        self.affine = np.dot(X, self.w) + self.b\n",
    "        return self.affine\n",
    "    \n",
    "    def backward(self, da):\n",
    "        dz = np.dot(da, self.w.T)\n",
    "        self.dw = np.dot(self.X.T, da)/da.shape[0]\n",
    "        self.db = np.mean(da, axis=0)\n",
    "        \n",
    "        # 更新\n",
    "        self = self.optimizer.update(self)\n",
    "        return dz\n",
    "    \n",
    "class GaussInitializer:\n",
    "    def __init__(self, sigma=0.1):\n",
    "        self.sigma = sigma\n",
    "        \n",
    "    def W(self, n_nodes1, n_nodes2):\n",
    "        W = self.sigma * np.random.randn(n_nodes1,n_nodes2)\n",
    "        return W\n",
    "    \n",
    "    def B(self, n_nodes2):\n",
    "        b = self.sigma * np.random.randn(n_nodes1)\n",
    "        return B\n",
    "\n",
    "class SGD:\n",
    "    def __init__(self, lr=0.1):\n",
    "        self.lr = lr\n",
    "    def update(self, layer):\n",
    "        layer.w -= self.lr * layer.dw\n",
    "        layer.b -= self.lr * layer.db\n",
    "        return layer\n",
    "    \n",
    "class Sigmoid:\n",
    "    def forward(self, a):\n",
    "        self.z = 1/(1+np.exp(-a))\n",
    "        return self.z\n",
    "    \n",
    "    def backward(self, da):\n",
    "        return da * (1-self.z) * self.z\n",
    "        \n",
    "    \n",
    "class ReLu:\n",
    "    def forward(self, Z):\n",
    "         return np.maximum(0, Z)\n",
    "    \n",
    "    def backward(self, da):\n",
    "        return np.where(da > 0, 1, 0)\n",
    "        \n",
    "class tanh:\n",
    "    def forward(self, a):\n",
    "        self.z = np.tanh(a)\n",
    "        return self.z \n",
    "        \n",
    "    def backward(self, da):\n",
    "        return da * (1 - np.power(self.Z, 2))\n",
    "        \n",
    "class Softmax:\n",
    "    def forward(self, a):\n",
    "        if a.ndim == 2:\n",
    "            a = a.T - np.max(a.T, axis=0)\n",
    "            self.z = (np.exp(a) / np.sum(np.exp(a), axis=0)).T\n",
    "            return self.z\n",
    "        \n",
    "        a = a - np.max(a)\n",
    "        self.z = np.exp(a) / np.sum(np.exp(a))\n",
    "        return self.z\n",
    "\n",
    "        \n",
    "    def backward(self, y):\n",
    "        return self.z - y\n",
    "        \n",
    "class GetMiniBatch:\n",
    "    \"\"\"\n",
    "    ミニバッチを取得するイテレータ\n",
    "\n",
    "    Parameters\n",
    "    ----------\n",
    "    X : 次の形のndarray, shape (n_samples, n_features)\n",
    "      学習データ\n",
    "    y : 次の形のndarray, shape (n_samples, 1)\n",
    "      正解値\n",
    "    batch_size : int\n",
    "      バッチサイズ\n",
    "    seed : int\n",
    "      NumPyの乱数のシード\n",
    "    \"\"\"\n",
    "    def __init__(self, X, y, batch_size = 10, seed=0):\n",
    "        self.batch_size = batch_size\n",
    "        np.random.seed(seed)\n",
    "        shuffle_index = np.random.permutation(np.arange(X.shape[0]))\n",
    "        self.X = X[shuffle_index]\n",
    "        self.y = y[shuffle_index]\n",
    "        self._stop = np.ceil(X.shape[0]/self.batch_size).astype(np.int)\n",
    "\n",
    "    def __len__(self):\n",
    "        return self._stop\n",
    "\n",
    "    def __getitem__(self,item):\n",
    "        p0 = item*self.batch_size\n",
    "        p1 = item*self.batch_size + self.batch_size\n",
    "        return self.X[p0:p1], self.y[p0:p1]        \n",
    "\n",
    "    def __iter__(self):\n",
    "        self._counter = 0\n",
    "        return self\n",
    "\n",
    "    def __next__(self):\n",
    "        if self._counter >= self._stop:\n",
    "            raise StopIteration()\n",
    "        p0 = self._counter*self.batch_size\n",
    "        p1 = self._counter*self.batch_size + self.batch_size\n",
    "        self._counter += 1\n",
    "        return self.X[p0:p1], self.y[p0:p1]"
   ]
  },
  {
   "cell_type": "code",
   "execution_count": 20,
   "metadata": {},
   "outputs": [],
   "source": [
    "class Conv1D:\n",
    "    def __init__(self, lr=0.01):\n",
    "        self.kernel_size=2\n",
    "        self.lr = lr\n",
    "        self.d_x = None\n",
    "        self.n_out = None\n",
    "        self.w = np.random.randn(self.kernel_size)\n",
    "        self.b = np.random.randn(1)  \n",
    "        \n",
    "        \n",
    "    def forward(self,x):\n",
    "        self.x = np.empty(x.shape[0])\n",
    "        self.x_shape = x.shape[0]\n",
    "        self.n_out = x.shape[0]-self.kernel_size+1\n",
    "        self.a = np.zeros(self.n_out)\n",
    "        for i in range(self.n_out):\n",
    "            self.a[i] = np.sum(self.w * x[i:i+self.kernel_size]) + self.b\n",
    "        return self.a\n",
    "    \n",
    "    \n",
    "    def backward(self, d_a):\n",
    "        self.sample = d_a\n",
    "#         self.d_x = np.random.randn(self.n_out)\n",
    "        self.d_x = np.random.randn(self.x_shape)\n",
    "        for i in range(self.w.shape[0]):\n",
    "            self.w[i] += self.lr * np.dot(d_a, self.x[i:i+self.n_out])\n",
    "        self.b += self.lr*np.sum(d_a)\n",
    "        # 重みと誤差の席の総当たりを計算する。\n",
    "        wd_table = np.dot(self.w[::-1,np.newaxis], d_a[np.newaxis,:])\n",
    "        id_count = 0\n",
    "#         print(wd_table)\n",
    "#         print(wd_table.shape)\n",
    "        for k in range(-(self.kernel_size-1), self.n_out+1):\n",
    "            dx=np.trace(wd_table, k)\n",
    "#             print(dx)\n",
    "#             self.d_x[id_count] = self.lr * dx\n",
    "#             print(k)\n",
    "            id_count+=1\n",
    "        return self.d_x"
   ]
  },
  {
   "cell_type": "code",
   "execution_count": 33,
   "metadata": {},
   "outputs": [],
   "source": [
    "class ScratchDeepNeuralNetworkClassifier():\n",
    "    def __init__(self,n_features, n_nodes1, n_nodes2, n_output, batch_size=10, epochs=10, sigma=0.1, lr=0.1):\n",
    "        self.batch_size = batch_size # バッチサイズ\n",
    "        self.epochs = epochs #エポック数\n",
    "        self.n_features = n_features # 特徴量の数\n",
    "        self.n_nodes1 = n_nodes1 # 1層目のノード数\n",
    "        self.n_nodes2 = n_nodes2 # 2層目のノード数\n",
    "        self.n_output = n_output # 出力のクラス数（3層目のノード数）\n",
    "        self.sigma = sigma # ガウス分布の標準偏差\n",
    "        self.lr = lr #学習率\n",
    "        self.ave_loss_list = np.empty(self.epochs)\n",
    "\n",
    "        \n",
    "    \n",
    "    def fit(self, X, y):\n",
    "        \n",
    "        self.optimizer = SGD(self.lr)\n",
    "        self.FC1 = FC(self.n_features, self.n_nodes1, optimizer=self.optimizer) #TODO SimpleInitializer\n",
    "        self.activation1 = Sigmoid()\n",
    "        self.FC2 = FC(self.n_nodes1, self.n_nodes2, optimizer=self.optimizer) #TODO SimpleInitializer\n",
    "        self.activation2 = Sigmoid()\n",
    "        self.FC3 = Conv1D()#TODO SimpleInitializer\n",
    "        self.activation3 = Sigmoid()\n",
    "        self.FC4 = FC(19, self.n_output, optimizer=self.optimizer)\n",
    "        self.activation4 = Softmax()\n",
    "        \n",
    "        for epoch in range(self.epochs):\n",
    "            get_mini_batch = GetMiniBatch(X, y, self.batch_size)\n",
    "            loss_list = np.empty(int(len(X)/self.batch_size))\n",
    "            count_iter = 0\n",
    "            for mini_X_train, mini_y_train in get_mini_batch:\n",
    "                # フォワードプロパゲーション\n",
    "                y_pred = self.predict(mini_X_train)\n",
    "                #バックプロパゲーション\n",
    "                dA4 = self.activation4.backward(mini_y_train)\n",
    "                dZ3 = self.FC4.backward(dA4)\n",
    "                dA3 = self.activation3.backward(dZ3) # 交差エントロピー誤差とソフトマックスを合わせている\n",
    "                dZ2 = self.FC3.backward(dA3[0])\n",
    "                dA2 = self.activation2.backward(np.array(dZ2))\n",
    "                dZ1 = self.FC2.backward(dA2)\n",
    "                dA1 = self.activation1.backward(dZ1)\n",
    "                dZ0 = self.FC1.backward(dA1) \n",
    "                \n",
    "                loss_list[count_iter]=self._cross_entropy(y_pred, mini_y_train)\n",
    "                count_iter+=1\n",
    "            count_iter = 0\n",
    "            self.ave_loss_list[epoch]=np.mean(loss_list)\n",
    "            print(f'epoch: {epoch+1}')\n",
    "            \n",
    "    def predict(self, X):\n",
    "        A1 = self.FC1.forward(X)\n",
    "        Z1 = self.activation1.forward(A1)\n",
    "        A2 = self.FC2.forward(Z1)\n",
    "        Z2 = self.activation2.forward(A2)\n",
    "        A3 = self.FC3.forward(Z2[0])\n",
    "        Z3 = self.activation3.forward(np.array([A3]))\n",
    "        A4 = self.FC4.forward(Z3)\n",
    "        Z4 = self.activation4.forward(A4)\n",
    "        return Z4\n",
    "    \n",
    "    def _cross_entropy(self, y_pred, y_true):\n",
    "        delta = 1e-7\n",
    "        return -np.sum(y_true*np.log(y_pred+delta))\n",
    "        "
   ]
  },
  {
   "cell_type": "code",
   "execution_count": 34,
   "metadata": {},
   "outputs": [
    {
     "data": {
      "text/plain": [
       "array([ 0.79254585, -0.14509158, -1.28713287, -0.48764179,  0.28927794,\n",
       "       -0.21785405, -1.41912022, -2.81962169, -1.14406001,  1.47568564,\n",
       "       -1.32275668,  1.60840454,  1.18336099,  0.67168525, -1.08747316,\n",
       "        0.56049014])"
      ]
     },
     "execution_count": 34,
     "metadata": {},
     "output_type": "execute_result"
    }
   ],
   "source": [
    "np.random.randn(16)"
   ]
  },
  {
   "cell_type": "code",
   "execution_count": 35,
   "metadata": {},
   "outputs": [],
   "source": [
    "clf.FC3.d_x"
   ]
  },
  {
   "cell_type": "code",
   "execution_count": 36,
   "metadata": {},
   "outputs": [
    {
     "ename": "AttributeError",
     "evalue": "'Conv1D' object has no attribute 'sample'",
     "output_type": "error",
     "traceback": [
      "\u001b[0;31m---------------------------------------------------------------------------\u001b[0m",
      "\u001b[0;31mAttributeError\u001b[0m                            Traceback (most recent call last)",
      "\u001b[0;32m<ipython-input-36-1431a27a4c0b>\u001b[0m in \u001b[0;36m<module>\u001b[0;34m\u001b[0m\n\u001b[0;32m----> 1\u001b[0;31m \u001b[0mclf\u001b[0m\u001b[0;34m.\u001b[0m\u001b[0mFC3\u001b[0m\u001b[0;34m.\u001b[0m\u001b[0msample\u001b[0m\u001b[0;34m\u001b[0m\u001b[0;34m\u001b[0m\u001b[0m\n\u001b[0m",
      "\u001b[0;31mAttributeError\u001b[0m: 'Conv1D' object has no attribute 'sample'"
     ]
    }
   ],
   "source": [
    "clf.FC3.sample"
   ]
  },
  {
   "cell_type": "code",
   "execution_count": 37,
   "metadata": {},
   "outputs": [
    {
     "name": "stdout",
     "output_type": "stream",
     "text": [
      "epoch: 1\n",
      "epoch: 2\n",
      "epoch: 3\n",
      "epoch: 4\n",
      "epoch: 5\n",
      "epoch: 6\n",
      "epoch: 7\n",
      "epoch: 8\n",
      "epoch: 9\n",
      "epoch: 10\n",
      "epoch: 11\n",
      "epoch: 12\n",
      "epoch: 13\n",
      "epoch: 14\n",
      "epoch: 15\n",
      "epoch: 16\n",
      "epoch: 17\n",
      "epoch: 18\n",
      "epoch: 19\n",
      "epoch: 20\n"
     ]
    }
   ],
   "source": [
    "clf=ScratchDeepNeuralNetworkClassifier(batch_size=1, epochs=20, n_features = 784, n_nodes1 = 40, n_nodes2 = 20,n_output = 10)\n",
    "clf.fit(X_train, y_train)"
   ]
  },
  {
   "cell_type": "code",
   "execution_count": null,
   "metadata": {},
   "outputs": [],
   "source": [
    "plt.plot(clf.ave_loss_list);"
   ]
  },
  {
   "cell_type": "code",
   "execution_count": 38,
   "metadata": {},
   "outputs": [],
   "source": [
    "# x = np.array([1,2,3,4])\n",
    "# b = np.array([1])\n",
    "# w = np.array([3,5,7])\n",
    "# conv1 = Conv1D()\n",
    "# conv1.forward(x)\n",
    "# conv1.backward(np.array([10, 20]))"
   ]
  },
  {
   "cell_type": "code",
   "execution_count": 39,
   "metadata": {},
   "outputs": [
    {
     "name": "stdout",
     "output_type": "stream",
     "text": [
      "(60000,)\n",
      "(60000, 10)\n",
      "float64\n",
      "(48000, 784)\n",
      "(12000, 784)\n"
     ]
    }
   ],
   "source": [
    "# mnistの読み込み\n",
    "(X_train, y_train), (X_test, y_test) = mnist.load_data()\n",
    "\n",
    "# 平滑化\n",
    "X_train = X_train.reshape(-1, 784)\n",
    "X_test = X_test.reshape(-1, 784)\n",
    "\n",
    "# floatに変換\n",
    "X_train = X_train.astype(np.float)\n",
    "X_test = X_test.astype(np.float)\n",
    "\n",
    "# 正規化\n",
    "X_train /= 255\n",
    "X_test /= 255\n",
    "\n",
    "enc = OneHotEncoder(handle_unknown='ignore', sparse=False)\n",
    "y_train_one_hot = enc.fit_transform(y_train[:, np.newaxis])\n",
    "y_test_one_hot = enc.transform(y_test[:, np.newaxis])\n",
    "print(y_train.shape) # (60000,)\n",
    "print(y_train_one_hot.shape) # (60000, 10)\n",
    "print(y_train_one_hot.dtype) # float64\n",
    "\n",
    "X_train, X_val, y_train, y_val = train_test_split(X_train, y_train_one_hot, test_size=0.2)\n",
    "print(X_train.shape) # (48000, 784)\n",
    "print(X_val.shape) # (12000, 784)"
   ]
  },
  {
   "cell_type": "code",
   "execution_count": 40,
   "metadata": {},
   "outputs": [
    {
     "data": {
      "text/plain": [
       "array([ 0.19749935, -1.11881989, -0.37934235, -0.43300461, -0.27598713,\n",
       "       -1.50463847, -0.62174554,  0.56766703,  0.76486553,  1.09472504,\n",
       "       -0.69866632, -0.71100913,  0.49893764,  0.9997827 ,  0.05934575,\n",
       "        0.02565066,  0.43968069,  1.40953916, -0.67475793, -0.39819753])"
      ]
     },
     "execution_count": 40,
     "metadata": {},
     "output_type": "execute_result"
    }
   ],
   "source": [
    "clf.FC3.d_x"
   ]
  },
  {
   "cell_type": "code",
   "execution_count": 43,
   "metadata": {},
   "outputs": [
    {
     "name": "stdout",
     "output_type": "stream",
     "text": [
      "epoch: 1\n",
      "epoch: 2\n",
      "epoch: 3\n",
      "epoch: 4\n",
      "epoch: 5\n",
      "epoch: 6\n",
      "epoch: 7\n",
      "epoch: 8\n",
      "epoch: 9\n",
      "epoch: 10\n"
     ]
    }
   ],
   "source": [
    "clf=ScratchDeepNeuralNetworkClassifier(batch_size=1, epochs=10, n_features = 784, n_nodes1 = 40, n_nodes2 = 20,n_output = 10)\n",
    "clf.fit(X_train, y_train)"
   ]
  },
  {
   "cell_type": "code",
   "execution_count": null,
   "metadata": {},
   "outputs": [],
   "source": []
  },
  {
   "cell_type": "code",
   "execution_count": 44,
   "metadata": {},
   "outputs": [
    {
     "name": "stdout",
     "output_type": "stream",
     "text": [
      "[5]\n",
      "[5]\n",
      "[5]\n",
      "[5]\n",
      "[5]\n",
      "[5]\n",
      "[5]\n",
      "[5]\n",
      "[5]\n",
      "[5]\n",
      "[5]\n",
      "[5]\n",
      "[5]\n",
      "[5]\n",
      "[5]\n",
      "[5]\n",
      "[5]\n",
      "[5]\n",
      "[5]\n",
      "[5]\n",
      "[5]\n",
      "[5]\n",
      "[5]\n",
      "[5]\n",
      "[5]\n",
      "[5]\n",
      "[5]\n",
      "[5]\n",
      "[5]\n",
      "[5]\n",
      "[5]\n",
      "[5]\n",
      "[5]\n",
      "[5]\n",
      "[5]\n",
      "[5]\n",
      "[5]\n",
      "[5]\n",
      "[5]\n",
      "[5]\n",
      "[5]\n",
      "[5]\n",
      "[5]\n",
      "[5]\n",
      "[5]\n",
      "[5]\n",
      "[5]\n",
      "[5]\n",
      "[5]\n",
      "[5]\n",
      "[5]\n",
      "[5]\n",
      "[5]\n",
      "[5]\n",
      "[5]\n",
      "[5]\n",
      "[5]\n",
      "[5]\n",
      "[5]\n",
      "[5]\n",
      "[5]\n",
      "[5]\n",
      "[5]\n",
      "[5]\n",
      "[5]\n",
      "[5]\n",
      "[5]\n",
      "[5]\n",
      "[5]\n",
      "[5]\n",
      "[5]\n",
      "[5]\n",
      "[5]\n",
      "[5]\n",
      "[5]\n",
      "[5]\n",
      "[5]\n",
      "[5]\n",
      "[5]\n",
      "[5]\n",
      "[5]\n",
      "[5]\n",
      "[5]\n",
      "[5]\n",
      "[5]\n",
      "[5]\n",
      "[5]\n",
      "[5]\n",
      "[5]\n",
      "[5]\n",
      "[5]\n",
      "[5]\n",
      "[5]\n",
      "[5]\n",
      "[5]\n",
      "[5]\n",
      "[5]\n",
      "[5]\n",
      "[5]\n",
      "[5]\n"
     ]
    }
   ],
   "source": [
    "for i in range(100):\n",
    "    print(np.argmax(clf.predict(X_train[i:i+1]),axis=1))"
   ]
  },
  {
   "cell_type": "code",
   "execution_count": 45,
   "metadata": {},
   "outputs": [
    {
     "data": {
      "text/plain": [
       "array([4, 8, 9, 9, 3, 4, 9, 5, 8, 6])"
      ]
     },
     "execution_count": 45,
     "metadata": {},
     "output_type": "execute_result"
    }
   ],
   "source": [
    "np.argmax(y_train[0:10],axis=1)"
   ]
  },
  {
   "cell_type": "code",
   "execution_count": null,
   "metadata": {},
   "outputs": [],
   "source": []
  },
  {
   "cell_type": "code",
   "execution_count": 46,
   "metadata": {},
   "outputs": [
    {
     "data": {
      "image/png": "[encoded data removed]",
      "text/plain": [
       "<Figure size 432x288 with 1 Axes>"
      ]
     },
     "metadata": {
      "needs_background": "light"
     },
     "output_type": "display_data"
    }
   ],
   "source": [
    "plt.plot(clf.ave_loss_list);"
   ]
  },
  {
   "cell_type": "markdown",
   "metadata": {},
   "source": [
    "## ストライド\n",
    "\n",
    "$N_{out} =  \\frac{N_{in}+2P-F}{S} + 1$  \n",
    "$P$: パディングの数  \n",
    "$F$: フィルタのサイズ  \n",
    "$S$: ストライドのサイズ  "
   ]
  },
  {
   "cell_type": "code",
   "execution_count": 249,
   "metadata": {},
   "outputs": [
    {
     "ename": "NameError",
     "evalue": "name 'n_in' is not defined",
     "output_type": "error",
     "traceback": [
      "\u001b[0;31m---------------------------------------------------------------------------\u001b[0m",
      "\u001b[0;31mNameError\u001b[0m                                 Traceback (most recent call last)",
      "\u001b[0;32m<ipython-input-249-4951c97a84e5>\u001b[0m in \u001b[0;36m<module>\u001b[0;34m\u001b[0m\n\u001b[0;32m----> 1\u001b[0;31m \u001b[0mn_out\u001b[0m \u001b[0;34m=\u001b[0m \u001b[0;34m(\u001b[0m\u001b[0mn_in\u001b[0m \u001b[0;34m+\u001b[0m \u001b[0;36m2\u001b[0m\u001b[0;34m*\u001b[0m\u001b[0mp\u001b[0m \u001b[0;34m-\u001b[0m \u001b[0mf\u001b[0m\u001b[0;34m)\u001b[0m\u001b[0;34m/\u001b[0m\u001b[0ms\u001b[0m \u001b[0;34m+\u001b[0m \u001b[0;36m1\u001b[0m\u001b[0;34m\u001b[0m\u001b[0;34m\u001b[0m\u001b[0m\n\u001b[0m",
      "\u001b[0;31mNameError\u001b[0m: name 'n_in' is not defined"
     ]
    }
   ],
   "source": [
    "n_out = (n_in + 2*p - f)/s + 1"
   ]
  },
  {
   "cell_type": "code",
   "execution_count": 164,
   "metadata": {},
   "outputs": [],
   "source": [
    "sample0 =np.array([[1, 2, 3, 4],\n",
    "                   [5, 6, 7, 8],\n",
    "                   [1, 2, 3, 4],\n",
    "                   ])"
   ]
  },
  {
   "cell_type": "code",
   "execution_count": 165,
   "metadata": {},
   "outputs": [
    {
     "name": "stdout",
     "output_type": "stream",
     "text": [
      "1\n",
      "7\n",
      "10\n",
      "13\n",
      "11\n",
      "4\n"
     ]
    }
   ],
   "source": [
    "for k in range(-(3-1), 4):\n",
    "    print(np.trace(sample0, k))"
   ]
  },
  {
   "cell_type": "code",
   "execution_count": 150,
   "metadata": {},
   "outputs": [],
   "source": [
    "sample1 =np.array([[1, 2, 3, 4],\n",
    "                   [5, 6, 7, 8],\n",
    "                   [1, 2, 3, 4],\n",
    "                   [5, 6, 7, 8]])"
   ]
  }
 ],
 "metadata": {
  "kernelspec": {
   "display_name": "Python 3",
   "language": "python",
   "name": "python3"
  },
  "language_info": {
   "codemirror_mode": {
    "name": "ipython",
    "version": 3
   },
   "file_extension": ".py",
   "mimetype": "text/x-python",
   "name": "python",
   "nbconvert_exporter": "python",
   "pygments_lexer": "ipython3",
   "version": "3.6.10"
  }
 },
 "nbformat": 4,
 "nbformat_minor": 4
}
