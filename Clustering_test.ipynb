{
 "cells": [
  {
   "cell_type": "markdown",
   "metadata": {},
   "source": [
    "# クラスタリング"
   ]
  },
  {
   "cell_type": "code",
   "execution_count": 1,
   "metadata": {},
   "outputs": [],
   "source": [
    "import matplotlib.pyplot as plt\n",
    "import numpy as np\n",
    "import scipy"
   ]
  },
  {
   "cell_type": "code",
   "execution_count": 2,
   "metadata": {},
   "outputs": [],
   "source": [
    "from sklearn.datasets import make_blobs\n",
    "X, _ = make_blobs(n_samples=100, n_features=2, centers=4, cluster_std=0.5, shuffle=True, random_state=0)"
   ]
  },
  {
   "cell_type": "code",
   "execution_count": 3,
   "metadata": {},
   "outputs": [
    {
     "data": {
      "image/png": "[encoded data removed]",
      "text/plain": [
       "<Figure size 432x288 with 1 Axes>"
      ]
     },
     "metadata": {
      "needs_background": "light"
     },
     "output_type": "display_data"
    }
   ],
   "source": [
    "plt.scatter(X[:,0], X[:, 1]);"
   ]
  },
  {
   "cell_type": "markdown",
   "metadata": {},
   "source": [
    "## 目的関数\n",
    "$ SSE = \\sum_{n=1}^N \\sum_{k=1}^K r_{nk} \\|X_n - \\mu_k\\|^2 $ "
   ]
  },
  {
   "cell_type": "markdown",
   "metadata": {},
   "source": [
    "## サンプル"
   ]
  },
  {
   "cell_type": "code",
   "execution_count": 4,
   "metadata": {},
   "outputs": [],
   "source": [
    "col = 2\n",
    "k = 2\n",
    "centroids = np.random.randn(k,col)"
   ]
  },
  {
   "cell_type": "code",
   "execution_count": 5,
   "metadata": {},
   "outputs": [],
   "source": [
    "a= np.array([[2,2],[3,4],[5,6],[7,8]])\n",
    "centroids = np.array([[1,2],[3,4]])"
   ]
  },
  {
   "cell_type": "code",
   "execution_count": 6,
   "metadata": {},
   "outputs": [
    {
     "data": {
      "text/plain": [
       "array([[1, 2],\n",
       "       [3, 4]])"
      ]
     },
     "execution_count": 6,
     "metadata": {},
     "output_type": "execute_result"
    }
   ],
   "source": [
    "centroids"
   ]
  },
  {
   "cell_type": "code",
   "execution_count": 7,
   "metadata": {},
   "outputs": [
    {
     "data": {
      "text/plain": [
       "array([[[ 1,  0],\n",
       "        [ 2,  2],\n",
       "        [ 4,  4],\n",
       "        [ 6,  6]],\n",
       "\n",
       "       [[-1, -2],\n",
       "        [ 0,  0],\n",
       "        [ 2,  2],\n",
       "        [ 4,  4]]])"
      ]
     },
     "execution_count": 7,
     "metadata": {},
     "output_type": "execute_result"
    }
   ],
   "source": [
    "# ３次元に拡張してから、サンプルから中心点を引く\n",
    "np.tile(a,(2,1,1)) - centroids[:, np.newaxis]"
   ]
  },
  {
   "cell_type": "markdown",
   "metadata": {},
   "source": [
    "## 距離の計算方法"
   ]
  },
  {
   "cell_type": "code",
   "execution_count": 8,
   "metadata": {},
   "outputs": [
    {
     "name": "stdout",
     "output_type": "stream",
     "text": [
      "12.7 µs ± 422 ns per loop (mean ± std. dev. of 7 runs, 100000 loops each)\n"
     ]
    }
   ],
   "source": [
    "# np.linalg.normを使わない方法1\n",
    "%timeit np.sqrt(np.sum(np.power(np.tile(a,(2,1,1)) - centroids[:, np.newaxis],2),axis=2))"
   ]
  },
  {
   "cell_type": "code",
   "execution_count": 9,
   "metadata": {},
   "outputs": [
    {
     "name": "stdout",
     "output_type": "stream",
     "text": [
      "12.9 µs ± 655 ns per loop (mean ± std. dev. of 7 runs, 100000 loops each)\n"
     ]
    }
   ],
   "source": [
    "# np.linalg.normを使わない方法1\n",
    "%timeit np.sqrt(np.sum((np.tile(a,(2,1,1)) - centroids[:, np.newaxis])**2,axis=2))"
   ]
  },
  {
   "cell_type": "code",
   "execution_count": 10,
   "metadata": {},
   "outputs": [
    {
     "name": "stdout",
     "output_type": "stream",
     "text": [
      "14.4 µs ± 634 ns per loop (mean ± std. dev. of 7 runs, 100000 loops each)\n"
     ]
    }
   ],
   "source": [
    "# np.linalg.normを使う方法\n",
    "%timeit np.linalg.norm(np.tile(a,(2,1,1)) - centroids[:, np.newaxis], axis=2)"
   ]
  },
  {
   "cell_type": "markdown",
   "metadata": {},
   "source": [
    "np.linalg.normが速い"
   ]
  },
  {
   "cell_type": "code",
   "execution_count": 11,
   "metadata": {},
   "outputs": [
    {
     "data": {
      "text/plain": [
       "array([[1.        , 2.82842712, 5.65685425, 8.48528137],\n",
       "       [2.23606798, 0.        , 2.82842712, 5.65685425]])"
      ]
     },
     "execution_count": 11,
     "metadata": {},
     "output_type": "execute_result"
    }
   ],
   "source": [
    "d=np.linalg.norm(np.tile(a,(2,1,1)) - centroids[:, np.newaxis], axis=2)\n",
    "d"
   ]
  },
  {
   "cell_type": "code",
   "execution_count": 12,
   "metadata": {},
   "outputs": [
    {
     "data": {
      "text/plain": [
       "array([0, 1, 1, 1])"
      ]
     },
     "execution_count": 12,
     "metadata": {},
     "output_type": "execute_result"
    }
   ],
   "source": [
    "# もっとも距離の近いクラスタを取ってくる\n",
    "np.argmin(d, axis=0)"
   ]
  },
  {
   "cell_type": "code",
   "execution_count": 13,
   "metadata": {},
   "outputs": [
    {
     "name": "stdout",
     "output_type": "stream",
     "text": [
      "[[1.         2.82842712 5.65685425 8.48528137]\n",
      " [2.23606798 0.         2.82842712 5.65685425]]\n",
      "[0 1 1 1]\n",
      "9.485281374238571\n",
      "[[0.         2.23606798 5.         7.81024968]\n",
      " [4.24264069 2.23606798 1.         3.60555128]]\n",
      "[0 0 1 1]\n",
      "6.841619252963779\n",
      "[[0.         2.23606798 5.         7.81024968]\n",
      " [5.65685425 3.60555128 1.         2.23606798]]\n",
      "[0 0 1 1]\n",
      "5.47213595499958\n",
      "[[0.         2.23606798 5.         7.81024968]\n",
      " [5.65685425 3.60555128 1.         2.23606798]]\n",
      "[0 0 1 1]\n",
      "5.47213595499958\n",
      "[[0.         2.23606798 5.         7.81024968]\n",
      " [5.65685425 3.60555128 1.         2.23606798]]\n",
      "[0 0 1 1]\n",
      "5.47213595499958\n",
      "[[0.         2.23606798 5.         7.81024968]\n",
      " [5.65685425 3.60555128 1.         2.23606798]]\n",
      "[0 0 1 1]\n",
      "5.47213595499958\n",
      "[[0.         2.23606798 5.         7.81024968]\n",
      " [5.65685425 3.60555128 1.         2.23606798]]\n",
      "[0 0 1 1]\n",
      "5.47213595499958\n",
      "[[0.         2.23606798 5.         7.81024968]\n",
      " [5.65685425 3.60555128 1.         2.23606798]]\n",
      "[0 0 1 1]\n",
      "5.47213595499958\n",
      "[[0.         2.23606798 5.         7.81024968]\n",
      " [5.65685425 3.60555128 1.         2.23606798]]\n",
      "[0 0 1 1]\n",
      "5.47213595499958\n",
      "[[0.         2.23606798 5.         7.81024968]\n",
      " [5.65685425 3.60555128 1.         2.23606798]]\n",
      "[0 0 1 1]\n",
      "5.47213595499958\n",
      "[[2 2]\n",
      " [6 6]]\n"
     ]
    }
   ],
   "source": [
    "# 少ないサンプルでやってみる\n",
    "col = 2\n",
    "k = 2\n",
    "eta = 10\n",
    "# centroids = np.random.randn(k,col)\n",
    "\n",
    "a= np.array([[2,2],[3,4],[5,6],[7,8]])\n",
    "centroids = np.array([[1,2],[3,4]])\n",
    "for _ in range(eta):\n",
    "    distance = np.linalg.norm(np.tile(a,(2,1,1)) - centroids[:, np.newaxis], axis=2)\n",
    "    cls_member = np.argmin(distance, axis=0)\n",
    "    print(distance)\n",
    "    print(cls_member)\n",
    "\n",
    "    for i in range(k):\n",
    "        if i not in cls_member:\n",
    "            continue\n",
    "        centroids[i] = np.average(a[np.where(cls_member==i)[0]])\n",
    "    label_encode = np.zeros((a.shape[0],k))\n",
    "    label_encode[np.arange(len(cls_member)), cls_member] = 1\n",
    "    sse = np.sum(distance * label_encode.T)\n",
    "    print(sse)\n",
    "    \n",
    "print(centroids)"
   ]
  },
  {
   "cell_type": "code",
   "execution_count": 14,
   "metadata": {},
   "outputs": [
    {
     "data": {
      "text/plain": [
       "array([[0.        , 2.23606798, 5.        , 7.81024968],\n",
       "       [5.65685425, 3.60555128, 1.        , 2.23606798]])"
      ]
     },
     "execution_count": 14,
     "metadata": {},
     "output_type": "execute_result"
    }
   ],
   "source": [
    "distance"
   ]
  },
  {
   "cell_type": "code",
   "execution_count": 15,
   "metadata": {},
   "outputs": [
    {
     "data": {
      "text/plain": [
       "array([[0., 0.],\n",
       "       [0., 0.],\n",
       "       [0., 0.],\n",
       "       [0., 0.]])"
      ]
     },
     "execution_count": 15,
     "metadata": {},
     "output_type": "execute_result"
    }
   ],
   "source": [
    "i = np.zeros((a.shape[0],k))\n",
    "i"
   ]
  },
  {
   "cell_type": "code",
   "execution_count": 16,
   "metadata": {},
   "outputs": [
    {
     "data": {
      "text/plain": [
       "array([[1., 0.],\n",
       "       [1., 0.],\n",
       "       [0., 1.],\n",
       "       [0., 1.]])"
      ]
     },
     "execution_count": 16,
     "metadata": {},
     "output_type": "execute_result"
    }
   ],
   "source": [
    "i[np.arange(len(cls_member)), cls_member] = 1\n",
    "i"
   ]
  },
  {
   "cell_type": "code",
   "execution_count": 17,
   "metadata": {},
   "outputs": [
    {
     "data": {
      "text/plain": [
       "array([[0.        , 2.23606798, 5.        , 7.81024968],\n",
       "       [5.65685425, 3.60555128, 1.        , 2.23606798]])"
      ]
     },
     "execution_count": 17,
     "metadata": {},
     "output_type": "execute_result"
    }
   ],
   "source": [
    "distance"
   ]
  },
  {
   "cell_type": "code",
   "execution_count": 18,
   "metadata": {},
   "outputs": [
    {
     "data": {
      "text/plain": [
       "array([[0.        , 2.23606798, 0.        , 0.        ],\n",
       "       [0.        , 0.        , 1.        , 2.23606798]])"
      ]
     },
     "execution_count": 18,
     "metadata": {},
     "output_type": "execute_result"
    }
   ],
   "source": [
    "distance * i.T"
   ]
  },
  {
   "cell_type": "code",
   "execution_count": 19,
   "metadata": {},
   "outputs": [
    {
     "data": {
      "text/plain": [
       "5.47213595499958"
      ]
     },
     "execution_count": 19,
     "metadata": {},
     "output_type": "execute_result"
    }
   ],
   "source": [
    "np.sum(distance * i.T)"
   ]
  },
  {
   "cell_type": "code",
   "execution_count": 20,
   "metadata": {},
   "outputs": [
    {
     "data": {
      "text/plain": [
       "array([1, 2, 2, 2])"
      ]
     },
     "execution_count": 20,
     "metadata": {},
     "output_type": "execute_result"
    }
   ],
   "source": [
    "np.array([0,1,1,1])+1"
   ]
  },
  {
   "cell_type": "code",
   "execution_count": 21,
   "metadata": {},
   "outputs": [
    {
     "data": {
      "text/plain": [
       "array([[0., 0., 1., 0., 0., 0.],\n",
       "       [0., 0., 0., 1., 0., 0.],\n",
       "       [0., 0., 0., 0., 1., 0.],\n",
       "       [0., 0., 0., 0., 0., 1.],\n",
       "       [0., 0., 0., 0., 0., 1.],\n",
       "       [0., 0., 1., 0., 0., 0.]])"
      ]
     },
     "execution_count": 21,
     "metadata": {},
     "output_type": "execute_result"
    }
   ],
   "source": [
    "j = np.array([1,2,3,4,4,1])+1\n",
    "np.eye(5+1)[j]"
   ]
  },
  {
   "cell_type": "code",
   "execution_count": 22,
   "metadata": {},
   "outputs": [
    {
     "data": {
      "text/plain": [
       "array([[1., 0., 0., 0., 0.],\n",
       "       [0., 0., 1., 0., 0.],\n",
       "       [0., 1., 0., 0., 0.],\n",
       "       [0., 0., 0., 1., 0.],\n",
       "       [0., 0., 0., 0., 1.]])"
      ]
     },
     "execution_count": 22,
     "metadata": {},
     "output_type": "execute_result"
    }
   ],
   "source": [
    "target_vector = [0,2,1,3,4]               # クラス分類を整数値のベクトルで表現したもの\n",
    "n_labels = len(np.unique(target_vector))  # 分類クラスの数 = 5\n",
    "np.eye(n_labels)[target_vector]           # one hot表現に変換"
   ]
  },
  {
   "cell_type": "code",
   "execution_count": 23,
   "metadata": {},
   "outputs": [
    {
     "data": {
      "image/png": "[encoded data removed]",
      "text/plain": [
       "<Figure size 432x288 with 1 Axes>"
      ]
     },
     "metadata": {
      "needs_background": "light"
     },
     "output_type": "display_data"
    }
   ],
   "source": [
    "plt.scatter(a[:,0], a[:, 1], c=cls_member);\n",
    "plt.scatter(centroids[:,0],centroids[:,1], c='r');"
   ]
  },
  {
   "cell_type": "code",
   "execution_count": 24,
   "metadata": {},
   "outputs": [
    {
     "data": {
      "text/plain": [
       "array([[5, 6],\n",
       "       [7, 8]])"
      ]
     },
     "execution_count": 24,
     "metadata": {},
     "output_type": "execute_result"
    }
   ],
   "source": [
    "a[np.where(cls_member==1)[0]]"
   ]
  },
  {
   "cell_type": "code",
   "execution_count": 25,
   "metadata": {},
   "outputs": [],
   "source": [
    "# 実際のサンプルでクラスタリングする\n",
    "col = 2\n",
    "k = 4\n",
    "eta = 1000\n",
    "tol = 1e-4\n",
    "\n",
    "centroids = np.random.randn(k, col)\n",
    "for _ in range(eta):\n",
    "    distance = np.linalg.norm(np.tile(X,(k,1,1)) - centroids[:, np.newaxis], axis=2)\n",
    "    labels = np.argmin(distance, axis=0)\n",
    "    for i in range(k):\n",
    "        before_centroid =  centroids.copy()\n",
    "        if i not in labels:\n",
    "            centroids[i] = X[np.argmax(distance[i])]\n",
    "            continue\n",
    "        \n",
    "        centroids[i] = np.mean(X[np.where(labels==i)[0]],axis=0)\n",
    "        \n",
    "    if np.all(np.abs(centroids-before_centroid)<tol):\n",
    "        break"
   ]
  },
  {
   "cell_type": "code",
   "execution_count": 26,
   "metadata": {},
   "outputs": [
    {
     "data": {
      "image/png": "[encoded data removed]",
      "text/plain": [
       "<Figure size 432x288 with 1 Axes>"
      ]
     },
     "metadata": {
      "needs_background": "light"
     },
     "output_type": "display_data"
    }
   ],
   "source": [
    "plt.scatter(X[:,0], X[:, 1], c=labels);\n",
    "plt.scatter(centroids[:,0],centroids[:,1], c='r');"
   ]
  },
  {
   "cell_type": "code",
   "execution_count": 27,
   "metadata": {},
   "outputs": [
    {
     "data": {
      "text/plain": [
       "[0, 1, 2, 3, 4]"
      ]
     },
     "execution_count": 27,
     "metadata": {},
     "output_type": "execute_result"
    }
   ],
   "source": [
    "a = range(5)\n",
    "list(a)"
   ]
  },
  {
   "cell_type": "code",
   "execution_count": 28,
   "metadata": {},
   "outputs": [
    {
     "name": "stdout",
     "output_type": "stream",
     "text": [
      "264.23375429919713\n",
      "185.137914003397\n",
      "103.8436210515425\n",
      "99.74085667810772\n",
      "59.85668577865749\n",
      "[264.2337543  185.137914   103.84362105  99.74085668  59.85668578]\n"
     ]
    },
    {
     "data": {
      "image/png": "[encoded data removed]",
      "text/plain": [
       "<Figure size 432x288 with 1 Axes>"
      ]
     },
     "metadata": {
      "needs_background": "light"
     },
     "output_type": "display_data"
    }
   ],
   "source": [
    "# 実際のサンプルでクラスタリングする\n",
    "col = 2\n",
    "k = 5\n",
    "eta = 1000\n",
    "tol = 1e-4\n",
    "sse = np.empty(k)\n",
    "for clus in range(1,k+1):\n",
    "    centroids = np.random.randn(clus, col)\n",
    "    for _ in range(eta):\n",
    "        distance = np.linalg.norm(np.tile(X,(clus,1,1)) - centroids[:, np.newaxis], axis=2)\n",
    "        labels = np.argmin(distance, axis=0)\n",
    "        for i in range(clus):\n",
    "            before_centroid =  centroids.copy()\n",
    "            if i not in labels:\n",
    "                centroids[i] = X[np.argmax(distance[i])]\n",
    "                continue\n",
    "\n",
    "            centroids[i] = np.mean(X[np.where(labels==i)[0]],axis=0)\n",
    "\n",
    "        if np.all(np.abs(centroids-before_centroid)<tol):\n",
    "            break\n",
    "\n",
    "    label_encode = np.zeros((X.shape[0],clus))\n",
    "    label_encode[np.arange(X.shape[0]), labels] = 1\n",
    "    sse[clus-1] = np.sum(distance * label_encode.T)\n",
    "    print(sse[clus-1])\n",
    "print(sse)\n",
    "plt.plot(list(range(1,k+1)),sse,marker='o')\n",
    "plt.xticks(list(range(1,k+1)))\n",
    "plt.xlabel('Number of clusters')\n",
    "plt.ylabel('Distortion')\n",
    "plt.show()"
   ]
  },
  {
   "cell_type": "markdown",
   "metadata": {},
   "source": [
    "## クラス化してみる"
   ]
  },
  {
   "cell_type": "code",
   "execution_count": 94,
   "metadata": {},
   "outputs": [],
   "source": [
    "class ScratchKmeans():\n",
    "    def __init__(self,k=4, eta=10000, tol=1e-4):\n",
    "        self.eta = eta\n",
    "        self.tol = tol\n",
    "        self.k = k\n",
    "        \n",
    "    def fit(self, X):\n",
    "        self.centroids = np.random.randn(self.k, X.shape[1])\n",
    "        \n",
    "        for _ in range(self.eta):\n",
    "            self.distance = np.linalg.norm(np.tile(X,(self.k,1,1)) - self.centroids[:, np.newaxis], axis=2)\n",
    "            self.labels = np.argmin(self.distance, axis=0)\n",
    "            \n",
    "            for i in range(self.k):\n",
    "                before_centroid =  self.centroids.copy()\n",
    "                \n",
    "                if i not in self.labels:\n",
    "                    self.centroids[i] = X[np.argmax(self.distance[i])]\n",
    "                    continue\n",
    "                    \n",
    "                self.centroids[i] = np.mean(X[np.where(self.labels==i)[0]],axis=0)\n",
    "            if np.all(np.abs(self.centroids-before_centroid) < self.tol):\n",
    "                break\n",
    "                \n",
    "    def plot(self,classes=4):\n",
    "        self.sse_score = np.empty(classes)\n",
    "        for clus in range(1,classes+1):\n",
    "            centroids = np.random.randn(clus, col)\n",
    "            kmeans = ScratchKmeans(k=clus)\n",
    "            kmeans.fit(X)\n",
    "            \n",
    "            self.sse_score[clus-1] = kmeans.sse()\n",
    "        print(self.sse_score)\n",
    "        fig, ax = plt.subplots(1,2, figsize=(20,5))\n",
    "\n",
    "        ax[0].set_title('Kmeans(k={})'.format(self.k))\n",
    "        ax[0].scatter(X[:,0], X[:, 1], c=self.labels)\n",
    "        ax[0].scatter(self.centroids[:,0], self.centroids[:,1], c='r')\n",
    "        ax[1].set_title('Elbow')\n",
    "        ax[1].plot(list(range(1,classes+1)),self.sse_score,marker='o')\n",
    "        ax[1].set_xticks(list(range(1,classes+1)))\n",
    "        \n",
    "    def sse(self):\n",
    "        label_encode = np.zeros((X.shape[0],self.k))\n",
    "        label_encode[np.arange(X.shape[0]), self.labels] = 1\n",
    "        score = np.sum(self.distance * label_encode.T)\n",
    "        return score"
   ]
  },
  {
   "cell_type": "code",
   "execution_count": 98,
   "metadata": {},
   "outputs": [],
   "source": [
    "kmeans=ScratchKmeans()"
   ]
  },
  {
   "cell_type": "code",
   "execution_count": 99,
   "metadata": {},
   "outputs": [],
   "source": [
    "kmeans.fit(X)"
   ]
  },
  {
   "cell_type": "code",
   "execution_count": 100,
   "metadata": {},
   "outputs": [
    {
     "name": "stdout",
     "output_type": "stream",
     "text": [
      "[264.2337543  169.51988742 103.63271392  99.80887826  59.09886672\n",
      "  55.60103672  56.12825383]\n"
     ]
    },
    {
     "data": {
      "image/png": "[encoded data removed]",
      "text/plain": [
       "<Figure size 1440x360 with 2 Axes>"
      ]
     },
     "metadata": {
      "needs_background": "light"
     },
     "output_type": "display_data"
    }
   ],
   "source": [
    "kmeans.plot(classes=7)"
   ]
  },
  {
   "cell_type": "code",
   "execution_count": null,
   "metadata": {},
   "outputs": [],
   "source": [
    "kmeans.centroids"
   ]
  },
  {
   "cell_type": "code",
   "execution_count": null,
   "metadata": {},
   "outputs": [],
   "source": [
    "kmeans.labels"
   ]
  },
  {
   "cell_type": "code",
   "execution_count": 80,
   "metadata": {},
   "outputs": [
    {
     "data": {
      "text/plain": [
       "array([[-0.3255195 ,  3.72390954],\n",
       "       [ 1.84900694,  1.68295352],\n",
       "       [-1.26811733,  7.76378266],\n",
       "       [ 2.10458645,  0.61362557]])"
      ]
     },
     "execution_count": 80,
     "metadata": {},
     "output_type": "execute_result"
    }
   ],
   "source": [
    "kmeans.centroids"
   ]
  },
  {
   "cell_type": "markdown",
   "metadata": {},
   "source": [
    "## Sklearnとの比較"
   ]
  },
  {
   "cell_type": "code",
   "execution_count": 91,
   "metadata": {},
   "outputs": [],
   "source": [
    "from sklearn.cluster import KMeans\n",
    "kmeans = KMeans(n_clusters=4, init=\"random\").fit(X)"
   ]
  },
  {
   "cell_type": "code",
   "execution_count": 92,
   "metadata": {},
   "outputs": [
    {
     "data": {
      "text/plain": [
       "array([1, 2, 1, 1, 1, 1, 3, 2, 1, 2, 2, 2, 2, 2, 2, 0, 0, 3, 3, 0, 1, 2,\n",
       "       3, 0, 1, 3, 3, 1, 0, 0, 0, 2, 0, 0, 3, 1, 2, 0, 2, 3, 1, 3, 2, 3,\n",
       "       3, 2, 0, 3, 1, 1, 1, 0, 3, 3, 3, 2, 2, 0, 0, 2, 2, 0, 0, 1, 0, 2,\n",
       "       3, 3, 0, 1, 2, 0, 1, 2, 1, 1, 3, 3, 0, 0, 0, 2, 3, 1, 0, 3, 0, 0,\n",
       "       1, 1, 1, 3, 1, 3, 3, 2, 2, 3, 2, 1], dtype=int32)"
      ]
     },
     "execution_count": 92,
     "metadata": {},
     "output_type": "execute_result"
    }
   ],
   "source": [
    "kmeans.labels_"
   ]
  },
  {
   "cell_type": "code",
   "execution_count": 93,
   "metadata": {},
   "outputs": [
    {
     "data": {
      "image/png": "[encoded data removed]",
      "text/plain": [
       "<Figure size 432x288 with 1 Axes>"
      ]
     },
     "metadata": {
      "needs_background": "light"
     },
     "output_type": "display_data"
    }
   ],
   "source": [
    "plt.scatter(X[:,0], X[:, 1], c=kmeans.labels_);\n",
    "plt.scatter(kmeans.cluster_centers_[:,0],kmeans.cluster_centers_[:,1], c='r');"
   ]
  },
  {
   "cell_type": "markdown",
   "metadata": {},
   "source": [
    "## 実験中&TODO"
   ]
  },
  {
   "cell_type": "markdown",
   "metadata": {},
   "source": [
    "- 別解"
   ]
  },
  {
   "cell_type": "code",
   "execution_count": 41,
   "metadata": {},
   "outputs": [
    {
     "ename": "SyntaxError",
     "evalue": "invalid syntax (<ipython-input-41-463261a63ed5>, line 9)",
     "output_type": "error",
     "traceback": [
      "\u001b[0;36m  File \u001b[0;32m\"<ipython-input-41-463261a63ed5>\"\u001b[0;36m, line \u001b[0;32m9\u001b[0m\n\u001b[0;31m    centroids[i] =\u001b[0m\n\u001b[0m                   ^\u001b[0m\n\u001b[0;31mSyntaxError\u001b[0m\u001b[0;31m:\u001b[0m invalid syntax\n"
     ]
    }
   ],
   "source": [
    "centroids = np.random.randn(k, a.shape[0])\n",
    "distance = np.random.randn(k, a.shape[0])\n",
    "for _ in range(eta):\n",
    "    \n",
    "    for i,center in enumerate(centroids):\n",
    "        diff = a - center\n",
    "        distance[i] = np.linalg.norm(diff,axis=1)\n",
    "        print(distance)\n",
    "    centroids[i] = \n",
    "        \n",
    "    cls_member = np.argmin(distance, axis=0) "
   ]
  },
  {
   "cell_type": "code",
   "execution_count": 42,
   "metadata": {},
   "outputs": [
    {
     "data": {
      "text/plain": [
       "array([2, 1, 2])"
      ]
     },
     "execution_count": 42,
     "metadata": {},
     "output_type": "execute_result"
    }
   ],
   "source": [
    "np.argmax(np.array([[1,2,3],\n",
    "                    [5,4,3],\n",
    "                   [6,1,5]]),axis=0)"
   ]
  },
  {
   "cell_type": "code",
   "execution_count": 43,
   "metadata": {},
   "outputs": [],
   "source": [
    "col = 2\n",
    "k = 2\n",
    "centroids = np.random.randn(k,col)\n",
    "dist_list = np.random.randn(X.shape[0])\n",
    "d_centroid_list = []\n",
    "for sample in range(X.shape[0]):\n",
    "    d_centroid1 = np.linalg.norm(sample-centroids[0])\n",
    "    d_centroid2 = np.linalg.norm(sample-centroids[1])\n",
    "    d_centroid = [d_centroid1, d_centroid2]\n",
    "    d_centroid_list.append(d_centroid)\n",
    "#     print(np.argmax(d_centroid))\n",
    "center_label = np.array(d_centroid_list).argmax(axis=1)\n",
    "# unique, count = np.unique(center_label, return_counts=True)\n",
    "# centroids[0] = np.sum(X[np.where(np.unique(center_label)[0])])/(count[0] if center_ else 1)\n",
    "# print(centroids[0])\n",
    "# centroids[1] = np.sum(X[np.where(np.unique(center_label)[1])])/count[1] if np.unique(center_label)!=None else 1)"
   ]
  },
  {
   "cell_type": "code",
   "execution_count": 44,
   "metadata": {},
   "outputs": [
    {
     "name": "stdout",
     "output_type": "stream",
     "text": [
      "[0. 0.]\n",
      "[0.04571483 0.04571483]\n"
     ]
    }
   ],
   "source": [
    "unique, count = np.unique(center_label, return_counts=True)\n",
    "centroids[0] = np.sum(X[np.where(0)])/(count[0] if 0 in center_label else 1)\n",
    "print(centroids[0])\n",
    "centroids[1] = np.sum(X[np.where(1)])/(count[1] if 0&1 in center_label else count[0] if 1 in center_label else 1)\n",
    "print(centroids[1])"
   ]
  },
  {
   "cell_type": "code",
   "execution_count": 45,
   "metadata": {},
   "outputs": [
    {
     "name": "stdout",
     "output_type": "stream",
     "text": [
      "[-0.18986779  3.92858815]\n",
      "[0.05539083 4.00612806]\n",
      "[0.0366827  3.94492709]\n"
     ]
    }
   ],
   "source": [
    "eta = 3\n",
    "col = 2\n",
    "k = 2\n",
    "centroids = np.empty((k,col))\n",
    "dist_list = np.empty(X.shape[0])\n",
    "# fig, ax = plt.subplots(50,1,figsize=(10,500))\n",
    "for _ in range(eta):\n",
    "    d_centroid_list = []\n",
    "    for sample in range(X.shape[0]):\n",
    "        d_centroid1 = np.linalg.norm(sample-centroids[0])\n",
    "        d_centroid2 = np.linalg.norm(sample-centroids[1])\n",
    "        d_centroid = [d_centroid1, d_centroid2]\n",
    "        d_centroid_list.append(d_centroid)\n",
    "    #     print(np.argmax(d_centroid))\n",
    "    center_label = np.array(d_centroid_list).argmax(axis=1)\n",
    "    unique, count = np.unique(center_label, return_counts=True)\n",
    "    centroids[0] = np.sum(X[np.where(center_label==0)],axis=0)/(count[0] if 0 in center_label else 1)\n",
    "    print(centroids[0])\n",
    "    centroids[1] = np.sum(X[np.where(center_label==1)],axis=0)/(count[1] if 0&1 in center_label else count[0] if 1 in center_label else 1)\n",
    "#     print(centroids[1])\n",
    "#     print(centroids)"
   ]
  },
  {
   "cell_type": "code",
   "execution_count": 15,
   "metadata": {},
   "outputs": [
    {
     "name": "stdout",
     "output_type": "stream",
     "text": [
      "[1 1 1 1 0 0 0 0 0 0 0 0 0 0 0 0 0 0 0 0 0 0 0 0 0 0 0 0 0 0 0 0 0 0 0 0 0\n",
      " 0 0 0 0 0 0 0 0 0 0 0 0 0 0 0 0 0 0 0 0 0 0 0 0 0 0 0 0 0 0 0 0 0 0 0 0 0\n",
      " 0 0 0 0 0 0 0 0 0 0 0 0 0 0 0 0 0 0 0 0 0 0 0 0 0 0]\n"
     ]
    }
   ],
   "source": [
    "eta = 100\n",
    "col = 2\n",
    "k = 2\n",
    "centroids = np.empty((k,col))\n",
    "for _ in range(eta):\n",
    "    d_centroid_list = []\n",
    "    for sample in range(X.shape[0]):\n",
    "        d_centroid1 = np.linalg.norm(sample-centroids[0])\n",
    "        d_centroid2 = np.linalg.norm(sample-centroids[1])\n",
    "        d_centroid = [d_centroid1, d_centroid2]\n",
    "        d_centroid_list.append(d_centroid)\n",
    "    #     print(np.argmax(d_centroid))\n",
    "    center_label = np.array(d_centroid_list).argmax(axis=1)\n",
    "    unique, count = np.unique(center_label, return_counts=True)\n",
    "    if unique.shape[0]==k:\n",
    "        centroids[0] = np.sum(X[np.where(center_label==0)],axis=0)/count[0]\n",
    "        centroids[1] = np.sum(X[np.where(center_label==1)],axis=0)/count[1]\n",
    "        \n",
    "    elif 0 in center_label:\n",
    "        centroids[0] = np.sum(X[np.where(center_label==0)],axis=0)/count[0]\n",
    "        centroids[1] = 0\n",
    "        \n",
    "    else:\n",
    "        centroids[0] = 0\n",
    "        centroids[1] = np.sum(X[np.where(center_label==1)],axis=0)/count[0]\n",
    "        \n",
    "    \n",
    "pred_centroid_list = []\n",
    "for sample in range(X.shape[0]):\n",
    "    pred_centroid1 = np.linalg.norm(sample-centroids[0])\n",
    "    pred_centroid2 = np.linalg.norm(sample-centroids[1])\n",
    "    pred_centroid = [pred_centroid1, pred_centroid2]\n",
    "    pred_centroid_list.append(pred_centroid)\n",
    "pred_label = np.array(pred_centroid_list).argmax(axis=1)\n",
    "print(pred_label)"
   ]
  },
  {
   "cell_type": "markdown",
   "metadata": {},
   "source": [
    "- TODO:k-means++の実装"
   ]
  },
  {
   "cell_type": "markdown",
   "metadata": {},
   "source": [
    "- n_init"
   ]
  },
  {
   "cell_type": "code",
   "execution_count": null,
   "metadata": {},
   "outputs": [],
   "source": []
  }
 ],
 "metadata": {
  "kernelspec": {
   "display_name": "Python 3",
   "language": "python",
   "name": "python3"
  },
  "language_info": {
   "codemirror_mode": {
    "name": "ipython",
    "version": 3
   },
   "file_extension": ".py",
   "mimetype": "text/x-python",
   "name": "python",
   "nbconvert_exporter": "python",
   "pygments_lexer": "ipython3",
   "version": "3.6.8"
  }
 },
 "nbformat": 4,
 "nbformat_minor": 2
}
