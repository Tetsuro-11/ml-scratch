{
 "cells": [
  {
   "cell_type": "markdown",
   "metadata": {},
   "source": [
    "# ニューラルネットスクラッチ"
   ]
  },
  {
   "cell_type": "code",
   "execution_count": 1,
   "metadata": {},
   "outputs": [
    {
     "name": "stderr",
     "output_type": "stream",
     "text": [
      "Using TensorFlow backend.\n"
     ]
    }
   ],
   "source": [
    "import numpy as np\n",
    "from keras.datasets import mnist\n",
    "import matplotlib.pyplot as plt\n",
    "from sklearn.preprocessing import OneHotEncoder\n",
    "from sklearn.model_selection import train_test_split\n",
    "from tqdm import tqdm\n",
    "import time\n",
    "from pyprind import ProgBar\n",
    "%matplotlib inline"
   ]
  },
  {
   "cell_type": "markdown",
   "metadata": {},
   "source": [
    "- 実装の流れ\n",
    "  - シグモイド関数の定義\n",
    "  - ソフトマックス関数の定義\n",
    "  - クロスエントロピー関数の定義\n",
    "  - フィードフォワードの定義\n",
    "  - バックプロパゲーションの定義\n",
    "  - クラス化"
   ]
  },
  {
   "cell_type": "markdown",
   "metadata": {},
   "source": [
    "## シグモイド関数の定義"
   ]
  },
  {
   "cell_type": "code",
   "execution_count": 2,
   "metadata": {},
   "outputs": [],
   "source": [
    "def sigmoid(X):\n",
    "    return 1/(1+np.exp(-X))"
   ]
  },
  {
   "cell_type": "markdown",
   "metadata": {},
   "source": [
    "## ソフトマックス関数の定義"
   ]
  },
  {
   "cell_type": "code",
   "execution_count": 3,
   "metadata": {},
   "outputs": [],
   "source": [
    "def softmax(x):\n",
    "    return np.exp(w_in_3)/np.sum(np.exp(w_in_3), axis=1)[:,np.newaxis]"
   ]
  },
  {
   "cell_type": "markdown",
   "metadata": {},
   "source": [
    "- オーバーフロー対策をする"
   ]
  },
  {
   "cell_type": "code",
   "execution_count": 4,
   "metadata": {},
   "outputs": [],
   "source": [
    "def softmax(x):\n",
    "    if x.ndim == 2:\n",
    "        x = x.T\n",
    "        x = x - np.max(x, axis=0)\n",
    "        y = np.exp(x) / np.sum(np.exp(x), axis=0)\n",
    "        return y.T\n",
    "\n",
    "    x = x - np.max(x)\n",
    "    return np.exp(x) / np.sum(np.exp(x))"
   ]
  },
  {
   "cell_type": "markdown",
   "metadata": {},
   "source": [
    "## クロスエントロピーの定義"
   ]
  },
  {
   "cell_type": "code",
   "execution_count": 5,
   "metadata": {},
   "outputs": [],
   "source": [
    "def cross_entropy(y_pred, y_true) :\n",
    "    delta = 1e-7\n",
    "    return -np.sum(y_true*np.log(y_pred+delta))"
   ]
  },
  {
   "cell_type": "markdown",
   "metadata": {},
   "source": [
    "## 簡単なサンプルで実験していく"
   ]
  },
  {
   "cell_type": "code",
   "execution_count": 6,
   "metadata": {},
   "outputs": [],
   "source": [
    "X = np.array([[1,2,3],\n",
    "             [4,5,6]])\n",
    "y = np.array([1,2])"
   ]
  },
  {
   "cell_type": "code",
   "execution_count": 7,
   "metadata": {},
   "outputs": [],
   "source": [
    "batch_size = 2 # バッチサイズ\n",
    "n_features = 3 # 特徴量の数\n",
    "n_nodes1 = 5 # 1層目のノード数\n",
    "n_nodes2 = 4 # 2層目のノード数\n",
    "n_output = 10 # 出力のクラス数（3層目のノード数）"
   ]
  },
  {
   "cell_type": "markdown",
   "metadata": {},
   "source": [
    "- 1層目"
   ]
  },
  {
   "cell_type": "code",
   "execution_count": 8,
   "metadata": {},
   "outputs": [],
   "source": [
    "# 重みとバイアスの初期化\n",
    "W_1 = np.random.randn(n_features,n_nodes1)\n",
    "b_1 = np.random.randn(n_nodes1)"
   ]
  },
  {
   "cell_type": "code",
   "execution_count": 9,
   "metadata": {},
   "outputs": [
    {
     "data": {
      "text/plain": [
       "array([[-2.36544693,  2.0156434 ,  3.3702538 ,  1.85901987, -2.17231613],\n",
       "       [-3.70351887,  2.06696805, 11.50276637,  4.93268709, -3.53497575]])"
      ]
     },
     "execution_count": 9,
     "metadata": {},
     "output_type": "execute_result"
    }
   ],
   "source": [
    "# 内積\n",
    "w_in_i = np.dot(X, W_1)\n",
    "w_in_i"
   ]
  },
  {
   "cell_type": "code",
   "execution_count": 10,
   "metadata": {},
   "outputs": [
    {
     "data": {
      "text/plain": [
       "array([[-3.85647087,  3.97401814,  3.26496391,  0.7537935 , -3.41076277],\n",
       "       [-5.1945428 ,  4.02534279, 11.39747648,  3.82746072, -4.77342239]])"
      ]
     },
     "execution_count": 10,
     "metadata": {},
     "output_type": "execute_result"
    }
   ],
   "source": [
    "# 内積+バイアス\n",
    "w_in_1 = np.dot(X, W_1) + b_1\n",
    "w_in_1"
   ]
  },
  {
   "cell_type": "code",
   "execution_count": 11,
   "metadata": {},
   "outputs": [
    {
     "data": {
      "text/plain": [
       "array([[0.02070473, 0.98154909, 0.96320711, 0.68000472, 0.03196079],\n",
       "       [0.00551615, 0.98245599, 0.99998878, 0.9786988 , 0.00838058]])"
      ]
     },
     "execution_count": 11,
     "metadata": {},
     "output_type": "execute_result"
    }
   ],
   "source": [
    "# シグモイド関数に噛ませる。\n",
    "out_1=sigmoid(w_in_1)\n",
    "out_1"
   ]
  },
  {
   "cell_type": "markdown",
   "metadata": {},
   "source": [
    "- 2層目"
   ]
  },
  {
   "cell_type": "code",
   "execution_count": 12,
   "metadata": {},
   "outputs": [],
   "source": [
    "# 重みの初期化(1層目のノード数、２層目のノード数)\n",
    "W_2 = np.random.randn(n_nodes1, n_nodes2)"
   ]
  },
  {
   "cell_type": "code",
   "execution_count": 13,
   "metadata": {},
   "outputs": [
    {
     "data": {
      "text/plain": [
       "array([[-0.12469756,  2.01193993, -0.88906133, -1.37797294],\n",
       "       [-1.07943265,  0.53607271,  3.01768317,  1.64079522],\n",
       "       [-1.41359714,  0.34281434,  0.5469319 ,  0.25059101],\n",
       "       [ 0.69661312,  1.38007656, -0.53875753, -0.28582336],\n",
       "       [-0.21421562, -0.5511236 , -1.41319095, -0.89971673]])"
      ]
     },
     "execution_count": 13,
     "metadata": {},
     "output_type": "execute_result"
    }
   ],
   "source": [
    "W_2"
   ]
  },
  {
   "cell_type": "code",
   "execution_count": 14,
   "metadata": {},
   "outputs": [
    {
     "data": {
      "text/plain": [
       "array([[0.17058415, 1.37427885, 2.27482287, 2.14591552],\n",
       "       [0.33263021, 1.7820321 , 2.1835799 , 2.11339193]])"
      ]
     },
     "execution_count": 14,
     "metadata": {},
     "output_type": "execute_result"
    }
   ],
   "source": [
    "# バイアスの初期化(2層目のノード数)\n",
    "b_2 = np.random.randn(n_nodes2)\n",
    "\n",
    "# 内積計算\n",
    "w_in_2 = np.dot(out_1, W_2) + b_2\n",
    "w_in_2"
   ]
  },
  {
   "cell_type": "code",
   "execution_count": 15,
   "metadata": {},
   "outputs": [
    {
     "data": {
      "text/plain": [
       "array([[0.16894858, 0.87966368, 0.97907925, 0.97300952],\n",
       "       [0.32088215, 0.94491329, 0.97494345, 0.97122161]])"
      ]
     },
     "execution_count": 15,
     "metadata": {},
     "output_type": "execute_result"
    }
   ],
   "source": [
    "# 活性化関数\n",
    "# out_2=sigmoid(w_in_2) #tanhへ切り替え可能\n",
    "out_2=np.tanh(w_in_2)\n",
    "out_2"
   ]
  },
  {
   "cell_type": "markdown",
   "metadata": {},
   "source": [
    "- ３層目"
   ]
  },
  {
   "cell_type": "code",
   "execution_count": 16,
   "metadata": {},
   "outputs": [
    {
     "data": {
      "text/plain": [
       "array([[ 0.28100519, -0.98995388, -1.97864999,  0.83202602,  1.85531293,\n",
       "         2.10350603,  0.30726983,  0.86213519,  2.59091617,  0.08012837],\n",
       "       [-2.58909306, -1.38591752,  0.57840016,  0.80324877, -1.34874297,\n",
       "         0.21532454, -1.49999161, -0.19732019, -1.29045851, -0.16544126],\n",
       "       [ 0.05446355, -0.88284559,  1.81386994, -1.25932405,  0.65376538,\n",
       "         0.97428779, -1.22362923,  0.85821524,  0.91773689, -1.59063555],\n",
       "       [ 0.16364425, -0.55088103,  0.64063385,  2.06787794, -0.75992366,\n",
       "         0.19385227, -1.77397831,  0.94645227, -0.61502489, -0.38165502]])"
      ]
     },
     "execution_count": 16,
     "metadata": {},
     "output_type": "execute_result"
    }
   ],
   "source": [
    "# 重みの初期化(2層目のノード数, 出力の数)\n",
    "W_3 = np.random.randn(n_nodes2, n_output)\n",
    "W_3"
   ]
  },
  {
   "cell_type": "code",
   "execution_count": 17,
   "metadata": {},
   "outputs": [
    {
     "data": {
      "text/plain": [
       "array([[-1.99679943, -1.80523181,  3.53697987,  2.30624997, -0.94035176,\n",
       "         1.69283875, -3.20924713,  2.73323769,  0.581373  , -2.05232675],\n",
       "       [-2.12356045, -2.0414334 ,  3.26544969,  2.48658545, -0.74781757,\n",
       "         2.02210572, -3.25220399,  2.84610832,  0.88812226, -2.04368661]])"
      ]
     },
     "execution_count": 17,
     "metadata": {},
     "output_type": "execute_result"
    }
   ],
   "source": [
    "# バイアスの初期化(出力の数)\n",
    "b_3 = np.empty(n_output)\n",
    "\n",
    "# 内積計算\n",
    "w_in_3 = np.dot(out_2, W_3) + b_3\n",
    "w_in_3"
   ]
  },
  {
   "cell_type": "code",
   "execution_count": 18,
   "metadata": {},
   "outputs": [
    {
     "data": {
      "text/plain": [
       "array([[0.00200057, 0.00242298, 0.50634167, 0.14789192, 0.00575391,\n",
       "        0.08008356, 0.00059511, 0.22666417, 0.0263536 , 0.00189251],\n",
       "       [0.00180376, 0.00195816, 0.39500017, 0.18127622, 0.00713933,\n",
       "        0.11392521, 0.00058347, 0.2597046 , 0.03665533, 0.00195375]])"
      ]
     },
     "execution_count": 18,
     "metadata": {},
     "output_type": "execute_result"
    }
   ],
   "source": [
    "# ソフトマックス関数\n",
    "softmax(w_in_3)"
   ]
  },
  {
   "cell_type": "markdown",
   "metadata": {},
   "source": [
    "- フィードフォワードをまとめる"
   ]
  },
  {
   "cell_type": "markdown",
   "metadata": {},
   "source": [
    "フォワード    \n",
    "```python\n",
    "batch_size = 2 # バッチサイズ\n",
    "n_features = 3 # 特徴量の数\n",
    "n_nodes1 = 3 # 1層目のノード数\n",
    "n_nodes2 = 4 # 2層目のノード数\n",
    "n_output = 10 # 出力のクラス数（3層目のノード数）\n",
    "# 初期化（1層目）\n",
    "w_1 = np.empty((n_features,n_nodes1))\n",
    "b_1 = np.empty(n_nodes1)\n",
    "w_in_1 = np.dot(X, w_1) + b_1\n",
    "\n",
    "# シグモイド関数に噛ませる。\n",
    "out_1=sigmoid(w_in_1)\n",
    "out_1\n",
    "\n",
    "# ２層目\n",
    "w_2 = np.random.randn(n_nodes1, n_nodes2)\n",
    "b_2 = np.random.randn(n_nodes2)\n",
    "w_in_2 = np.dot(out_1, w_2) + b_2\n",
    "out_2=sigmoid(w_in_2)\n",
    "\n",
    "# ３層目\n",
    "w_3 = np.random.randn(n_nodes2, n_output)\n",
    "b_3 = np.random.randn(n_output)\n",
    "w_in_3 = np.dot(out_2, w_3) + b_3\n",
    "y_pred = softmax(w_in_3)\n",
    "```"
   ]
  },
  {
   "cell_type": "markdown",
   "metadata": {},
   "source": [
    "## バックプロバゲーション"
   ]
  },
  {
   "cell_type": "code",
   "execution_count": 19,
   "metadata": {},
   "outputs": [
    {
     "ename": "NameError",
     "evalue": "name 'y_pred' is not defined",
     "output_type": "error",
     "traceback": [
      "\u001b[0;31m---------------------------------------------------------------------------\u001b[0m",
      "\u001b[0;31mNameError\u001b[0m                                 Traceback (most recent call last)",
      "\u001b[0;32m<ipython-input-19-167bc704013e>\u001b[0m in \u001b[0;36m<module>\u001b[0;34m\u001b[0m\n\u001b[1;32m      1\u001b[0m \u001b[0;31m# 予測値(サンプルデータ)\u001b[0m\u001b[0;34m\u001b[0m\u001b[0;34m\u001b[0m\u001b[0;34m\u001b[0m\u001b[0m\n\u001b[0;32m----> 2\u001b[0;31m \u001b[0my_pred\u001b[0m\u001b[0;34m\u001b[0m\u001b[0;34m\u001b[0m\u001b[0m\n\u001b[0m",
      "\u001b[0;31mNameError\u001b[0m: name 'y_pred' is not defined"
     ]
    }
   ],
   "source": [
    "# 予測値(サンプルデータ)\n",
    "y_pred"
   ]
  },
  {
   "cell_type": "code",
   "execution_count": null,
   "metadata": {},
   "outputs": [],
   "source": [
    "# 実測値（サンプルデータ）\n",
    "y = np.array([[1,0,0,0,0,0,0,0,0,0],\n",
    "             [0,0,1,0,0,0,0,0,0,0]])"
   ]
  },
  {
   "cell_type": "code",
   "execution_count": null,
   "metadata": {},
   "outputs": [],
   "source": [
    "# 誤差\n",
    "y_hat = y_pred-y\n",
    "y_hat"
   ]
  },
  {
   "cell_type": "code",
   "execution_count": null,
   "metadata": {},
   "outputs": [],
   "source": [
    "# バッチの平均をとる\n",
    "np.average(y_hat, axis=0)"
   ]
  },
  {
   "cell_type": "code",
   "execution_count": 20,
   "metadata": {},
   "outputs": [
    {
     "ename": "NameError",
     "evalue": "name 'y_hat' is not defined",
     "output_type": "error",
     "traceback": [
      "\u001b[0;31m---------------------------------------------------------------------------\u001b[0m",
      "\u001b[0;31mNameError\u001b[0m                                 Traceback (most recent call last)",
      "\u001b[0;32m<ipython-input-20-1264094947fb>\u001b[0m in \u001b[0;36m<module>\u001b[0;34m\u001b[0m\n\u001b[1;32m      1\u001b[0m \u001b[0;31m# 内積でサンプルが織り込まれているので、あとで割る。\u001b[0m\u001b[0;34m\u001b[0m\u001b[0;34m\u001b[0m\u001b[0;34m\u001b[0m\u001b[0m\n\u001b[1;32m      2\u001b[0m \u001b[0mlr\u001b[0m \u001b[0;34m=\u001b[0m \u001b[0;36m0.01\u001b[0m\u001b[0;34m\u001b[0m\u001b[0;34m\u001b[0m\u001b[0m\n\u001b[0;32m----> 3\u001b[0;31m \u001b[0mlr\u001b[0m\u001b[0;34m*\u001b[0m\u001b[0mnp\u001b[0m\u001b[0;34m.\u001b[0m\u001b[0mdot\u001b[0m\u001b[0;34m(\u001b[0m\u001b[0mw_in_2\u001b[0m\u001b[0;34m.\u001b[0m\u001b[0mT\u001b[0m\u001b[0;34m,\u001b[0m \u001b[0my_hat\u001b[0m\u001b[0;34m)\u001b[0m\u001b[0;34m/\u001b[0m\u001b[0mbatch_size\u001b[0m\u001b[0;34m\u001b[0m\u001b[0;34m\u001b[0m\u001b[0m\n\u001b[0m",
      "\u001b[0;31mNameError\u001b[0m: name 'y_hat' is not defined"
     ]
    }
   ],
   "source": [
    "# 内積でサンプルが織り込まれているので、あとで割る。\n",
    "lr = 0.01\n",
    "lr*np.dot(w_in_2.T, y_hat)/batch_size"
   ]
  },
  {
   "cell_type": "code",
   "execution_count": 21,
   "metadata": {},
   "outputs": [
    {
     "ename": "NameError",
     "evalue": "name 'y_pred' is not defined",
     "output_type": "error",
     "traceback": [
      "\u001b[0;31m---------------------------------------------------------------------------\u001b[0m",
      "\u001b[0;31mNameError\u001b[0m                                 Traceback (most recent call last)",
      "\u001b[0;32m<ipython-input-21-139a9b25c0bf>\u001b[0m in \u001b[0;36m<module>\u001b[0;34m\u001b[0m\n\u001b[1;32m      1\u001b[0m \u001b[0mlr\u001b[0m \u001b[0;34m=\u001b[0m \u001b[0;36m0.01\u001b[0m\u001b[0;34m\u001b[0m\u001b[0;34m\u001b[0m\u001b[0m\n\u001b[1;32m      2\u001b[0m \u001b[0;31m# 3層目\u001b[0m\u001b[0;34m\u001b[0m\u001b[0;34m\u001b[0m\u001b[0;34m\u001b[0m\u001b[0m\n\u001b[0;32m----> 3\u001b[0;31m \u001b[0my_hat\u001b[0m \u001b[0;34m=\u001b[0m \u001b[0my_pred\u001b[0m \u001b[0;34m-\u001b[0m \u001b[0my\u001b[0m\u001b[0;34m\u001b[0m\u001b[0;34m\u001b[0m\u001b[0m\n\u001b[0m\u001b[1;32m      4\u001b[0m \u001b[0mb_3\u001b[0m \u001b[0;34m=\u001b[0m \u001b[0mb_3\u001b[0m \u001b[0;34m+\u001b[0m \u001b[0mlr\u001b[0m \u001b[0;34m*\u001b[0m \u001b[0mnp\u001b[0m\u001b[0;34m.\u001b[0m\u001b[0maverage\u001b[0m\u001b[0;34m(\u001b[0m\u001b[0my\u001b[0m \u001b[0;34m-\u001b[0m \u001b[0my_hat\u001b[0m\u001b[0;34m,\u001b[0m \u001b[0maxis\u001b[0m\u001b[0;34m=\u001b[0m\u001b[0;36m0\u001b[0m\u001b[0;34m)\u001b[0m\u001b[0;34m\u001b[0m\u001b[0;34m\u001b[0m\u001b[0m\n\u001b[1;32m      5\u001b[0m \u001b[0mback_z2\u001b[0m \u001b[0;34m=\u001b[0m \u001b[0mnp\u001b[0m\u001b[0;34m.\u001b[0m\u001b[0mdot\u001b[0m\u001b[0;34m(\u001b[0m\u001b[0my_hat\u001b[0m\u001b[0;34m,\u001b[0m \u001b[0mw_3\u001b[0m\u001b[0;34m.\u001b[0m\u001b[0mT\u001b[0m\u001b[0;34m)\u001b[0m\u001b[0;34m\u001b[0m\u001b[0;34m\u001b[0m\u001b[0m\n",
      "\u001b[0;31mNameError\u001b[0m: name 'y_pred' is not defined"
     ]
    }
   ],
   "source": [
    "lr = 0.01\n",
    "# 3層目\n",
    "y_hat = y_pred - y\n",
    "b_3 = b_3 + lr * np.average(y - y_hat, axis=0)\n",
    "back_z2 = np.dot(y_hat, w_3.T)\n",
    "w_3 = w_3 + lr * np.dot(w_in_2.T, y_hat)/batch_size\n",
    "\n",
    "# 2層目\n",
    "back_a2 = back_z2 * (1-np.power(np.tanh(w_in_2),2))\n",
    "b_2 = b_2 + lr * np.average(back_a2, axis=0)\n",
    "back_z1 = np.dot(back_a2, w_2.T)\n",
    "w_2 = w_2 + lr * np.dot(w_in_1.T, back_a2)/batch_size\n",
    "\n",
    "\n",
    "# 1層目\n",
    "back_a1 = back_z1 * (1-np.power(np.tanh(w_in_1),2))\n",
    "b_1 = b_1 + lr * np.average(back_a1, axis=0)\n",
    "w_1 = w_1 + lr * np.dot(X.T, back_a1)/batch_size\n"
   ]
  },
  {
   "cell_type": "markdown",
   "metadata": {},
   "source": [
    "## フォワードプロパゲーションとバックプロパゲーション"
   ]
  },
  {
   "cell_type": "markdown",
   "metadata": {},
   "source": [
    "[まとめたコード]\n",
    "```python\n",
    "batch_size = 10 # バッチサイズ\n",
    "n_features = 3 # 特徴量の数\n",
    "n_nodes1 = 3 # 1層目のノード数\n",
    "n_nodes2 = 4 # 2層目のノード数\n",
    "n_output = 10 # 出力のクラス数（3層目のノード数）\n",
    "\n",
    "# フォワードプロパゲーション\n",
    "# 初期化（1層目）\n",
    "w_1 = np.empty((n_features,n_nodes1))\n",
    "b_1 = np.empty(n_nodes1)\n",
    "w_in_1 = np.dot(X, w_1) + b_1\n",
    "\n",
    "# シグモイド関数に噛ませる。\n",
    "out_1=sigmoid(w_in_1)\n",
    "out_1\n",
    "\n",
    "# ２層目\n",
    "w_2 = np.empty((n_nodes1, n_nodes2))\n",
    "b_2 = np.empty(n_nodes2)\n",
    "w_in_2 = np.dot(out_1, w_2) + b_2\n",
    "out_2=sigmoid(w_in_2)\n",
    "\n",
    "# ３層目\n",
    "w_3 = np.empty((n_nodes2, n_output))\n",
    "b_3 = np.empty(n_output)\n",
    "w_in_3 = np.dot(out_2, w_3) + b_3\n",
    "y_pred = softmax(w_in_3)\n",
    "\n",
    "# バックプロパゲーション\n",
    "\n",
    "# 3層目\n",
    "y_hat = y_pred - y\n",
    "b_3 = b_3 + lr * np.average(b_3 - y_hat, axis=0)\n",
    "back_z2 = np.dot(y_hat, w_3.T)\n",
    "w_3 = w_3 + lr * np.dot(w_in_2.T, y_hat)/batch_size\n",
    "\n",
    "# 2層目\n",
    "back_a2 = back_z2 * (1-np.power(np.tanh(w_in_2), 2))\n",
    "b_2 = b_2 + lr * np.average(back_a2, axis=0)\n",
    "back_z1 = np.dot(back_a2, w_2.T)\n",
    "w_2 = w_2 + lr * np.dot(w_in_1.T, back_a2)/batch_size\n",
    "\n",
    "\n",
    "# 1層目\n",
    "back_a1 = back_z1 * (1-np.power(np.tanh(w_in_1), 2))\n",
    "b_1 = b_1 + lr * np.average(back_a1, axis=0)\n",
    "w_1 = w_1 + lr * np.dot(X.T, back_a1)/batch_size\n",
    "```"
   ]
  },
  {
   "cell_type": "markdown",
   "metadata": {},
   "source": [
    "# バッチ学習させてみる"
   ]
  },
  {
   "cell_type": "code",
   "execution_count": 22,
   "metadata": {},
   "outputs": [
    {
     "name": "stdout",
     "output_type": "stream",
     "text": [
      "w_1: [[-0.04500806 -0.04851256]\n",
      " [-0.10503797 -0.0568944 ]]\n",
      "w_1: [[-0.04535317 -0.0473531 ]\n",
      " [-0.10520767 -0.05469955]]\n"
     ]
    }
   ],
   "source": [
    "X = np.array([[1,2,3],\n",
    "             [4,5,6]])\n",
    "# 実測値（サンプルデータ）\n",
    "y = np.array([[1,0,0,0,0,0,0,0,0,0],\n",
    "             [0,0,1,0,0,0,0,0,0,0]])\n",
    "\n",
    "batch_size = 2 # バッチサイズ\n",
    "n_features = 3 # 特徴量の数\n",
    "n_nodes1 = 4 # 1層目のノード数\n",
    "n_nodes2 = 2 # 2層目のノード数\n",
    "n_output = 10 # 出力のクラス数（3層目のノード数）\n",
    "sigma = 0.1 # ガウス分布の標準偏差\n",
    "lr = 0.01\n",
    "\n",
    "w_1 = sigma * np.random.randn(n_features,n_nodes1)\n",
    "b_1 = sigma * np.random.randn(n_nodes1)\n",
    "w_2 = sigma * np.random.randn(n_nodes1, n_nodes2)\n",
    "b_2 = sigma * np.random.randn(n_nodes2)\n",
    "w_3 = sigma * np.random.randn(n_nodes2, n_output)\n",
    "b_3 = np.empty(n_output)\n",
    "for _ in range(2):\n",
    "\n",
    "    # フォワードプロパゲーション\n",
    "    # 初期化（1層目）\n",
    "    # w_1 = np.empty((n_features,n_nodes1))\n",
    "    # b_1 = np.empty(n_nodes1)\n",
    "    w_in_1 = np.dot(X, w_1) + b_1\n",
    "\n",
    "    # シグモイド関数に噛ませる。\n",
    "    out_1=np.tanh(w_in_1)\n",
    "\n",
    "    # ２層目\n",
    "    # w_2 = np.empty((n_nodes1, n_nodes2))\n",
    "    # b_2 = np.empty(n_nodes2)\n",
    "    w_in_2 = np.dot(out_1, w_2) + b_2\n",
    "    out_2=np.tanh(w_in_2)\n",
    "\n",
    "    # ３層目\n",
    "    # w_3 = np.empty((n_nodes2, n_output))\n",
    "    # b_3 = np.empty(n_output)\n",
    "    w_in_3 = np.dot(out_2, w_3) + b_3\n",
    "    y_pred = softmax(w_in_3)\n",
    "\n",
    "    # バックプロパゲーション\n",
    "\n",
    "    # 3層目\n",
    "    y_hat = y_pred - y\n",
    "    b_3 = b_3 - lr * np.average(y_hat, axis=0)\n",
    "    back_z2 = np.dot(y_hat, w_3.T)\n",
    "    w_3 = w_3 - lr * np.dot(out_2.T, y_hat)/batch_size\n",
    "\n",
    "    # 2層目\n",
    "    back_a2 = back_z2 * (1-np.power(np.tanh(w_in_2), 2))\n",
    "    b_2 = b_2 - lr * np.average(back_a2, axis=0)\n",
    "    back_z1 = np.dot(back_a2, w_2.T)\n",
    "    w_2 = w_2 - lr * np.dot(out_1.T, back_a2)/batch_size\n",
    "\n",
    "\n",
    "    # 1層目\n",
    "    back_a1 = back_z1 * (1-np.power(np.tanh(w_in_1), 2))\n",
    "    b_1 = b_1 - lr * np.average(back_a1, axis=0)\n",
    "    w_1 = w_1 - lr * np.dot(X.T, back_a1)/batch_size\n",
    "    \n",
    "    print('w_1: {}'.format(out_2))"
   ]
  },
  {
   "cell_type": "code",
   "execution_count": 23,
   "metadata": {},
   "outputs": [],
   "source": [
    "(X_train, y_train), (X_test, y_test) = mnist.load_data()"
   ]
  },
  {
   "cell_type": "code",
   "execution_count": 24,
   "metadata": {},
   "outputs": [
    {
     "name": "stdout",
     "output_type": "stream",
     "text": [
      "(60000, 28, 28)\n",
      "(10000, 28, 28)\n",
      "uint8\n",
      "[[  0   0   0   0   0   0   0   0   0   0   0   0   0   0   0   0   0   0\n",
      "    0   0   0   0   0   0   0   0   0   0]\n",
      " [  0   0   0   0   0   0   0   0   0   0   0   0   0   0   0   0   0   0\n",
      "    0   0   0   0   0   0   0   0   0   0]\n",
      " [  0   0   0   0   0   0   0   0   0   0   0   0   0   0   0   0   0   0\n",
      "    0   0   0   0   0   0   0   0   0   0]\n",
      " [  0   0   0   0   0   0   0   0   0   0   0   0   0   0   0   0   0   0\n",
      "    0   0   0   0   0   0   0   0   0   0]\n",
      " [  0   0   0   0   0   0   0   0   0   0   0   0   0   0   0   0   0   0\n",
      "    0   0   0   0   0   0   0   0   0   0]\n",
      " [  0   0   0   0   0   0   0   0   0   0   0   0   3  18  18  18 126 136\n",
      "  175  26 166 255 247 127   0   0   0   0]\n",
      " [  0   0   0   0   0   0   0   0  30  36  94 154 170 253 253 253 253 253\n",
      "  225 172 253 242 195  64   0   0   0   0]\n",
      " [  0   0   0   0   0   0   0  49 238 253 253 253 253 253 253 253 253 251\n",
      "   93  82  82  56  39   0   0   0   0   0]\n",
      " [  0   0   0   0   0   0   0  18 219 253 253 253 253 253 198 182 247 241\n",
      "    0   0   0   0   0   0   0   0   0   0]\n",
      " [  0   0   0   0   0   0   0   0  80 156 107 253 253 205  11   0  43 154\n",
      "    0   0   0   0   0   0   0   0   0   0]\n",
      " [  0   0   0   0   0   0   0   0   0  14   1 154 253  90   0   0   0   0\n",
      "    0   0   0   0   0   0   0   0   0   0]\n",
      " [  0   0   0   0   0   0   0   0   0   0   0 139 253 190   2   0   0   0\n",
      "    0   0   0   0   0   0   0   0   0   0]\n",
      " [  0   0   0   0   0   0   0   0   0   0   0  11 190 253  70   0   0   0\n",
      "    0   0   0   0   0   0   0   0   0   0]\n",
      " [  0   0   0   0   0   0   0   0   0   0   0   0  35 241 225 160 108   1\n",
      "    0   0   0   0   0   0   0   0   0   0]\n",
      " [  0   0   0   0   0   0   0   0   0   0   0   0   0  81 240 253 253 119\n",
      "   25   0   0   0   0   0   0   0   0   0]\n",
      " [  0   0   0   0   0   0   0   0   0   0   0   0   0   0  45 186 253 253\n",
      "  150  27   0   0   0   0   0   0   0   0]\n",
      " [  0   0   0   0   0   0   0   0   0   0   0   0   0   0   0  16  93 252\n",
      "  253 187   0   0   0   0   0   0   0   0]\n",
      " [  0   0   0   0   0   0   0   0   0   0   0   0   0   0   0   0   0 249\n",
      "  253 249  64   0   0   0   0   0   0   0]\n",
      " [  0   0   0   0   0   0   0   0   0   0   0   0   0   0  46 130 183 253\n",
      "  253 207   2   0   0   0   0   0   0   0]\n",
      " [  0   0   0   0   0   0   0   0   0   0   0   0  39 148 229 253 253 253\n",
      "  250 182   0   0   0   0   0   0   0   0]\n",
      " [  0   0   0   0   0   0   0   0   0   0  24 114 221 253 253 253 253 201\n",
      "   78   0   0   0   0   0   0   0   0   0]\n",
      " [  0   0   0   0   0   0   0   0  23  66 213 253 253 253 253 198  81   2\n",
      "    0   0   0   0   0   0   0   0   0   0]\n",
      " [  0   0   0   0   0   0  18 171 219 253 253 253 253 195  80   9   0   0\n",
      "    0   0   0   0   0   0   0   0   0   0]\n",
      " [  0   0   0   0  55 172 226 253 253 253 253 244 133  11   0   0   0   0\n",
      "    0   0   0   0   0   0   0   0   0   0]\n",
      " [  0   0   0   0 136 253 253 253 212 135 132  16   0   0   0   0   0   0\n",
      "    0   0   0   0   0   0   0   0   0   0]\n",
      " [  0   0   0   0   0   0   0   0   0   0   0   0   0   0   0   0   0   0\n",
      "    0   0   0   0   0   0   0   0   0   0]\n",
      " [  0   0   0   0   0   0   0   0   0   0   0   0   0   0   0   0   0   0\n",
      "    0   0   0   0   0   0   0   0   0   0]\n",
      " [  0   0   0   0   0   0   0   0   0   0   0   0   0   0   0   0   0   0\n",
      "    0   0   0   0   0   0   0   0   0   0]]\n"
     ]
    }
   ],
   "source": [
    "print(X_train.shape)\n",
    "print(X_test.shape)\n",
    "print(X_train[0].dtype)\n",
    "print(X_train[0])"
   ]
  },
  {
   "cell_type": "markdown",
   "metadata": {},
   "source": [
    "## 平滑化"
   ]
  },
  {
   "cell_type": "code",
   "execution_count": 25,
   "metadata": {},
   "outputs": [],
   "source": [
    "X_train = X_train.reshape(-1, 784)\n",
    "X_test = X_test.reshape(-1, 784)"
   ]
  },
  {
   "cell_type": "code",
   "execution_count": 26,
   "metadata": {},
   "outputs": [
    {
     "data": {
      "image/png": "[encoded data removed]",
      "text/plain": [
       "<Figure size 432x288 with 1 Axes>"
      ]
     },
     "metadata": {
      "needs_background": "light"
     },
     "output_type": "display_data"
    }
   ],
   "source": [
    "# はじめの数字を表示させる\n",
    "index = 0\n",
    "image = X_train[index].reshape(28,28)\n",
    "image = image.astype(np.float) # float型に変換\n",
    "image -= 105.35 # 意図的に負の小数値を作り出してみる\n",
    "plt.imshow(image, 'gray')\n",
    "plt.title('label : {}'.format(y_train[index]))\n",
    "plt.show()\n",
    "# print(image) # 値を確認"
   ]
  },
  {
   "cell_type": "markdown",
   "metadata": {},
   "source": [
    "## データの読み込み&前処理"
   ]
  },
  {
   "cell_type": "code",
   "execution_count": 27,
   "metadata": {},
   "outputs": [],
   "source": [
    "# mnistの読み込み\n",
    "(X_train, y_train), (X_test, y_test) = mnist.load_data()\n",
    "\n",
    "# 平滑化\n",
    "X_train = X_train.reshape(-1, 784)\n",
    "X_test = X_test.reshape(-1, 784)\n",
    "\n",
    "# floatに変換\n",
    "X_train = X_train.astype(np.float)\n",
    "X_test = X_test.astype(np.float)\n",
    "\n",
    "# 正規化\n",
    "X_train /= 255\n",
    "X_test /= 255"
   ]
  },
  {
   "cell_type": "code",
   "execution_count": 28,
   "metadata": {},
   "outputs": [
    {
     "name": "stdout",
     "output_type": "stream",
     "text": [
      "(60000,)\n",
      "(60000, 10)\n",
      "float64\n"
     ]
    }
   ],
   "source": [
    "enc = OneHotEncoder(handle_unknown='ignore', sparse=False)\n",
    "y_train_one_hot = enc.fit_transform(y_train[:, np.newaxis])\n",
    "y_test_one_hot = enc.transform(y_test[:, np.newaxis])\n",
    "print(y_train.shape) # (60000,)\n",
    "print(y_train_one_hot.shape) # (60000, 10)\n",
    "print(y_train_one_hot.dtype) # float64"
   ]
  },
  {
   "cell_type": "code",
   "execution_count": 29,
   "metadata": {},
   "outputs": [
    {
     "name": "stdout",
     "output_type": "stream",
     "text": [
      "(48000, 784)\n",
      "(12000, 784)\n"
     ]
    }
   ],
   "source": [
    "X_train, X_val, y_train, y_val = train_test_split(X_train, y_train_one_hot, test_size=0.2)\n",
    "print(X_train.shape) # (48000, 784)\n",
    "print(X_val.shape) # (12000, 784)"
   ]
  },
  {
   "cell_type": "markdown",
   "metadata": {},
   "source": [
    "- ミニバッチを取得する関数"
   ]
  },
  {
   "cell_type": "code",
   "execution_count": 30,
   "metadata": {},
   "outputs": [],
   "source": [
    "class GetMiniBatch:\n",
    "    \"\"\"\n",
    "    ミニバッチを取得するイテレータ\n",
    "\n",
    "    Parameters\n",
    "    ----------\n",
    "    X : 次の形のndarray, shape (n_samples, n_features)\n",
    "      学習データ\n",
    "    y : 次の形のndarray, shape (n_samples, 1)\n",
    "      正解値\n",
    "    batch_size : int\n",
    "      バッチサイズ\n",
    "    seed : int\n",
    "      NumPyの乱数のシード\n",
    "    \"\"\"\n",
    "    def __init__(self, X, y, batch_size = 10, seed=0):\n",
    "        self.batch_size = batch_size\n",
    "        np.random.seed(seed)\n",
    "        shuffle_index = np.random.permutation(np.arange(X.shape[0]))\n",
    "        self.X = X[shuffle_index]\n",
    "        self.y = y[shuffle_index]\n",
    "        self._stop = np.ceil(X.shape[0]/self.batch_size).astype(np.int)\n",
    "\n",
    "    def __len__(self):\n",
    "        return self._stop\n",
    "\n",
    "    def __getitem__(self,item):\n",
    "        p0 = item*self.batch_size\n",
    "        p1 = item*self.batch_size + self.batch_size\n",
    "        return self.X[p0:p1], self.y[p0:p1]        \n",
    "\n",
    "    def __iter__(self):\n",
    "        self._counter = 0\n",
    "        return self\n",
    "\n",
    "    def __next__(self):\n",
    "        if self._counter >= self._stop:\n",
    "            raise StopIteration()\n",
    "        p0 = self._counter*self.batch_size\n",
    "        p1 = self._counter*self.batch_size + self.batch_size\n",
    "        self._counter += 1\n",
    "        return self.X[p0:p1], self.y[p0:p1]"
   ]
  },
  {
   "cell_type": "markdown",
   "metadata": {},
   "source": [
    "- 活性化関数をハイパボリックタンジェントのみバージョン"
   ]
  },
  {
   "cell_type": "code",
   "execution_count": 40,
   "metadata": {},
   "outputs": [
    {
     "name": "stdout",
     "output_type": "stream",
     "text": [
      "4800\n",
      "epoch: 1\n",
      "epoch: 2\n",
      "epoch: 3\n",
      "epoch: 4\n",
      "epoch: 5\n",
      "epoch: 6\n",
      "epoch: 7\n",
      "epoch: 8\n",
      "epoch: 9\n",
      "epoch: 10\n"
     ]
    }
   ],
   "source": [
    "# 以下をニューラルネットワークのクラス内で呼び出す\n",
    "\n",
    "get_mini_batch = GetMiniBatch(X_train, y_train, batch_size=10)\n",
    "\n",
    "print(len(get_mini_batch)) # 4800\n",
    "batch_size = 10 # バッチサイズ\n",
    "n_features = 784 # 特徴量の数\n",
    "n_nodes1 = 400 # 1層目のノード数\n",
    "n_nodes2 = 200 # 2層目のノード数\n",
    "n_output = 10 # 出力のクラス数（3層目のノード数）\n",
    "epochs = 10\n",
    "\n",
    "\n",
    "sigma = 0.01 # ガウス分布の標準偏差\n",
    "# それぞれの重み、バイアスの初期値\n",
    "w_1 = sigma * np.random.randn(n_features,n_nodes1)\n",
    "b_1 = sigma * np.random.randn(n_nodes1)\n",
    "w_2 = sigma * np.random.randn(n_nodes1, n_nodes2)\n",
    "b_2 = sigma * np.random.randn(n_nodes2)\n",
    "w_3 = sigma * np.random.randn(n_nodes2, n_output)\n",
    "b_3 = sigma * np.random.randn(n_output)\n",
    "lr = 0.01\n",
    "\n",
    "ave_loss_list = np.empty(epochs)\n",
    "\n",
    "for epoch in range(epochs):\n",
    "    print('epoch: {}'.format(epoch+1))\n",
    "    loss_list = np.empty(5)\n",
    "    for mini_X_train, mini_y_train in get_mini_batch:\n",
    "        \n",
    "        # フォワードプロパゲーション\n",
    "        # 初期化（1層目）\n",
    "        # w_1 = np.empty((n_features,n_nodes1))\n",
    "        # b_1 = np.empty(n_nodes1)\n",
    "        w_in_1 = np.dot(mini_X_train, w_1) + b_1\n",
    "\n",
    "        # シグモイド関数に噛ませる。\n",
    "        out_1 = np.tanh(w_in_1)\n",
    "\n",
    "        # ２層目\n",
    "        # w_2 = np.empty((n_nodes1, n_nodes2))\n",
    "        # b_2 = np.empty(n_nodes2)\n",
    "        w_in_2 = np.dot(out_1, w_2) + b_2\n",
    "        out_2 = np.tanh(w_in_2)\n",
    "\n",
    "        # ３層目\n",
    "        # w_3 = np.empty((n_nodes2, n_output))\n",
    "        # b_3 = np.empty(n_output)\n",
    "        w_in_3 = np.dot(out_2, w_3) + b_3\n",
    "        y_pred = softmax(w_in_3)\n",
    "\n",
    "        # バックプロパゲーション\n",
    "\n",
    "        # 3層目\n",
    "        y_hat = y_pred - mini_y_train\n",
    "        b_3 -= lr * np.mean(y_hat, axis=0)\n",
    "        back_z2 = np.dot(y_hat, w_3.T)\n",
    "        w_3 -= lr * np.dot(out_2.T, y_hat)/batch_size\n",
    "\n",
    "        # 2層目\n",
    "        back_a2 = back_z2 * (1-np.power(np.tanh(w_in_2), 2))\n",
    "        b_2 -= lr * np.mean(back_a2, axis=0)\n",
    "        back_z1 = np.dot(back_a2, w_2.T)\n",
    "        w_2 -= lr * np.dot(out_1.T, back_a2)/batch_size\n",
    "\n",
    "\n",
    "        # 1層目\n",
    "        back_a1 = back_z1 * (1-np.power(np.tanh(w_in_1), 2))\n",
    "        b_1 -= lr * np.mean(back_a1, axis=0)\n",
    "        w_1 -= lr * np.dot(mini_X_train.T, back_a1)/batch_size\n",
    "    ave_loss_list[epoch]=cross_entropy(y_pred, mini_y_train)"
   ]
  },
  {
   "cell_type": "code",
   "execution_count": 41,
   "metadata": {},
   "outputs": [
    {
     "data": {
      "image/png": "[encoded data removed]",
      "text/plain": [
       "<Figure size 432x288 with 1 Axes>"
      ]
     },
     "metadata": {
      "needs_background": "light"
     },
     "output_type": "display_data"
    }
   ],
   "source": [
    "plt.plot(ave_loss_list);"
   ]
  },
  {
   "cell_type": "code",
   "execution_count": 42,
   "metadata": {},
   "outputs": [
    {
     "data": {
      "text/plain": [
       "array([[0., 0., 0., 0., 0., 0., 0., 1., 0., 0.],\n",
       "       [0., 0., 0., 0., 0., 0., 0., 0., 0., 1.],\n",
       "       [0., 0., 0., 1., 0., 0., 0., 0., 0., 0.],\n",
       "       [0., 0., 0., 0., 0., 0., 0., 0., 1., 0.],\n",
       "       [0., 0., 0., 1., 0., 0., 0., 0., 0., 0.]])"
      ]
     },
     "execution_count": 42,
     "metadata": {},
     "output_type": "execute_result"
    }
   ],
   "source": [
    "mini_y_train[0:5]"
   ]
  },
  {
   "cell_type": "code",
   "execution_count": 43,
   "metadata": {},
   "outputs": [
    {
     "data": {
      "text/plain": [
       "array([[1.32784073e-05, 5.95520409e-07, 3.14345292e-04, 2.67439404e-03,\n",
       "        1.42093405e-06, 5.79641998e-06, 5.56633329e-11, 9.96734007e-01,\n",
       "        3.34191115e-05, 2.22743235e-04],\n",
       "       [5.25613185e-06, 4.93695592e-05, 2.80010731e-07, 2.49890601e-05,\n",
       "        5.21369854e-02, 1.83426783e-05, 1.36534936e-06, 1.88340301e-02,\n",
       "        2.38027490e-03, 9.26549107e-01],\n",
       "       [1.14351903e-06, 2.73976867e-02, 7.31570587e-03, 7.72189110e-01,\n",
       "        7.70244503e-04, 1.62030782e-01, 3.57418020e-03, 4.44834452e-04,\n",
       "        2.62662680e-02, 1.00448785e-05],\n",
       "       [1.44625846e-06, 8.10718113e-05, 6.62876524e-04, 4.88003974e-04,\n",
       "        4.84749241e-05, 2.66806153e-04, 1.75922247e-06, 1.93483560e-05,\n",
       "        9.97837748e-01, 5.92464806e-04],\n",
       "       [2.67657497e-06, 1.73123564e-05, 2.07490165e-05, 5.66542695e-01,\n",
       "        4.76440292e-06, 4.32855258e-01, 3.41456498e-07, 4.05919826e-06,\n",
       "        4.66159828e-04, 8.59841807e-05]])"
      ]
     },
     "execution_count": 43,
     "metadata": {},
     "output_type": "execute_result"
    }
   ],
   "source": [
    "y_pred[0:5]"
   ]
  },
  {
   "cell_type": "code",
   "execution_count": 59,
   "metadata": {},
   "outputs": [
    {
     "data": {
      "text/plain": [
       "array([5, 2, 2, 6, 1, 4, 7, 9, 0, 9])"
      ]
     },
     "execution_count": 59,
     "metadata": {},
     "output_type": "execute_result"
    }
   ],
   "source": [
    "np.argmax(y_pred[0:5],axis=1)"
   ]
  },
  {
   "cell_type": "code",
   "execution_count": 67,
   "metadata": {},
   "outputs": [
    {
     "data": {
      "text/plain": [
       "array([5, 2, 2, 6, 1])"
      ]
     },
     "execution_count": 67,
     "metadata": {},
     "output_type": "execute_result"
    }
   ],
   "source": [
    "np.argmax(mini_y_train[0:5], axis=1)"
   ]
  },
  {
   "cell_type": "markdown",
   "metadata": {},
   "source": [
    "- シグモイドのみバージョン\n",
    "\n",
    "学習率をうまく設定しないと局所最適解に落ち込む"
   ]
  },
  {
   "cell_type": "code",
   "execution_count": 68,
   "metadata": {},
   "outputs": [
    {
     "name": "stdout",
     "output_type": "stream",
     "text": [
      "epoch: 1\n",
      "epoch: 2\n"
     ]
    }
   ],
   "source": [
    "# 以下をニューラルネットワークのクラス内で呼び出す\n",
    "\n",
    "get_mini_batch = GetMiniBatch(X_train, y_train, batch_size=10)\n",
    "\n",
    "batch_size = 10 # バッチサイズ\n",
    "n_features = 784 # 特徴量の数\n",
    "n_nodes1 = 400 # 1層目のノード数\n",
    "n_nodes2 = 200 # 2層目のノード数\n",
    "n_output = 10 # 出力のクラス数（3層目のノード数）\n",
    "\n",
    "\n",
    "sigma = 0.01 # ガウス分布の標準偏差\n",
    "# それぞれの重み、バイアスの初期値\n",
    "w_1 = sigma * np.random.randn(n_features,n_nodes1)\n",
    "b_1 = sigma * np.random.randn(n_nodes1)\n",
    "w_2 = sigma * np.random.randn(n_nodes1, n_nodes2)\n",
    "b_2 = sigma * np.random.randn(n_nodes2)\n",
    "w_3 = sigma * np.random.randn(n_nodes2, n_output)\n",
    "b_3 = sigma * np.random.randn(n_output)\n",
    "lr = 0.1\n",
    "\n",
    "loss_list = []\n",
    "\n",
    "for epoch in range(2):\n",
    "    print('epoch: {}'.format(epoch+1))\n",
    "    for mini_X_train, mini_y_train in get_mini_batch:\n",
    "        \n",
    "        # フォワードプロパゲーション\n",
    "        # 初期化（1層目）\n",
    "        # w_1 = np.empty((n_features,n_nodes1))\n",
    "        # b_1 = np.empty(n_nodes1)\n",
    "        w_in_1 = np.dot(mini_X_train, w_1) + b_1\n",
    "\n",
    "        # シグモイド関数に噛ませる。\n",
    "        out_1 = sigmoid(w_in_1)  #(10,400)\n",
    "        \n",
    "\n",
    "        # ２層目\n",
    "        w_in_2 = np.dot(out_1, w_2) + b_2 #(10,400),(400,200)=(10,200)\n",
    "        out_2 = sigmoid(w_in_2) \n",
    "\n",
    "        # ３層目\n",
    "        w_in_3 = np.dot(out_2, w_3) + b_3\n",
    "        y_pred = softmax(w_in_3)\n",
    "\n",
    "        # バックプロパゲーション\n",
    "        # 3層目\n",
    "        y_hat = y_pred - mini_y_train #(10,)\n",
    "        b_3 -= lr * np.mean(y_hat, axis=0)\n",
    "        back_z2 = np.dot(y_hat, w_3.T) #(10,10)(10,200)\n",
    "        w_3 -= lr * np.dot(out_2.T, y_hat)/batch_size #\n",
    "\n",
    "        # 2層目\n",
    "        back_a2 = back_z2 * (1-sigmoid(w_in_2)) * sigmoid(w_in_2) #(10,200)\n",
    "        b_2 -= lr * np.mean(back_a2, axis=0)\n",
    "        back_z1 = np.dot(back_a2, w_2.T) #(10,200),(200,400)\n",
    "        w_2 -= lr * np.dot(out_1.T, back_a2)/batch_size #(400,10)(10,200)\n",
    "\n",
    "\n",
    "        # 1層目\n",
    "        back_a1 = back_z1 * (1-sigmoid(w_in_1)) * sigmoid(w_in_1) #(10,400)\n",
    "        b_1 -= lr * np.mean(back_a1, axis=0)\n",
    "        w_1 -= lr * np.dot(mini_X_train.T, back_a1)/batch_size #(784,10),(10, 400)\n",
    "    loss = loss_list.append(cross_entropy(y_pred, mini_y_train))"
   ]
  },
  {
   "cell_type": "code",
   "execution_count": 69,
   "metadata": {},
   "outputs": [
    {
     "data": {
      "image/png": "[encoded data removed]",
      "text/plain": [
       "<Figure size 432x288 with 1 Axes>"
      ]
     },
     "metadata": {
      "needs_background": "light"
     },
     "output_type": "display_data"
    }
   ],
   "source": [
    "plt.plot(loss_list);"
   ]
  },
  {
   "cell_type": "code",
   "execution_count": 73,
   "metadata": {},
   "outputs": [
    {
     "data": {
      "text/plain": [
       "array([[2.65553657e-01, 1.70460083e-03, 2.01632813e-02, 4.82745083e-03,\n",
       "        5.71951025e-02, 3.05834570e-01, 2.80821776e-01, 2.39790479e-03,\n",
       "        5.19222820e-02, 9.57937455e-03],\n",
       "       [8.74627935e-05, 3.36899656e-04, 4.15280164e-04, 1.80015224e-03,\n",
       "        2.00721360e-01, 2.86458631e-02, 9.72241424e-05, 3.96996714e-02,\n",
       "        7.73151271e-03, 7.20464574e-01],\n",
       "       [1.70728717e-01, 2.18421262e-04, 2.67387960e-03, 7.73348675e-03,\n",
       "        2.80510703e-02, 5.85660570e-01, 2.09403077e-02, 2.96375090e-04,\n",
       "        1.71576775e-01, 1.21203976e-02],\n",
       "       [6.66743083e-14, 3.42794683e-03, 1.36865090e-06, 1.08682755e-04,\n",
       "        2.76210931e-07, 5.31100269e-06, 8.12669244e-11, 9.91003039e-01,\n",
       "        3.16268447e-06, 5.45021259e-03],\n",
       "       [1.08555194e-03, 8.74090149e-04, 1.31717620e-02, 1.07865793e-04,\n",
       "        6.36587066e-03, 8.97112619e-03, 9.46711845e-01, 7.28244655e-05,\n",
       "        2.22765786e-02, 3.62484796e-04]])"
      ]
     },
     "execution_count": 73,
     "metadata": {},
     "output_type": "execute_result"
    }
   ],
   "source": [
    "# フォワードプロパゲーション\n",
    "# 1層目\n",
    "w_in_1 = np.dot(X_train[0:10], w_1) + b_1\n",
    "out_1 = sigmoid(w_in_1)\n",
    "\n",
    "# 2層目\n",
    "w_in_2 = np.dot(out_1, w_2) + b_2\n",
    "out_2 = sigmoid(w_in_2)\n",
    "\n",
    "# ３層目\n",
    "w_in_3 = np.dot(out_2, w_3) + b_3\n",
    "y_pred = softmax(w_in_3)\n",
    "y_pred[0:5]"
   ]
  },
  {
   "cell_type": "code",
   "execution_count": 76,
   "metadata": {},
   "outputs": [
    {
     "data": {
      "text/plain": [
       "array([5, 9, 5, 7, 6])"
      ]
     },
     "execution_count": 76,
     "metadata": {},
     "output_type": "execute_result"
    }
   ],
   "source": [
    "np.argmax(y_pred[0:5],axis=1)"
   ]
  },
  {
   "cell_type": "code",
   "execution_count": 77,
   "metadata": {},
   "outputs": [
    {
     "data": {
      "text/plain": [
       "array([6, 9, 5, 7, 6])"
      ]
     },
     "execution_count": 77,
     "metadata": {},
     "output_type": "execute_result"
    }
   ],
   "source": [
    "np.argmax(y_train[0:5], axis=1)"
   ]
  },
  {
   "cell_type": "markdown",
   "metadata": {},
   "source": [
    "## クラス化"
   ]
  },
  {
   "cell_type": "code",
   "execution_count": 84,
   "metadata": {},
   "outputs": [],
   "source": [
    "class ScratchSimpleNeuralNetworkClassifier():\n",
    "    def __init__(self, verbose=True, lr=0.1, sigma=0.01):\n",
    "        self.verbose = True\n",
    "        self.batch_size = 10 # バッチサイズ\n",
    "        self.n_features = 784 # 特徴量の数\n",
    "        self.n_nodes1 = 400 # 1層目のノード数\n",
    "        self.n_nodes2 = 200 # 2層目のノード数\n",
    "        self.n_output = 10 # 出力のクラス数（3層目のノード数）\n",
    "        self.sigma = 0.01 # ガウス分布の標準偏差\n",
    "        self.lr = 0.1\n",
    "        self.n_epoch = 5\n",
    "        self.loss_list = []\n",
    "        \n",
    "        # それぞれの重み、バイアスの初期値\n",
    "        self.w_1 = self.sigma * np.random.randn(self.n_features,self.n_nodes1)\n",
    "        self.b_1 = self.sigma * np.random.randn(self.n_nodes1)\n",
    "        self.w_2 = self.sigma * np.random.randn(self.n_nodes1, self.n_nodes2)\n",
    "        self.b_2 = self.sigma * np.random.randn(self.n_nodes2)\n",
    "        self.w_3 = self.sigma * np.random.randn(self.n_nodes2, self.n_output)\n",
    "        self.b_3 = self.sigma * np.random.randn(self.n_output)\n",
    "    \n",
    "    def fit(self, X_train, y_train): \n",
    "        get_mini_batch = GetMiniBatch(X_train, y_train, batch_size=10)\n",
    "        for epoch in range(self.n_epoch):\n",
    "            print('epoch: {}'.format(epoch+1))\n",
    "            for mini_X_train, mini_y_train in get_mini_batch:\n",
    "\n",
    "                # forward\n",
    "                # 1層目\n",
    "                w_in_1 = np.dot(mini_X_train, self.w_1) + self.b_1\n",
    "                out_1 = self._sigmoid(w_in_1) \n",
    "\n",
    "                # ２層目\n",
    "                w_in_2 = np.dot(out_1, self.w_2) + self.b_2\n",
    "                out_2 = self._sigmoid(w_in_2)\n",
    "\n",
    "                # ３層目\n",
    "                w_in_3 = np.dot(out_2, self.w_3) + self.b_3\n",
    "                y_pred = self._softmax(w_in_3)\n",
    "                \n",
    "\n",
    "                # backpropagation\n",
    "                # 3層目\n",
    "                y_hat = y_pred - mini_y_train\n",
    "                self.b_3 -= self.lr * np.mean(y_hat, axis=0)\n",
    "                back_z2 = np.dot(y_hat, self.w_3.T)\n",
    "                self.w_3 -= self.lr * np.dot(out_2.T, y_hat)/self.batch_size\n",
    "\n",
    "                # 2層目\n",
    "                back_a2 = back_z2 * (1 - self._sigmoid(w_in_2)) * self._sigmoid(w_in_2) #(10,200)\n",
    "                self.b_2 -= self.lr * np.mean(back_a2, axis=0)\n",
    "                back_z1 = np.dot(back_a2, self.w_2.T)\n",
    "                self.w_2 -= self.lr * np.dot(out_1.T, back_a2)/self.batch_size\n",
    "\n",
    "\n",
    "                # 1層目\n",
    "                back_a1 = back_z1 * (1-self._sigmoid(w_in_1)) * self._sigmoid(w_in_1) #(10,400)(10,400)\n",
    "                self.b_1 -= self.lr * np.mean(back_a1, axis=0)\n",
    "                self.w_1 -= self.lr * np.dot(mini_X_train.T, back_a1)/self.batch_size\n",
    "                \n",
    "                \n",
    "                \n",
    "                \n",
    "            # lossの格納\n",
    "            self.loss_list.append(self._cross_entropy(y_pred, mini_y_train))\n",
    "                \n",
    "    def predict(self, X):\n",
    "        \n",
    "        # forward\n",
    "        # 1層目\n",
    "        w_in_1 = np.dot(X, self.w_1) + self.b_1\n",
    "        out_1 = self._sigmoid(w_in_1) \n",
    "        # ２層目\n",
    "        w_in_2 = np.dot(out_1, self.w_2) + self.b_2\n",
    "        out_2 = self._sigmoid(w_in_2)\n",
    "        # ３層目\n",
    "        w_in_3 = np.dot(out_2, self.w_3) + self.b_3\n",
    "        y_pred = self._softmax(w_in_3)\n",
    "        return y_pred\n",
    "    \n",
    "    def _softmax(self, X):\n",
    "        if X.ndim == 2:\n",
    "            X = X.T\n",
    "            X = X - np.max(X, axis=0)\n",
    "            y = np.exp(X) / np.sum(np.exp(X), axis=0)\n",
    "            return y.T\n",
    "\n",
    "        X = X - np.max(X)\n",
    "        return np.exp(X) / np.sum(np.exp(X))\n",
    "\n",
    "    def _sigmoid(self, X):\n",
    "        return 1/(1+np.exp(-X))\n",
    "    \n",
    "    def _cross_entropy(self,y_pred, y_true):\n",
    "        delta = 1e-7\n",
    "        return -np.sum(y_true*np.log(y_pred+delta))"
   ]
  },
  {
   "cell_type": "code",
   "execution_count": 85,
   "metadata": {},
   "outputs": [
    {
     "name": "stdout",
     "output_type": "stream",
     "text": [
      "epoch: 1\n",
      "epoch: 2\n",
      "epoch: 3\n",
      "epoch: 4\n",
      "epoch: 5\n"
     ]
    }
   ],
   "source": [
    "# 学習\n",
    "cls=ScratchSimpleNeuralNetworkClassifier()\n",
    "cls.fit(X_train,y_train)"
   ]
  },
  {
   "cell_type": "code",
   "execution_count": 86,
   "metadata": {},
   "outputs": [
    {
     "data": {
      "text/plain": [
       "array([[1.92534887e-04, 8.66044571e-04, 6.53142234e-03, 1.28014813e-04,\n",
       "        1.40699086e-03, 6.09202944e-03, 9.83990608e-01, 1.00532745e-04,\n",
       "        6.24188256e-04, 6.76340675e-05],\n",
       "       [2.25773781e-07, 2.06219014e-04, 2.42967389e-04, 7.05399735e-04,\n",
       "        4.83932482e-01, 3.56908475e-03, 5.63700273e-05, 2.96201404e-02,\n",
       "        3.84634822e-04, 4.81282476e-01],\n",
       "       [3.20842339e-02, 3.88876562e-04, 3.87140565e-03, 1.66244107e-03,\n",
       "        9.63338727e-03, 1.90075265e-01, 3.60315517e-02, 1.62010044e-04,\n",
       "        7.07278255e-01, 1.88125736e-02],\n",
       "       [2.15393814e-12, 1.08006214e-04, 2.27812329e-05, 1.44872225e-04,\n",
       "        1.12283007e-08, 2.94622643e-07, 3.51578841e-11, 9.99395760e-01,\n",
       "        8.99581014e-07, 3.27375190e-04],\n",
       "       [3.86716827e-06, 1.54861791e-04, 9.41415659e-04, 2.61486887e-06,\n",
       "        9.78430311e-05, 5.48242796e-04, 9.97989025e-01, 2.59503498e-06,\n",
       "        2.57977747e-04, 1.55734627e-06],\n",
       "       [9.26567492e-07, 1.54940546e-02, 3.01679700e-03, 3.41152488e-03,\n",
       "        2.11843511e-04, 9.48949801e-03, 5.18660583e-04, 3.61666840e-04,\n",
       "        9.64685968e-01, 2.80905974e-03],\n",
       "       [4.11715591e-05, 3.83283427e-07, 4.81981518e-04, 2.86981146e-05,\n",
       "        1.30913894e-01, 3.18099327e-05, 3.17795078e-05, 6.84205442e-03,\n",
       "        3.32783819e-05, 8.61594949e-01],\n",
       "       [1.36211875e-05, 2.99256401e-04, 7.18265609e-04, 4.40108409e-04,\n",
       "        2.46431734e-03, 6.15834306e-03, 1.06954823e-02, 2.85393980e-05,\n",
       "        9.78537942e-01, 6.44124252e-04],\n",
       "       [9.90718497e-01, 6.75037024e-06, 9.51523571e-04, 2.27324515e-04,\n",
       "        1.15179111e-03, 3.60553514e-03, 2.40017234e-03, 2.18550587e-04,\n",
       "        2.08516772e-04, 5.11338899e-04],\n",
       "       [1.93552275e-10, 9.93839039e-01, 2.57506631e-04, 1.63449168e-04,\n",
       "        1.61088831e-06, 1.16968267e-03, 4.02976012e-04, 1.69967471e-04,\n",
       "        3.96826892e-03, 2.74991078e-05]])"
      ]
     },
     "execution_count": 86,
     "metadata": {},
     "output_type": "execute_result"
    }
   ],
   "source": [
    "# 予測\n",
    "cls.predict(X_train[0:10])"
   ]
  },
  {
   "cell_type": "code",
   "execution_count": 81,
   "metadata": {},
   "outputs": [
    {
     "data": {
      "text/plain": [
       "array([6, 4, 8, 7, 6, 8, 9, 8, 0, 1])"
      ]
     },
     "execution_count": 81,
     "metadata": {},
     "output_type": "execute_result"
    }
   ],
   "source": [
    "np.argmax(cls.predict(X_train[0:10]), axis=1)"
   ]
  },
  {
   "cell_type": "code",
   "execution_count": 82,
   "metadata": {},
   "outputs": [
    {
     "data": {
      "text/plain": [
       "array([6, 9, 5, 7, 6, 8, 9, 8, 0, 1])"
      ]
     },
     "execution_count": 82,
     "metadata": {},
     "output_type": "execute_result"
    }
   ],
   "source": [
    "np.argmax(y_train[0:10], axis=1)"
   ]
  },
  {
   "cell_type": "code",
   "execution_count": 83,
   "metadata": {},
   "outputs": [
    {
     "data": {
      "image/png": "[encoded data removed]",
      "text/plain": [
       "<Figure size 432x288 with 1 Axes>"
      ]
     },
     "metadata": {
      "needs_background": "light"
     },
     "output_type": "display_data"
    }
   ],
   "source": [
    "plt.plot(cls.loss_list);"
   ]
  },
  {
   "cell_type": "code",
   "execution_count": 88,
   "metadata": {},
   "outputs": [
    {
     "data": {
      "text/plain": [
       "array([[-0.04752356, -0.01116454, -0.02432698, ...,  0.01590032,\n",
       "        -0.02203637, -0.01942821],\n",
       "       [-0.02641531,  0.0019915 , -0.01730184, ..., -0.04709532,\n",
       "        -0.0158493 , -0.02150225],\n",
       "       [ 0.01875989,  0.01550628,  0.0079539 , ..., -0.02583768,\n",
       "         0.00933875, -0.03191508],\n",
       "       ...,\n",
       "       [ 0.03630938, -0.01820441,  0.02383364, ..., -0.00695979,\n",
       "         0.01235886, -0.02458938],\n",
       "       [-0.0211741 , -0.01617245, -0.00271825, ..., -0.01229068,\n",
       "        -0.01621293, -0.01481077],\n",
       "       [-0.00433718, -0.00238841, -0.02228155, ..., -0.03050808,\n",
       "        -0.01504199, -0.0334816 ]])"
      ]
     },
     "execution_count": 88,
     "metadata": {},
     "output_type": "execute_result"
    }
   ],
   "source": [
    "cls.w_2"
   ]
  }
 ],
 "metadata": {
  "kernelspec": {
   "display_name": "Python 3",
   "language": "python",
   "name": "python3"
  },
  "language_info": {
   "codemirror_mode": {
    "name": "ipython",
    "version": 3
   },
   "file_extension": ".py",
   "mimetype": "text/x-python",
   "name": "python",
   "nbconvert_exporter": "python",
   "pygments_lexer": "ipython3",
   "version": "3.6.10"
  }
 },
 "nbformat": 4,
 "nbformat_minor": 4
}
