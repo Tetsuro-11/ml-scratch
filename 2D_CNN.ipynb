{
 "cells": [
  {
   "cell_type": "markdown",
   "metadata": {},
   "source": [
    "# 2次元CNN"
   ]
  },
  {
   "cell_type": "code",
   "execution_count": 1,
   "metadata": {},
   "outputs": [],
   "source": [
    "import numpy as np"
   ]
  },
  {
   "cell_type": "code",
   "execution_count": 37,
   "metadata": {},
   "outputs": [],
   "source": [
    "w = np.array([\n",
    "            [[[1,2],\n",
    "              [3,4]]],\n",
    "             [[[1,2],\n",
    "               [3,4]]]\n",
    "])\n",
    "              \n",
    "test1 = np.array([\n",
    "                 [[[0, 1, 0], \n",
    "                   [0, 1, 0],\n",
    "                   [0, 1, 0]],\n",
    "                 [[0, 1, 0], \n",
    "                   [0, 1, 0],\n",
    "                   [0, 1, 0]]],\n",
    "                 [[[0, 2, 0], \n",
    "                   [0, 2, 0],\n",
    "                   [0, 2, 0]],\n",
    "                 [[0, 2, 0], \n",
    "                   [0, 2, 0],\n",
    "                   [0, 2, 0]]]\n",
    "])"
   ]
  },
  {
   "cell_type": "code",
   "execution_count": 39,
   "metadata": {},
   "outputs": [],
   "source": [
    "test0 = np.array([\n",
    "                 [[[0, 1, 0], \n",
    "                   [0, 1, 0],\n",
    "                   [0, 1, 0]]],\n",
    "                 [[[0, 2, 0], \n",
    "                   [0, 2, 0],\n",
    "                   [0, 2, 0]]]\n",
    "])"
   ]
  },
  {
   "cell_type": "code",
   "execution_count": 20,
   "metadata": {},
   "outputs": [
    {
     "data": {
      "text/plain": [
       "array([[[0, 1],\n",
       "        [0, 1]]])"
      ]
     },
     "execution_count": 20,
     "metadata": {},
     "output_type": "execute_result"
    }
   ],
   "source": [
    "test1[0,0:2,0:2,0:2]"
   ]
  },
  {
   "cell_type": "code",
   "execution_count": 23,
   "metadata": {},
   "outputs": [
    {
     "data": {
      "text/plain": [
       "array([[[0, 1],\n",
       "        [0, 1]]])"
      ]
     },
     "execution_count": 23,
     "metadata": {},
     "output_type": "execute_result"
    }
   ],
   "source": [
    "test1[0,0:1,0:2,0:2]"
   ]
  },
  {
   "cell_type": "code",
   "execution_count": 34,
   "metadata": {},
   "outputs": [
    {
     "data": {
      "text/plain": [
       "array([[[1, 2],\n",
       "        [3, 4]]])"
      ]
     },
     "execution_count": 34,
     "metadata": {},
     "output_type": "execute_result"
    }
   ],
   "source": [
    "w[0]"
   ]
  },
  {
   "cell_type": "code",
   "execution_count": 43,
   "metadata": {},
   "outputs": [
    {
     "data": {
      "text/plain": [
       "array([[[[12.,  8.],\n",
       "         [12.,  8.]]],\n",
       "\n",
       "\n",
       "       [[[24., 16.],\n",
       "         [24., 16.]]]])"
      ]
     },
     "execution_count": 43,
     "metadata": {},
     "output_type": "execute_result"
    }
   ],
   "source": [
    "test2 = np.empty((2,1,2,2))\n",
    "for sample in range(2):\n",
    "    for row in range(2):\n",
    "        for col in range(2):\n",
    "            test2[sample, 0, row, col] = np.sum(test1[sample, :, row:row+2, col:col+2] * w[sample])\n",
    "test2"
   ]
  },
  {
   "cell_type": "code",
   "execution_count": 45,
   "metadata": {},
   "outputs": [
    {
     "data": {
      "text/plain": [
       "array([[[0, 2],\n",
       "        [0, 4]],\n",
       "\n",
       "       [[0, 2],\n",
       "        [0, 4]]])"
      ]
     },
     "execution_count": 45,
     "metadata": {},
     "output_type": "execute_result"
    }
   ],
   "source": [
    "test1[0, :, 0:2, 0:2] * w[0]"
   ]
  },
  {
   "cell_type": "code",
   "execution_count": 40,
   "metadata": {},
   "outputs": [
    {
     "data": {
      "text/plain": [
       "array([[[[ 6.,  4.],\n",
       "         [ 6.,  4.]]],\n",
       "\n",
       "\n",
       "       [[[12.,  8.],\n",
       "         [12.,  8.]]]])"
      ]
     },
     "execution_count": 40,
     "metadata": {},
     "output_type": "execute_result"
    }
   ],
   "source": [
    "test2 = np.empty((2,1,2,2))\n",
    "n_sample = 2\n",
    "\n",
    "for sample in range(n_sample):\n",
    "    for row in range(2):\n",
    "        for col in range(2):\n",
    "            test2[sample, 0, row, col] = np.sum(test0[sample, 0:1, row:row+2, col:col+2] * w[sample])\n",
    "test2"
   ]
  },
  {
   "cell_type": "code",
   "execution_count": null,
   "metadata": {},
   "outputs": [],
   "source": []
  }
 ],
 "metadata": {
  "kernelspec": {
   "display_name": "Python 3",
   "language": "python",
   "name": "python3"
  },
  "language_info": {
   "codemirror_mode": {
    "name": "ipython",
    "version": 3
   },
   "file_extension": ".py",
   "mimetype": "text/x-python",
   "name": "python",
   "nbconvert_exporter": "python",
   "pygments_lexer": "ipython3",
   "version": "3.6.10"
  }
 },
 "nbformat": 4,
 "nbformat_minor": 4
}
